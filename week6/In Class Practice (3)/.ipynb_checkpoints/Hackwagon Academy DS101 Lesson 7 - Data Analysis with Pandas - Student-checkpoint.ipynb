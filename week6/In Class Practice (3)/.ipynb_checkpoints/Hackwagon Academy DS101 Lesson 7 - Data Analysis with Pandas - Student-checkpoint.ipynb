{
 "cells": [
  {
   "cell_type": "markdown",
   "metadata": {},
   "source": [
    "<center><img src=\"https://i2.wp.com/hackwagon.com/wp-content/uploads/2017/02/Logo-Web-Export.png?ssl=1\" width=200/></center>\n",
    "\n",
    "<h1> Hackwagon Academy DS101 Lesson 7 </h1>\n",
    "<h2>🐼 Data Analysis with Pandas 🐼</h2> \n",
    "<h3> Lesson Outline </h3>\n",
    "\n",
    "\n",
    "- 1. [Pandas](#1)\n",
    "    - 1.1 [Series](#1.1)\n",
    "    - 1.2 [DataFrame](#1.2)\n",
    "        - 1.2.1 [Manual Way](#1.2.1)\n",
    "        - 1.2.2 [Pandas Way](#1.2.2)\n",
    "    - 1.3 [Filtering](#1.3)\n",
    "    - 1.4 [Statistical Operations](#1.4)\n",
    "    - [Practice I](#P1)\n",
    "    - 1.5 [Visualisation](#1.5)\n",
    "        - 1.5.1 [Bar Chart](#1.5.1)\n",
    "        - 1.5.2 [Line Chart](#1.5.2)\n",
    "        - 1.5.3 [Scatter Plot](#1.5.3) \n",
    "    - [Practice II](#P2)\n",
    "- 2. [Airbnb Dataset](#2)\n",
    "- 3. [Practice III](#P3)"
   ]
  },
  {
   "cell_type": "markdown",
   "metadata": {},
   "source": [
    "<a id='1'><h2><img src=\"https://images.vexels.com/media/users/3/153978/isolated/preview/483ef8b10a46e28d02293a31570c8c56-warning-sign-colored-stroke-icon-by-vexels.png\" width=25 align=\"left\"><font color=\"salmon\">&nbsp;1.</font><font color=\"salmon\"> Pandas </font> </h2></a>\n",
    "\n",
    "<i>\"Pandas is a software library written for the Python programming language for data manipulation and analysis. In particular, it offers data structures and operations for manipulating numerical tables and time series.\"</i>\n",
    "\n",
    "To know more about <b>pandas</b>, read the documentation here: http://pandas.pydata.org/pandas-docs/stable/"
   ]
  },
  {
   "cell_type": "code",
   "execution_count": 1,
   "metadata": {},
   "outputs": [],
   "source": [
    "import pandas as pd"
   ]
  },
  {
   "cell_type": "markdown",
   "metadata": {},
   "source": [
    "<a id=\"1.1\"> <h3>1.1 DataFrame </h3></a>\n",
    "\n",
    "A two-dimensional, tabular data structure with labeled axes (rows and columns), and is the **primary** pandas data structure. You can think of a `DataFrame` as a spreadsheet in Python.\n",
    "A `DataFrame` is made up of multiple `Series` objects stuck together vertically and horizontally. <br>"
   ]
  },
  {
   "cell_type": "markdown",
   "metadata": {},
   "source": [
    "<a id=\"1.1.1\"> <h4>1.1.1 Manual Way </h4></a>\n",
    "\n",
    "Using a combination of lists and dictionaries\n",
    "#### List of Lists"
   ]
  },
  {
   "cell_type": "code",
   "execution_count": 6,
   "metadata": {},
   "outputs": [
    {
     "data": {
      "text/html": [
       "<div>\n",
       "<style scoped>\n",
       "    .dataframe tbody tr th:only-of-type {\n",
       "        vertical-align: middle;\n",
       "    }\n",
       "\n",
       "    .dataframe tbody tr th {\n",
       "        vertical-align: top;\n",
       "    }\n",
       "\n",
       "    .dataframe thead th {\n",
       "        text-align: right;\n",
       "    }\n",
       "</style>\n",
       "<table border=\"1\" class=\"dataframe\">\n",
       "  <thead>\n",
       "    <tr style=\"text-align: right;\">\n",
       "      <th></th>\n",
       "      <th>name</th>\n",
       "      <th>age</th>\n",
       "      <th>salary</th>\n",
       "    </tr>\n",
       "  </thead>\n",
       "  <tbody>\n",
       "    <tr>\n",
       "      <th>0</th>\n",
       "      <td>Alex</td>\n",
       "      <td>20</td>\n",
       "      <td>1050</td>\n",
       "    </tr>\n",
       "    <tr>\n",
       "      <th>1</th>\n",
       "      <td>Bob</td>\n",
       "      <td>52</td>\n",
       "      <td>1400</td>\n",
       "    </tr>\n",
       "    <tr>\n",
       "      <th>2</th>\n",
       "      <td>Cat</td>\n",
       "      <td>23</td>\n",
       "      <td>1690</td>\n",
       "    </tr>\n",
       "  </tbody>\n",
       "</table>\n",
       "</div>"
      ],
      "text/plain": [
       "   name  age  salary\n",
       "0  Alex   20    1050\n",
       "1   Bob   52    1400\n",
       "2   Cat   23    1690"
      ]
     },
     "execution_count": 6,
     "metadata": {},
     "output_type": "execute_result"
    }
   ],
   "source": [
    "data = [\n",
    "    ['Alex', 20, 1050],\n",
    "    ['Bob', 52, 1400],\n",
    "    ['Cat', 23, 1690]\n",
    "]\n",
    "\n",
    "# Write your code below:\n",
    "df = pd.DataFrame(data, columns = ['name','age','salary'])\n",
    "df"
   ]
  },
  {
   "cell_type": "markdown",
   "metadata": {},
   "source": [
    "#### List of Dictionaries"
   ]
  },
  {
   "cell_type": "code",
   "execution_count": 12,
   "metadata": {},
   "outputs": [
    {
     "data": {
      "text/html": [
       "<div>\n",
       "<style scoped>\n",
       "    .dataframe tbody tr th:only-of-type {\n",
       "        vertical-align: middle;\n",
       "    }\n",
       "\n",
       "    .dataframe tbody tr th {\n",
       "        vertical-align: top;\n",
       "    }\n",
       "\n",
       "    .dataframe thead th {\n",
       "        text-align: right;\n",
       "    }\n",
       "</style>\n",
       "<table border=\"1\" class=\"dataframe\">\n",
       "  <thead>\n",
       "    <tr style=\"text-align: right;\">\n",
       "      <th></th>\n",
       "      <th>A</th>\n",
       "      <th>B</th>\n",
       "      <th>C</th>\n",
       "    </tr>\n",
       "  </thead>\n",
       "  <tbody>\n",
       "    <tr>\n",
       "      <th>0</th>\n",
       "      <td>Alex</td>\n",
       "      <td>20</td>\n",
       "      <td>1050</td>\n",
       "    </tr>\n",
       "    <tr>\n",
       "      <th>1</th>\n",
       "      <td>Bob</td>\n",
       "      <td>52</td>\n",
       "      <td>1400</td>\n",
       "    </tr>\n",
       "    <tr>\n",
       "      <th>2</th>\n",
       "      <td>Cat</td>\n",
       "      <td>23</td>\n",
       "      <td>1690</td>\n",
       "    </tr>\n",
       "  </tbody>\n",
       "</table>\n",
       "</div>"
      ],
      "text/plain": [
       "      A   B     C\n",
       "0  Alex  20  1050\n",
       "1   Bob  52  1400\n",
       "2   Cat  23  1690"
      ]
     },
     "execution_count": 12,
     "metadata": {},
     "output_type": "execute_result"
    }
   ],
   "source": [
    "data = [\n",
    "    {'name': 'Alex', 'age': 20, 'salary': 1050},\n",
    "    {'name': 'Bob', 'age': 52, 'salary': 1400},\n",
    "    {'name': 'Cat', 'age': 23, 'salary': 1690}\n",
    "]\n",
    "\n",
    "# Write your code below:\n",
    "\n",
    "df = pd.DataFrame(data) #, columns = ['name','AGE','salary'])\n",
    "df.columns = ['A','B','C']\n",
    "df"
   ]
  },
  {
   "cell_type": "markdown",
   "metadata": {},
   "source": [
    "<a id=\"1.1.2\"> <h4>1.2.2 From Dataset </h4></a>\n",
    "\n",
    "With `pandas`, opening a file is simply just using the `.read_csv()` function. Download the <b>Graduates dataset</b> from elearn `\"graduates-from-university-first-degree-courses-by-type-of-course_CLEAN.csv\"`.\n",
    "\n",
    "```python\n",
    "pd.read_csv(\"filename.csv\")\n",
    "```"
   ]
  },
  {
   "cell_type": "code",
   "execution_count": 23,
   "metadata": {
    "scrolled": true
   },
   "outputs": [
    {
     "data": {
      "text/html": [
       "<div>\n",
       "<style scoped>\n",
       "    .dataframe tbody tr th:only-of-type {\n",
       "        vertical-align: middle;\n",
       "    }\n",
       "\n",
       "    .dataframe tbody tr th {\n",
       "        vertical-align: top;\n",
       "    }\n",
       "\n",
       "    .dataframe thead th {\n",
       "        text-align: right;\n",
       "    }\n",
       "</style>\n",
       "<table border=\"1\" class=\"dataframe\">\n",
       "  <thead>\n",
       "    <tr style=\"text-align: right;\">\n",
       "      <th></th>\n",
       "      <th>year</th>\n",
       "      <th>sex</th>\n",
       "      <th>type_of_course</th>\n",
       "      <th>no_of_graduates</th>\n",
       "    </tr>\n",
       "  </thead>\n",
       "  <tbody>\n",
       "    <tr>\n",
       "      <th>0</th>\n",
       "      <td>1993</td>\n",
       "      <td>Males</td>\n",
       "      <td>Education</td>\n",
       "      <td>0</td>\n",
       "    </tr>\n",
       "    <tr>\n",
       "      <th>1</th>\n",
       "      <td>1993</td>\n",
       "      <td>Males</td>\n",
       "      <td>Applied Arts</td>\n",
       "      <td>0</td>\n",
       "    </tr>\n",
       "    <tr>\n",
       "      <th>2</th>\n",
       "      <td>1993</td>\n",
       "      <td>Males</td>\n",
       "      <td>Humanities &amp; Social Sciences</td>\n",
       "      <td>481</td>\n",
       "    </tr>\n",
       "    <tr>\n",
       "      <th>3</th>\n",
       "      <td>1993</td>\n",
       "      <td>Males</td>\n",
       "      <td>Mass Communication</td>\n",
       "      <td>0</td>\n",
       "    </tr>\n",
       "    <tr>\n",
       "      <th>4</th>\n",
       "      <td>1993</td>\n",
       "      <td>Males</td>\n",
       "      <td>Accountancy</td>\n",
       "      <td>295</td>\n",
       "    </tr>\n",
       "    <tr>\n",
       "      <th>5</th>\n",
       "      <td>1993</td>\n",
       "      <td>Males</td>\n",
       "      <td>Business &amp; Administration</td>\n",
       "      <td>282</td>\n",
       "    </tr>\n",
       "    <tr>\n",
       "      <th>6</th>\n",
       "      <td>1993</td>\n",
       "      <td>Males</td>\n",
       "      <td>Law</td>\n",
       "      <td>92</td>\n",
       "    </tr>\n",
       "    <tr>\n",
       "      <th>7</th>\n",
       "      <td>1993</td>\n",
       "      <td>Males</td>\n",
       "      <td>Natural, Physical &amp; Mathematical Sciences</td>\n",
       "      <td>404</td>\n",
       "    </tr>\n",
       "    <tr>\n",
       "      <th>8</th>\n",
       "      <td>1993</td>\n",
       "      <td>Males</td>\n",
       "      <td>Medicine</td>\n",
       "      <td>95</td>\n",
       "    </tr>\n",
       "    <tr>\n",
       "      <th>9</th>\n",
       "      <td>1993</td>\n",
       "      <td>Males</td>\n",
       "      <td>Dentistry</td>\n",
       "      <td>14</td>\n",
       "    </tr>\n",
       "  </tbody>\n",
       "</table>\n",
       "</div>"
      ],
      "text/plain": [
       "   year    sex                             type_of_course  no_of_graduates\n",
       "0  1993  Males                                  Education                0\n",
       "1  1993  Males                               Applied Arts                0\n",
       "2  1993  Males               Humanities & Social Sciences              481\n",
       "3  1993  Males                         Mass Communication                0\n",
       "4  1993  Males                                Accountancy              295\n",
       "5  1993  Males                  Business & Administration              282\n",
       "6  1993  Males                                        Law               92\n",
       "7  1993  Males  Natural, Physical & Mathematical Sciences              404\n",
       "8  1993  Males                                   Medicine               95\n",
       "9  1993  Males                                  Dentistry               14"
      ]
     },
     "metadata": {},
     "output_type": "display_data"
    },
    {
     "data": {
      "text/html": [
       "<div>\n",
       "<style scoped>\n",
       "    .dataframe tbody tr th:only-of-type {\n",
       "        vertical-align: middle;\n",
       "    }\n",
       "\n",
       "    .dataframe tbody tr th {\n",
       "        vertical-align: top;\n",
       "    }\n",
       "\n",
       "    .dataframe thead th {\n",
       "        text-align: right;\n",
       "    }\n",
       "</style>\n",
       "<table border=\"1\" class=\"dataframe\">\n",
       "  <thead>\n",
       "    <tr style=\"text-align: right;\">\n",
       "      <th></th>\n",
       "      <th>year</th>\n",
       "      <th>sex</th>\n",
       "      <th>type_of_course</th>\n",
       "      <th>no_of_graduates</th>\n",
       "    </tr>\n",
       "  </thead>\n",
       "  <tbody>\n",
       "    <tr>\n",
       "      <th>650</th>\n",
       "      <td>2014</td>\n",
       "      <td>Females</td>\n",
       "      <td>Business &amp; Administration</td>\n",
       "      <td>846</td>\n",
       "    </tr>\n",
       "    <tr>\n",
       "      <th>651</th>\n",
       "      <td>2014</td>\n",
       "      <td>Females</td>\n",
       "      <td>Law</td>\n",
       "      <td>176</td>\n",
       "    </tr>\n",
       "    <tr>\n",
       "      <th>652</th>\n",
       "      <td>2014</td>\n",
       "      <td>Females</td>\n",
       "      <td>Natural, Physical &amp; Mathematical Sciences</td>\n",
       "      <td>1103</td>\n",
       "    </tr>\n",
       "    <tr>\n",
       "      <th>653</th>\n",
       "      <td>2014</td>\n",
       "      <td>Females</td>\n",
       "      <td>Medicine</td>\n",
       "      <td>127</td>\n",
       "    </tr>\n",
       "    <tr>\n",
       "      <th>654</th>\n",
       "      <td>2014</td>\n",
       "      <td>Females</td>\n",
       "      <td>Dentistry</td>\n",
       "      <td>30</td>\n",
       "    </tr>\n",
       "    <tr>\n",
       "      <th>655</th>\n",
       "      <td>2014</td>\n",
       "      <td>Females</td>\n",
       "      <td>Health Sciences</td>\n",
       "      <td>309</td>\n",
       "    </tr>\n",
       "    <tr>\n",
       "      <th>656</th>\n",
       "      <td>2014</td>\n",
       "      <td>Females</td>\n",
       "      <td>Information Technology</td>\n",
       "      <td>289</td>\n",
       "    </tr>\n",
       "    <tr>\n",
       "      <th>657</th>\n",
       "      <td>2014</td>\n",
       "      <td>Females</td>\n",
       "      <td>Architecture &amp; Building</td>\n",
       "      <td>258</td>\n",
       "    </tr>\n",
       "    <tr>\n",
       "      <th>658</th>\n",
       "      <td>2014</td>\n",
       "      <td>Females</td>\n",
       "      <td>Engineering Sciences</td>\n",
       "      <td>1251</td>\n",
       "    </tr>\n",
       "    <tr>\n",
       "      <th>659</th>\n",
       "      <td>2014</td>\n",
       "      <td>Females</td>\n",
       "      <td>Services</td>\n",
       "      <td>219</td>\n",
       "    </tr>\n",
       "  </tbody>\n",
       "</table>\n",
       "</div>"
      ],
      "text/plain": [
       "     year      sex                             type_of_course  no_of_graduates\n",
       "650  2014  Females                  Business & Administration              846\n",
       "651  2014  Females                                        Law              176\n",
       "652  2014  Females  Natural, Physical & Mathematical Sciences             1103\n",
       "653  2014  Females                                   Medicine              127\n",
       "654  2014  Females                                  Dentistry               30\n",
       "655  2014  Females                            Health Sciences              309\n",
       "656  2014  Females                     Information Technology              289\n",
       "657  2014  Females                    Architecture & Building              258\n",
       "658  2014  Females                       Engineering Sciences             1251\n",
       "659  2014  Females                                   Services              219"
      ]
     },
     "metadata": {},
     "output_type": "display_data"
    },
    {
     "data": {
      "text/html": [
       "<div>\n",
       "<style scoped>\n",
       "    .dataframe tbody tr th:only-of-type {\n",
       "        vertical-align: middle;\n",
       "    }\n",
       "\n",
       "    .dataframe tbody tr th {\n",
       "        vertical-align: top;\n",
       "    }\n",
       "\n",
       "    .dataframe thead th {\n",
       "        text-align: right;\n",
       "    }\n",
       "</style>\n",
       "<table border=\"1\" class=\"dataframe\">\n",
       "  <thead>\n",
       "    <tr style=\"text-align: right;\">\n",
       "      <th></th>\n",
       "      <th>year</th>\n",
       "      <th>sex</th>\n",
       "      <th>type_of_course</th>\n",
       "      <th>no_of_graduates</th>\n",
       "    </tr>\n",
       "  </thead>\n",
       "  <tbody>\n",
       "    <tr>\n",
       "      <th>249</th>\n",
       "      <td>2001</td>\n",
       "      <td>Males</td>\n",
       "      <td>Dentistry</td>\n",
       "      <td>19</td>\n",
       "    </tr>\n",
       "    <tr>\n",
       "      <th>424</th>\n",
       "      <td>2007</td>\n",
       "      <td>Males</td>\n",
       "      <td>Accountancy</td>\n",
       "      <td>260</td>\n",
       "    </tr>\n",
       "    <tr>\n",
       "      <th>74</th>\n",
       "      <td>1995</td>\n",
       "      <td>Males</td>\n",
       "      <td>Services</td>\n",
       "      <td>0</td>\n",
       "    </tr>\n",
       "    <tr>\n",
       "      <th>619</th>\n",
       "      <td>2013</td>\n",
       "      <td>Females</td>\n",
       "      <td>Accountancy</td>\n",
       "      <td>688</td>\n",
       "    </tr>\n",
       "    <tr>\n",
       "      <th>560</th>\n",
       "      <td>2011</td>\n",
       "      <td>Females</td>\n",
       "      <td>Business &amp; Administration</td>\n",
       "      <td>944</td>\n",
       "    </tr>\n",
       "  </tbody>\n",
       "</table>\n",
       "</div>"
      ],
      "text/plain": [
       "     year      sex             type_of_course  no_of_graduates\n",
       "249  2001    Males                  Dentistry               19\n",
       "424  2007    Males                Accountancy              260\n",
       "74   1995    Males                   Services                0\n",
       "619  2013  Females                Accountancy              688\n",
       "560  2011  Females  Business & Administration              944"
      ]
     },
     "metadata": {},
     "output_type": "display_data"
    }
   ],
   "source": [
    "# Write your code below:\n",
    "\n",
    "df = pd.read_csv('graduates-from-university-first-degree-courses-by-type-of-course_CLEAN.csv')\n",
    "# Get a sense of how your data looks likes\n",
    "display(df.head(10))\n",
    "display(df.tail(10))\n",
    "display(df.sample(5))\n",
    "# df.head(10)\n",
    "# df.tail(10)"
   ]
  },
  {
   "cell_type": "markdown",
   "metadata": {},
   "source": [
    "<a id=\"1.2\"> <h3>1.2 Series </h3></a>\n",
    "\n",
    "A `Series` == Row / Column of a `Dataframe`\n",
    "\n",
    "- Extracting a column from a `Dataframe` is very similar to accessing data in a `dictionary`. "
   ]
  },
  {
   "cell_type": "code",
   "execution_count": 24,
   "metadata": {},
   "outputs": [
    {
     "data": {
      "text/plain": [
       "0    10\n",
       "1    20\n",
       "2    30\n",
       "3    40\n",
       "dtype: int64"
      ]
     },
     "execution_count": 24,
     "metadata": {},
     "output_type": "execute_result"
    }
   ],
   "source": [
    "numbers = [10,20,30,40]\n",
    "\n",
    "# Write your code below:\n",
    "s = pd.Series(numbers)\n",
    "s"
   ]
  },
  {
   "cell_type": "markdown",
   "metadata": {},
   "source": [
    "#### Extracting a row (Series) from a DataFrame\n",
    "\n",
    "We can extract a row using the `.iloc[]` function where in the `[]` is the row number."
   ]
  },
  {
   "cell_type": "code",
   "execution_count": 30,
   "metadata": {},
   "outputs": [
    {
     "data": {
      "text/html": [
       "<div>\n",
       "<style scoped>\n",
       "    .dataframe tbody tr th:only-of-type {\n",
       "        vertical-align: middle;\n",
       "    }\n",
       "\n",
       "    .dataframe tbody tr th {\n",
       "        vertical-align: top;\n",
       "    }\n",
       "\n",
       "    .dataframe thead th {\n",
       "        text-align: right;\n",
       "    }\n",
       "</style>\n",
       "<table border=\"1\" class=\"dataframe\">\n",
       "  <thead>\n",
       "    <tr style=\"text-align: right;\">\n",
       "      <th></th>\n",
       "      <th>year</th>\n",
       "      <th>sex</th>\n",
       "      <th>type_of_course</th>\n",
       "      <th>no_of_graduates</th>\n",
       "    </tr>\n",
       "  </thead>\n",
       "  <tbody>\n",
       "    <tr>\n",
       "      <th>0</th>\n",
       "      <td>1993</td>\n",
       "      <td>Males</td>\n",
       "      <td>Education</td>\n",
       "      <td>0</td>\n",
       "    </tr>\n",
       "    <tr>\n",
       "      <th>1</th>\n",
       "      <td>1993</td>\n",
       "      <td>Males</td>\n",
       "      <td>Applied Arts</td>\n",
       "      <td>0</td>\n",
       "    </tr>\n",
       "    <tr>\n",
       "      <th>2</th>\n",
       "      <td>1993</td>\n",
       "      <td>Males</td>\n",
       "      <td>Humanities &amp; Social Sciences</td>\n",
       "      <td>481</td>\n",
       "    </tr>\n",
       "    <tr>\n",
       "      <th>3</th>\n",
       "      <td>1993</td>\n",
       "      <td>Males</td>\n",
       "      <td>Mass Communication</td>\n",
       "      <td>0</td>\n",
       "    </tr>\n",
       "    <tr>\n",
       "      <th>4</th>\n",
       "      <td>1993</td>\n",
       "      <td>Males</td>\n",
       "      <td>Accountancy</td>\n",
       "      <td>295</td>\n",
       "    </tr>\n",
       "  </tbody>\n",
       "</table>\n",
       "</div>"
      ],
      "text/plain": [
       "   year    sex                type_of_course  no_of_graduates\n",
       "0  1993  Males                     Education                0\n",
       "1  1993  Males                  Applied Arts                0\n",
       "2  1993  Males  Humanities & Social Sciences              481\n",
       "3  1993  Males            Mass Communication                0\n",
       "4  1993  Males                   Accountancy              295"
      ]
     },
     "metadata": {},
     "output_type": "display_data"
    },
    {
     "data": {
      "text/plain": [
       "year                    1993\n",
       "sex                    Males\n",
       "type_of_course     Education\n",
       "no_of_graduates            0\n",
       "Name: 0, dtype: object"
      ]
     },
     "execution_count": 30,
     "metadata": {},
     "output_type": "execute_result"
    }
   ],
   "source": [
    "# Write your code below:\n",
    "display(df.head())\n",
    "df.iloc[0]\n"
   ]
  },
  {
   "cell_type": "markdown",
   "metadata": {},
   "source": [
    "#### Extracting a column (Series) from a DataFrame\n",
    "\n",
    "We can extract a column in a `DataFrame` by just calling the column header, similar to a dictionary. "
   ]
  },
  {
   "cell_type": "code",
   "execution_count": 34,
   "metadata": {
    "scrolled": true
   },
   "outputs": [
    {
     "data": {
      "text/plain": [
       "0      1993\n",
       "1      1993\n",
       "2      1993\n",
       "3      1993\n",
       "4      1993\n",
       "       ... \n",
       "655    2014\n",
       "656    2014\n",
       "657    2014\n",
       "658    2014\n",
       "659    2014\n",
       "Name: year, Length: 660, dtype: int64"
      ]
     },
     "metadata": {},
     "output_type": "display_data"
    }
   ],
   "source": [
    "# Write your code below:\n",
    "# df['year']\n",
    "display(df.year)\n",
    "\n",
    "\n",
    "# df['year of graduation']"
   ]
  },
  {
   "cell_type": "markdown",
   "metadata": {},
   "source": [
    "<a id=\"1.3\"> <h3>1.3 Filtering </h3></a>\n",
    "\n",
    "We can filter for results within a `DataFrame` to get the data we want. \n",
    "\n",
    "We specify the column we want to isolate in the DataFrame, then specify the boolean condition we are looking for. For example, we want to find the `Females` in the `Sex` column. \n",
    "\n",
    "```python\n",
    "df['sex'] == 'Females'\n",
    "\n",
    "# or for multiple conditions, we link them by & (and) or | (or) symbols\n",
    "# where each condition is surrounded by a ()\n",
    "\n",
    "(df['sex'] == 'Females') & (df['type_of_course'] == 'Medicine')\n",
    "\n",
    "```\n",
    "\n",
    "This gives us a Boolean Series of multiple `True` and `False` values. "
   ]
  },
  {
   "cell_type": "code",
   "execution_count": 37,
   "metadata": {
    "scrolled": true
   },
   "outputs": [
    {
     "data": {
      "text/plain": [
       "0      False\n",
       "1      False\n",
       "2      False\n",
       "3      False\n",
       "4      False\n",
       "       ...  \n",
       "655     True\n",
       "656     True\n",
       "657     True\n",
       "658     True\n",
       "659     True\n",
       "Name: sex, Length: 660, dtype: bool"
      ]
     },
     "execution_count": 37,
     "metadata": {},
     "output_type": "execute_result"
    }
   ],
   "source": [
    "#(df['sex'] == 'Females') | (df['type_of_course'] == 'Medicine')\n",
    "\n",
    "# Write your code below:\n",
    "df['sex'] == 'Females'\n"
   ]
  },
  {
   "cell_type": "markdown",
   "metadata": {},
   "source": [
    "We put this Boolean Series inside another `[]` to take out the data within the DataFrame. What this does is it only extracts the rows with the `True` value within the DataFrame. For example,\n",
    "\n",
    "```python\n",
    "df[df['sex'] == 'Females']\n",
    "\n",
    "```\n",
    "\n",
    "<b> It is important to note that this does not permanently alter or change the original DataFrame in any way. As such, all filtered data should be stored into another variable.</b>"
   ]
  },
  {
   "cell_type": "code",
   "execution_count": 42,
   "metadata": {
    "scrolled": true
   },
   "outputs": [
    {
     "data": {
      "text/plain": [
       "0      False\n",
       "1      False\n",
       "2      False\n",
       "3      False\n",
       "4      False\n",
       "       ...  \n",
       "655    False\n",
       "656    False\n",
       "657    False\n",
       "658    False\n",
       "659    False\n",
       "Length: 660, dtype: bool"
      ]
     },
     "execution_count": 42,
     "metadata": {},
     "output_type": "execute_result"
    }
   ],
   "source": [
    "# Write your code below:\n",
    "\n",
    "# df_females = df[df['sex'] == 'Females']\n",
    "# df_females\n",
    "\n",
    "# and --> &, or --> |\n",
    "# df['type_of_course'] == 'Medicine'\n",
    "# df[df['type_of_course'] == 'Medicine']\n",
    "(df['sex'] == 'Females') & (df['type_of_course'] == 'Medicine')"
   ]
  },
  {
   "cell_type": "code",
   "execution_count": 45,
   "metadata": {},
   "outputs": [
    {
     "data": {
      "text/html": [
       "<div>\n",
       "<style scoped>\n",
       "    .dataframe tbody tr th:only-of-type {\n",
       "        vertical-align: middle;\n",
       "    }\n",
       "\n",
       "    .dataframe tbody tr th {\n",
       "        vertical-align: top;\n",
       "    }\n",
       "\n",
       "    .dataframe thead th {\n",
       "        text-align: right;\n",
       "    }\n",
       "</style>\n",
       "<table border=\"1\" class=\"dataframe\">\n",
       "  <thead>\n",
       "    <tr style=\"text-align: right;\">\n",
       "      <th></th>\n",
       "      <th>year</th>\n",
       "      <th>sex</th>\n",
       "      <th>type_of_course</th>\n",
       "      <th>no_of_graduates</th>\n",
       "    </tr>\n",
       "  </thead>\n",
       "  <tbody>\n",
       "    <tr>\n",
       "      <th>23</th>\n",
       "      <td>1993</td>\n",
       "      <td>Females</td>\n",
       "      <td>Medicine</td>\n",
       "      <td>61</td>\n",
       "    </tr>\n",
       "    <tr>\n",
       "      <th>53</th>\n",
       "      <td>1994</td>\n",
       "      <td>Females</td>\n",
       "      <td>Medicine</td>\n",
       "      <td>66</td>\n",
       "    </tr>\n",
       "    <tr>\n",
       "      <th>83</th>\n",
       "      <td>1995</td>\n",
       "      <td>Females</td>\n",
       "      <td>Medicine</td>\n",
       "      <td>48</td>\n",
       "    </tr>\n",
       "    <tr>\n",
       "      <th>113</th>\n",
       "      <td>1996</td>\n",
       "      <td>Females</td>\n",
       "      <td>Medicine</td>\n",
       "      <td>53</td>\n",
       "    </tr>\n",
       "    <tr>\n",
       "      <th>143</th>\n",
       "      <td>1997</td>\n",
       "      <td>Females</td>\n",
       "      <td>Medicine</td>\n",
       "      <td>40</td>\n",
       "    </tr>\n",
       "    <tr>\n",
       "      <th>173</th>\n",
       "      <td>1998</td>\n",
       "      <td>Females</td>\n",
       "      <td>Medicine</td>\n",
       "      <td>42</td>\n",
       "    </tr>\n",
       "    <tr>\n",
       "      <th>203</th>\n",
       "      <td>1999</td>\n",
       "      <td>Females</td>\n",
       "      <td>Medicine</td>\n",
       "      <td>41</td>\n",
       "    </tr>\n",
       "    <tr>\n",
       "      <th>233</th>\n",
       "      <td>2000</td>\n",
       "      <td>Females</td>\n",
       "      <td>Medicine</td>\n",
       "      <td>37</td>\n",
       "    </tr>\n",
       "    <tr>\n",
       "      <th>263</th>\n",
       "      <td>2001</td>\n",
       "      <td>Females</td>\n",
       "      <td>Medicine</td>\n",
       "      <td>42</td>\n",
       "    </tr>\n",
       "    <tr>\n",
       "      <th>293</th>\n",
       "      <td>2002</td>\n",
       "      <td>Females</td>\n",
       "      <td>Medicine</td>\n",
       "      <td>60</td>\n",
       "    </tr>\n",
       "    <tr>\n",
       "      <th>323</th>\n",
       "      <td>2003</td>\n",
       "      <td>Females</td>\n",
       "      <td>Medicine</td>\n",
       "      <td>66</td>\n",
       "    </tr>\n",
       "    <tr>\n",
       "      <th>353</th>\n",
       "      <td>2004</td>\n",
       "      <td>Females</td>\n",
       "      <td>Medicine</td>\n",
       "      <td>77</td>\n",
       "    </tr>\n",
       "    <tr>\n",
       "      <th>383</th>\n",
       "      <td>2005</td>\n",
       "      <td>Females</td>\n",
       "      <td>Medicine</td>\n",
       "      <td>86</td>\n",
       "    </tr>\n",
       "    <tr>\n",
       "      <th>413</th>\n",
       "      <td>2006</td>\n",
       "      <td>Females</td>\n",
       "      <td>Medicine</td>\n",
       "      <td>94</td>\n",
       "    </tr>\n",
       "    <tr>\n",
       "      <th>443</th>\n",
       "      <td>2007</td>\n",
       "      <td>Females</td>\n",
       "      <td>Medicine</td>\n",
       "      <td>83</td>\n",
       "    </tr>\n",
       "    <tr>\n",
       "      <th>473</th>\n",
       "      <td>2008</td>\n",
       "      <td>Females</td>\n",
       "      <td>Medicine</td>\n",
       "      <td>96</td>\n",
       "    </tr>\n",
       "    <tr>\n",
       "      <th>503</th>\n",
       "      <td>2009</td>\n",
       "      <td>Females</td>\n",
       "      <td>Medicine</td>\n",
       "      <td>97</td>\n",
       "    </tr>\n",
       "    <tr>\n",
       "      <th>533</th>\n",
       "      <td>2010</td>\n",
       "      <td>Females</td>\n",
       "      <td>Medicine</td>\n",
       "      <td>94</td>\n",
       "    </tr>\n",
       "    <tr>\n",
       "      <th>563</th>\n",
       "      <td>2011</td>\n",
       "      <td>Females</td>\n",
       "      <td>Medicine</td>\n",
       "      <td>119</td>\n",
       "    </tr>\n",
       "    <tr>\n",
       "      <th>593</th>\n",
       "      <td>2012</td>\n",
       "      <td>Females</td>\n",
       "      <td>Medicine</td>\n",
       "      <td>123</td>\n",
       "    </tr>\n",
       "    <tr>\n",
       "      <th>623</th>\n",
       "      <td>2013</td>\n",
       "      <td>Females</td>\n",
       "      <td>Medicine</td>\n",
       "      <td>124</td>\n",
       "    </tr>\n",
       "    <tr>\n",
       "      <th>653</th>\n",
       "      <td>2014</td>\n",
       "      <td>Females</td>\n",
       "      <td>Medicine</td>\n",
       "      <td>127</td>\n",
       "    </tr>\n",
       "  </tbody>\n",
       "</table>\n",
       "</div>"
      ],
      "text/plain": [
       "     year      sex type_of_course  no_of_graduates\n",
       "23   1993  Females       Medicine               61\n",
       "53   1994  Females       Medicine               66\n",
       "83   1995  Females       Medicine               48\n",
       "113  1996  Females       Medicine               53\n",
       "143  1997  Females       Medicine               40\n",
       "173  1998  Females       Medicine               42\n",
       "203  1999  Females       Medicine               41\n",
       "233  2000  Females       Medicine               37\n",
       "263  2001  Females       Medicine               42\n",
       "293  2002  Females       Medicine               60\n",
       "323  2003  Females       Medicine               66\n",
       "353  2004  Females       Medicine               77\n",
       "383  2005  Females       Medicine               86\n",
       "413  2006  Females       Medicine               94\n",
       "443  2007  Females       Medicine               83\n",
       "473  2008  Females       Medicine               96\n",
       "503  2009  Females       Medicine               97\n",
       "533  2010  Females       Medicine               94\n",
       "563  2011  Females       Medicine              119\n",
       "593  2012  Females       Medicine              123\n",
       "623  2013  Females       Medicine              124\n",
       "653  2014  Females       Medicine              127"
      ]
     },
     "execution_count": 45,
     "metadata": {},
     "output_type": "execute_result"
    }
   ],
   "source": [
    "condition_1 = df['sex'] == 'Females'\n",
    "condition_2 = df['type_of_course'] == 'Medicine'\n",
    "\n",
    "df[condition_1 & condition_2]"
   ]
  },
  {
   "cell_type": "markdown",
   "metadata": {},
   "source": [
    "<a id=\"1.4\"> <h3>1.4 Statistical Operations</h3></a>\n",
    "\n",
    "`Dataframes` and `Series` objects have many useful methods to help you compute statistics.\n",
    "\n",
    "<table>\n",
    "  <tr>\n",
    "    <th>Statistical measure</th>\n",
    "    <th>Dataframe method</th>\n",
    "    <th>Series method</th>\n",
    "    <th>Description</th>\n",
    "  </tr>\n",
    "  <tr>\n",
    "    <td>Mean</td>\n",
    "    <td>df.mean()</td>\n",
    "    <td>df['column_name'].mean()</td>\n",
    "    <td>Returns the mean of all columns / the selected column</td>\n",
    "  </tr>\n",
    "  <tr>\n",
    "    <td>Median</td>\n",
    "    <td>df.median()</td>\n",
    "    <td>df['column_name'].median()</td>\n",
    "    <td>Returns the median of all columns / the selected column</td>\n",
    "  </tr>\n",
    "  <tr>\n",
    "    <td>Standard Deviation</td>\n",
    "    <td>df.std()</td>\n",
    "    <td>df['column_name'].std()</td>\n",
    "    <td>Returns the standard deviation of all columns / the selected column</td>\n",
    "  </tr>\n",
    "  <tr>\n",
    "    <td>Sum</td>\n",
    "    <td>df.sum()</td>\n",
    "    <td>df['column_name'].sum()</td>\n",
    "    <td>Returns the sum of all columns / the selected column</td>\n",
    "  </tr>\n",
    "  <tr>\n",
    "    <td>...</td>\n",
    "    <td>...</td>\n",
    "    <td>...</td>\n",
    "    <td>...</td>\n",
    "  </tr>\n",
    "</table>"
   ]
  },
  {
   "cell_type": "code",
   "execution_count": 48,
   "metadata": {},
   "outputs": [
    {
     "data": {
      "text/plain": [
       "359.07878787878786"
      ]
     },
     "execution_count": 48,
     "metadata": {},
     "output_type": "execute_result"
    }
   ],
   "source": [
    "# Write your code below:\n",
    "\n",
    "import statistics as st\n",
    "st.mean(df['no_of_graduates'])\n"
   ]
  },
  {
   "cell_type": "code",
   "execution_count": 50,
   "metadata": {},
   "outputs": [
    {
     "name": "stdout",
     "output_type": "stream",
     "text": [
      "359.07878787878786\n",
      "140.0\n",
      "548.0897242528899\n",
      "236992\n"
     ]
    }
   ],
   "source": [
    "print(df['no_of_graduates'].mean())\n",
    "print(df['no_of_graduates'].median())\n",
    "print(df['no_of_graduates'].std())\n",
    "print(df['no_of_graduates'].sum())"
   ]
  },
  {
   "cell_type": "code",
   "execution_count": null,
   "metadata": {},
   "outputs": [],
   "source": []
  },
  {
   "cell_type": "markdown",
   "metadata": {},
   "source": [
    "<a id=\"P1\"><h2><img src=\"https://cdn.shopify.com/s/files/1/1200/7374/products/book_aec28e76-52ec-44ab-bc01-41df1279c89f_550x825.png?v=1473897430\" width=25 align=\"left\"> <font color=\"darkorange\"> &nbsp; Practice I </font><font color=\"skyblue\"> * </font></h2></a>\n",
    "\n",
    "\n",
    "#### Question 1\n",
    "\n",
    "<b>How many `Females` students have taken `Law`?</b>\n",
    "\n",
    "**Expected output:**\n",
    "\n",
    "    2574"
   ]
  },
  {
   "cell_type": "code",
   "execution_count": 52,
   "metadata": {},
   "outputs": [
    {
     "data": {
      "text/plain": [
       "2574"
      ]
     },
     "execution_count": 52,
     "metadata": {},
     "output_type": "execute_result"
    }
   ],
   "source": [
    "# Write your code below:\n",
    "condition_1 = df['sex'] == 'Females'\n",
    "condition_2 = df['type_of_course'] == 'Law'\n",
    "\n",
    "female_law = df[condition_1 & condition_2]\n",
    "female_law['no_of_graduates'].sum()"
   ]
  },
  {
   "cell_type": "markdown",
   "metadata": {},
   "source": [
    "#### Question 2\n",
    "\n",
    "<b>How many students have taken `Information Technology` between 2000 and 2014, both years inclusive?</b>\n",
    "\n",
    "**Expected output:**\n",
    "\n",
    "    9084"
   ]
  },
  {
   "cell_type": "code",
   "execution_count": null,
   "metadata": {},
   "outputs": [],
   "source": [
    "# Write your code below:\n",
    "\n"
   ]
  },
  {
   "cell_type": "markdown",
   "metadata": {},
   "source": [
    "<a id=\"1.5\"> <h3>1.5 Visualisation </h3></a>\n",
    "\n",
    "<b>Pandas</b> interfaces beautifully with <b>Matplotlib</b> to provide us with a very high-level, easy-to-use application program interface (API)."
   ]
  },
  {
   "cell_type": "markdown",
   "metadata": {},
   "source": [
    "<a id=\"1.5.1\"> <h4>1.5.1 Bar Chart </h4></a>\n",
    "\n",
    "We can create Bar Charts with pandas easily. Here we take <b>Alcohol Consumption By Country</b> this url: https://raw.githubusercontent.com/plotly/datasets/master/2010_alcohol_consumption_by_country.csv"
   ]
  },
  {
   "cell_type": "code",
   "execution_count": null,
   "metadata": {
    "scrolled": true
   },
   "outputs": [],
   "source": [
    "import pandas as pd\n",
    "import matplotlib.pyplot as plt\n",
    "url = \"https://raw.githubusercontent.com/plotly/datasets/master/2010_alcohol_consumption_by_country.csv\"\n",
    "\n",
    "# Write your code below:\n",
    "\n",
    "\n",
    "\n",
    "# Fill up the parameters\n",
    "df.iloc[:10].plot(\n",
    "    kind=, \n",
    "    x=, \n",
    "    y=, \n",
    "    color=, \n",
    "    title=,\n",
    "    ylim= \n",
    ")"
   ]
  },
  {
   "cell_type": "markdown",
   "metadata": {},
   "source": [
    "<a id=\"1.5.2\"> <h4>1.5.2 Line Chart </h4></a>\n",
    "\n",
    "_The line chart is represented by a series of datapoints connected with a straight line. Line charts are most often used to visualize data that changes over time._\n",
    "\n",
    "**Example**\n",
    "\n",
    "`Apple Stock Price Data` \n",
    "\n",
    "source: https://raw.githubusercontent.com/plotly/datasets/master/2014_apple_stock.csv"
   ]
  },
  {
   "cell_type": "code",
   "execution_count": null,
   "metadata": {},
   "outputs": [],
   "source": [
    "url = \"https://raw.githubusercontent.com/plotly/datasets/master/2014_apple_stock.csv\"\n",
    "\n",
    "df = pd.read_csv(url)\n",
    "display(df.head())\n",
    "\n",
    "df['AAPL_x'] = pd.to_datetime(df['AAPL_x'])\n",
    "\n",
    "# Write your code below:\n",
    "\n"
   ]
  },
  {
   "cell_type": "markdown",
   "metadata": {},
   "source": [
    "<a id=\"1.5.3\"> <h4>1.5.3 Scatterplot </h4></a>\n",
    "\n",
    "\n",
    "_A scatter plot is a two-dimensional data visualization that uses dots to represent the values obtained for two different variables - one plotted along the x-axis and the other plotted along the y-axis._\n",
    "\n",
    "**Example**\n",
    "`Motor Cars Data`\n",
    "\n",
    "source: https://raw.githubusercontent.com/plotly/datasets/master/mtcars.csv"
   ]
  },
  {
   "cell_type": "code",
   "execution_count": null,
   "metadata": {},
   "outputs": [],
   "source": [
    "url = \"https://raw.githubusercontent.com/plotly/datasets/master/mtcars.csv\"\n",
    "\n",
    "df = pd.read_csv(url)\n",
    "\n",
    "display(df.head())\n",
    "\n",
    "# Write your code below:\n",
    "\n"
   ]
  },
  {
   "cell_type": "markdown",
   "metadata": {},
   "source": [
    "<a id=\"P2\"><h2><img src=\"https://cdn.shopify.com/s/files/1/1200/7374/products/book_aec28e76-52ec-44ab-bc01-41df1279c89f_550x825.png?v=1473897430\" width=25 align=\"left\"> <font color=\"darkorange\"> &nbsp; Practice II </font><font color=\"skyblue\"> * </font></h2></a>\n",
    "\n",
    "The following `Dataframe` holds data of countries' **life expectancies** and **GDP**.\n",
    "\n",
    "Investigate and visualise (with matplotlib) the relationship between any pair of these variables with an appropriate chart."
   ]
  },
  {
   "cell_type": "code",
   "execution_count": null,
   "metadata": {},
   "outputs": [],
   "source": [
    "url = \"https://raw.githubusercontent.com/plotly/datasets/master/bubble_chart_tutorial.csv\"\n",
    "\n",
    "# Write your code below:\n",
    "# Step 1: Read dataset\n",
    "\n",
    "\n",
    "# Step 2: Display the dataset\n",
    "\n",
    "\n",
    "# Step 3: Plot the scatterplot\n",
    "\n"
   ]
  },
  {
   "cell_type": "markdown",
   "metadata": {},
   "source": [
    "<a id='2'><h2><img src=\"https://images.vexels.com/media/users/3/153978/isolated/preview/483ef8b10a46e28d02293a31570c8c56-warning-sign-colored-stroke-icon-by-vexels.png\" width=25 align=\"left\"><font color=\"salmon\">&nbsp;2.</font><font color=\"salmon\"> Airbnb Dataset </font> </h2></a>\n",
    "\n",
    "<img src=\"http://www.stickpng.com/assets/images/580b57fcd9996e24bc43c513.png\" width=\"400\">\n",
    "<br>\n",
    "</br>\n",
    "<br>\n",
    "</br>\n",
    "\n",
    "<b>Welcome to your final project of Hackwagon Academy DS101! You've come a long way since the start of this course and if you've been on track with our exercises, you should find this doable. </b>\n",
    "\n",
    "Airbnb is an online marketplace and hospitality service, enabling people to lease or rent short-term lodging including vacation rentals, apartment rentals, homestays, hostel beds, or hotel rooms. The company does not own any lodging; it is merely a broker and receives percentage service fees (commissions) from both guests and hosts in conjunction with every booking. In this project, we aim to use algorithms and libraries to mine the reviews people have submitted on Singapore AirBnB rentals in order to provide descriptive analytics.\n",
    "\n",
    "Start by reading the dataset:"
   ]
  },
  {
   "cell_type": "code",
   "execution_count": null,
   "metadata": {},
   "outputs": [],
   "source": [
    "# Write your code below:\n",
    "\n"
   ]
  },
  {
   "cell_type": "markdown",
   "metadata": {},
   "source": [
    "<h4> Q1. List out each neighborhoods and their number of listings <font color='red'>(5 marks)</font></h4>\n",
    "\n",
    "<i> Hint\n",
    "1. Counting with dictionaries\n",
    "</i>\n",
    "\n",
    "<b>Expected Output:</b>\n",
    "\n",
    "    When you search for ['TS17'], it should give you 342 counts."
   ]
  },
  {
   "cell_type": "code",
   "execution_count": null,
   "metadata": {},
   "outputs": [],
   "source": [
    "# Write your code below:\n",
    "\n"
   ]
  },
  {
   "cell_type": "markdown",
   "metadata": {},
   "source": [
    "<h4> Q2. List out each neighborhood and their average overall_satisfaction <font color='red'>(5 marks)</font> </h4>\n",
    "\n",
    "<b>Note: You should filter out listings whose reviews are 0. </b>\n",
    "\n",
    "<i> Hint\n",
    "1. Create dictionary where key is the neighborhood_id and value is a list of overall_satisfaction\n",
    "2. Create another dictionary to compute the average\n",
    "</i>\n",
    "\n",
    "<b>Expected Output:</b>\n",
    "    \n",
    "    When you search for ['TS17'], it should give you an average score of 2.859447004608295."
   ]
  },
  {
   "cell_type": "code",
   "execution_count": null,
   "metadata": {
    "scrolled": true
   },
   "outputs": [],
   "source": [
    "# Write your code below:\n",
    "\n"
   ]
  },
  {
   "cell_type": "markdown",
   "metadata": {},
   "source": [
    "<h4> Q3. List out each neighborhood and their average price <font color='red'>(5 marks)</font></h4>\n",
    "\n",
    "<i> Hint\n",
    "1. Similar to previous question\n",
    "</i>\n",
    "\n",
    "<b>Expected Output:</b>\n",
    "\n",
    "    When you search for ['TS17'], it should give you an average price of 95.5672514619883."
   ]
  },
  {
   "cell_type": "code",
   "execution_count": null,
   "metadata": {},
   "outputs": [],
   "source": [
    "# Write your code below:\n",
    "\n"
   ]
  },
  {
   "cell_type": "markdown",
   "metadata": {},
   "source": [
    "<h4> Q4. Plot a distribution of counts of the overall_satisfaction <font color='red'>(5 marks)</font></h4>\n",
    "\n",
    "<b>Note: You should filter out listings whose reviews are 0. </b>\n",
    "\n",
    "<i> Hint\n",
    "1. Counting with dictionaries\n",
    "2. Get a list of tuples with `.items()`\n",
    "3. Create 2 lists: \n",
    "    - 1 for all the scores labels\n",
    "    - 1 for all the counts \n",
    "4. Plot with the 2 lists\n",
    "</i>\n",
    "\n",
    "<b>Expected Output:</b>\n",
    "\n",
    "<img src=\"https://i.imgur.com/bj0ecjO.png\" width=\"300\">"
   ]
  },
  {
   "cell_type": "code",
   "execution_count": null,
   "metadata": {},
   "outputs": [],
   "source": [
    "# Write your code below:\n",
    "\n"
   ]
  },
  {
   "cell_type": "markdown",
   "metadata": {},
   "source": [
    "<h4> Q5. Plot a geographical representation of all of the listings in Singapore <font color='red'>(5 marks)</font></h4>\n",
    "\n",
    "<i> Hint\n",
    "1. Create a list for latitude\n",
    "2. Create a list for longitude\n",
    "3. Append each listing's latitude and logitude to the lists\n",
    "4. Plot a scatter plot using both lists\n",
    "</i>\n",
    "\n",
    "<b>Expected Output:</b>\n",
    "\n",
    "<img src='https://i.imgur.com/9Dp5HrD.png' width=\"300\">    "
   ]
  },
  {
   "cell_type": "markdown",
   "metadata": {},
   "source": [
    "<a id=\"P3\"><h2><img src=\"https://cdn.shopify.com/s/files/1/1200/7374/products/book_aec28e76-52ec-44ab-bc01-41df1279c89f_550x825.png?v=1473897430\" width=25 align=\"left\"> <font color=\"darkorange\"> &nbsp; Practice III </font><font color=\"skyblue\"> * </font></h2></a>\n",
    "\n",
    "\n",
    "<img src=\"https://s.yimg.com/ny/api/res/1.2/_qLpCqbdgKq0nnY3UDmI2w--~A/YXBwaWQ9aGlnaGxhbmRlcjtzbT0xO3c9NzQ0O2g9Mzcy/http://media.zenfs.com/en/homerun/feed_manager_auto_publish_494/87db61c8ea6d6fcc4122595bb0c0c2c5\" width=\"300\">\n",
    "\n",
    "This dataset has been source from the Lazada marketplace, where we have above <b>36 thousand rows</b> of data to work with. <b>Each row represents one product</b>. Opening this file in Microsoft Excel would look like this:\n",
    "\n",
    "<img src=\"https://i.imgur.com/E0QJP92.png\" width=\"500\">\n",
    "\n",
    "We're going to do some simple analysis with these products and see what we can come up with."
   ]
  },
  {
   "cell_type": "markdown",
   "metadata": {},
   "source": [
    "#### Read Dataset"
   ]
  },
  {
   "cell_type": "code",
   "execution_count": null,
   "metadata": {},
   "outputs": [],
   "source": [
    "# Write your code below:\n",
    "\n"
   ]
  },
  {
   "cell_type": "markdown",
   "metadata": {},
   "source": [
    "<h3>Descriptive Analytics </h3>\n",
    "\n",
    "#### Question 1\n",
    "How many items are more than $50?"
   ]
  },
  {
   "cell_type": "code",
   "execution_count": null,
   "metadata": {},
   "outputs": [],
   "source": [
    "# Write your code below:\n",
    "\n"
   ]
  },
  {
   "cell_type": "markdown",
   "metadata": {},
   "source": [
    "#### Question 2\n",
    "How many items are listed in <b>Singapore</b>, <b>Malaysia</b>, <b>Phillippines</b>?\n"
   ]
  },
  {
   "cell_type": "code",
   "execution_count": null,
   "metadata": {},
   "outputs": [],
   "source": [
    "# Write your code below:\n",
    "\n"
   ]
  },
  {
   "cell_type": "markdown",
   "metadata": {},
   "source": [
    "#### Question 3\n",
    "\n",
    "For the `category_1` of `Fashion`, how many items are for `Men` and how many items are for `Women`?"
   ]
  },
  {
   "cell_type": "code",
   "execution_count": null,
   "metadata": {},
   "outputs": [],
   "source": [
    "# Write your code below:\n",
    "\n"
   ]
  },
  {
   "cell_type": "markdown",
   "metadata": {},
   "source": [
    "### Visualisation\n",
    "\n",
    "####  Distribution of SG Category Level 1 Products"
   ]
  },
  {
   "cell_type": "code",
   "execution_count": null,
   "metadata": {},
   "outputs": [],
   "source": [
    "# Write your code below:\n",
    "\n"
   ]
  },
  {
   "cell_type": "markdown",
   "metadata": {},
   "source": [
    "####  Distribution of MY Category Level 1 Products"
   ]
  },
  {
   "cell_type": "code",
   "execution_count": null,
   "metadata": {},
   "outputs": [],
   "source": [
    "# Write your code below:\n",
    "\n"
   ]
  },
  {
   "cell_type": "markdown",
   "metadata": {},
   "source": [
    "####  Distribution of PH Category Level 1 Products"
   ]
  },
  {
   "cell_type": "code",
   "execution_count": null,
   "metadata": {},
   "outputs": [],
   "source": [
    "# Write your code below:\n",
    "\n"
   ]
  }
 ],
 "metadata": {
  "kernelspec": {
   "display_name": "Python 3",
   "language": "python",
   "name": "python3"
  },
  "language_info": {
   "codemirror_mode": {
    "name": "ipython",
    "version": 3
   },
   "file_extension": ".py",
   "mimetype": "text/x-python",
   "name": "python",
   "nbconvert_exporter": "python",
   "pygments_lexer": "ipython3",
   "version": "3.8.3"
  }
 },
 "nbformat": 4,
 "nbformat_minor": 2
}
