{
 "cells": [
  {
   "cell_type": "markdown",
   "metadata": {},
   "source": [
    "<center><img src=\"https://i2.wp.com/hackwagon.com/wp-content/uploads/2017/02/Logo-Web-Export.png?ssl=1\" width=200/></center>\n",
    "\n",
    "<h1> Hackwagon Academy DS101 Lesson 3 </h1>\n",
    "<h2> CIETU & Looping Dictionaries </h2> \n",
    "<h3> Lesson Outline </h3>\n",
    "\n",
    "- 1. [CIETU Framework](#1)\n",
    "    - [Practice I](#P1)\n",
    "- 2. [Looping Dictionaries](#2)\n",
    "    - [Practice II](#P2)\n",
    "- 3. [Bonus](#3)\n",
    "\n",
    "<a id='H'></a>"
   ]
  },
  {
   "cell_type": "markdown",
   "metadata": {},
   "source": [
    "<h2><img src=\"https://img.icons8.com/color/50/000000/blunt-bulb.png\" width=23 align=\"left\"><font color=\"dodgerblue\"> Recap! </font> </h2>"
   ]
  },
  {
   "cell_type": "code",
   "execution_count": null,
   "metadata": {},
   "outputs": [],
   "source": [
    "# Increase something by a value of 1\n",
    "\n",
    "\n",
    "# Increase something by a value of anything\n",
    "\n",
    "\n",
    "# Add something to a list\n",
    "\n"
   ]
  },
  {
   "cell_type": "markdown",
   "metadata": {},
   "source": [
    "With For-Loops"
   ]
  },
  {
   "cell_type": "code",
   "execution_count": null,
   "metadata": {},
   "outputs": [],
   "source": [
    "countdown = [5, 4, 3, 2, 1] \n",
    "\n",
    "# Context: Numbers in a Countdown List\n",
    "# Countdown <- Contains all numbers\n",
    "# Number <- 1 Number in Countdown\n",
    "# for <singular> in <plural>\n",
    "\n",
    "# Write your code below:\n",
    "\n"
   ]
  },
  {
   "cell_type": "markdown",
   "metadata": {},
   "source": [
    "<a id='1'><h2><img src=\"https://images.vexels.com/media/users/3/153978/isolated/preview/483ef8b10a46e28d02293a31570c8c56-warning-sign-colored-stroke-icon-by-vexels.png\" width=25 align=\"left\"><font color=\"salmon\">&nbsp;1.</font><font color=\"salmon\"> CIETU Framework </font> </h2></a>\n",
    "\n",
    "With the use of for loops, we are able to solve many problems that deal with reptition and more specifically big data.\n",
    "The Create, Iterate, Extract, Test, Update (CIETU) Framework is an important framework to understand in order to solve most of the fundamental problems in programming.\n",
    "\n",
    "1. <b>Create</b> the results container\n",
    "2. <b>Iterate</b> the input data/list\n",
    "3. <b>Extract</b> the data when necessary\n",
    "4. <b>Test</b> conditions of each value\n",
    "5. <b>Update</b> the results container when condition is fulfilled\n",
    "\n",
    "Let's replicate the `sum()` function.\n",
    "\n",
    "Visually how does that work?\n",
    "\n",
    "![CIETU](https://media.giphy.com/media/YqzdASYCMc2Q1F7H3A/giphy.gif\"CITEU\")\n",
    "\n",
    "<img src=\"https://i.imgur.com/QRWX45n.png\" width=400>\n",
    "\n"
   ]
  },
  {
   "cell_type": "code",
   "execution_count": null,
   "metadata": {},
   "outputs": [],
   "source": [
    "data = [3, -4, 12, 9, -72, 0, 15]\n",
    "# Write code here\n",
    "\n",
    "# Create result container\n",
    "total = 0\n",
    "\n",
    "# Iterate / Loop the list\n",
    "for number in data:\n",
    "    # Nothing to extract\n",
    "    # Nothing to test\n",
    "    \n",
    "    # Update the result container\n",
    "    total += number\n",
    "print(total)"
   ]
  },
  {
   "cell_type": "markdown",
   "metadata": {},
   "source": [
    "What is happening? Let's take a look at the code visualisation by running the cell below:"
   ]
  },
  {
   "cell_type": "code",
   "execution_count": null,
   "metadata": {},
   "outputs": [],
   "source": [
    "from IPython.display import IFrame ; IFrame(\"http://pythontutor.com/iframe-embed.html#code=data%20%3D%20%5B3,%20-4,%2012,%209,%20-72,%200,%2015%5D%0A%0Atotal%20%3D%200%0A%0Afor%20number%20in%20data%3A%0A%20%20%20%20total%20%2B%3D%20number%0A%0Aprint%28total%29&codeDivHeight=400&codeDivWidth=350&cumulative=false&curInstr=0&heapPrimitives=nevernest&origin=opt-frontend.js&py=3&rawInputLstJSON=%5B%5D&textReferences=false\",\"100%\",\"600px\")"
   ]
  },
  {
   "cell_type": "markdown",
   "metadata": {},
   "source": [
    "<a id='P1'><h2><img src=\"https://cdn.shopify.com/s/files/1/1200/7374/products/book_aec28e76-52ec-44ab-bc01-41df1279c89f_550x825.png?v=1473897430\" width=25 align=\"left\"> <font color=\"darkorange\"> &nbsp; Practice I </font><font color=\"skyblue\"> * </font></h2></a>\n",
    "\n",
    "In this next practice, we will replicate some of Python's built in functions, <b> without the use of any built-in functions, i.e cannot use <code>sum()</code>, <code>len()</code>.</b>\n",
    "\n",
    "[Click here for the summary of all list and dictionary functions](#S)\n",
    "\n",
    "### Question 1 - `len()`\n",
    "\n",
    "Find the number of items in `data`.\n",
    "\n",
    "**Expected output:**\n",
    "\n",
    "    7"
   ]
  },
  {
   "cell_type": "code",
   "execution_count": null,
   "metadata": {},
   "outputs": [],
   "source": [
    "data = [3, -4, 12, 9, -72, 0, 15]\n",
    "\n",
    "# Write your code below:\n",
    "\n"
   ]
  },
  {
   "cell_type": "markdown",
   "metadata": {},
   "source": [
    "### Question 2 - Positive numbers\n",
    "Create a list of all positive numbers in `data`.\n",
    "\n",
    "**Expected output:**\n",
    "\n",
    "    [3, 12, 9, 15]"
   ]
  },
  {
   "cell_type": "code",
   "execution_count": null,
   "metadata": {},
   "outputs": [],
   "source": [
    "data = [3, -4, 12, 9, -72, 0, 15]\n",
    "\n",
    "# Write your code below:\n",
    "\n"
   ]
  },
  {
   "cell_type": "markdown",
   "metadata": {},
   "source": [
    "### Question 3 - Average\n",
    "Find the average based on `data`.\n",
    "\n",
    "**Expected output:**\n",
    "\n",
    "    -5.285714285714286"
   ]
  },
  {
   "cell_type": "code",
   "execution_count": null,
   "metadata": {},
   "outputs": [],
   "source": [
    "data = [3, -4, 12, 9, -72, 0, 15]\n",
    "\n",
    "# Write your code below:\n",
    "\n"
   ]
  },
  {
   "cell_type": "markdown",
   "metadata": {},
   "source": [
    "### Question 4 - `max()`\n",
    "Find the biggest number in `data`.\n",
    "\n",
    "**Expected output:**\n",
    "    \n",
    "    15"
   ]
  },
  {
   "cell_type": "code",
   "execution_count": null,
   "metadata": {},
   "outputs": [],
   "source": [
    "data = [3, -4, 12, 9, -72, 0, 15]\n",
    "\n",
    "# Write your code below:\n",
    "\n"
   ]
  },
  {
   "cell_type": "markdown",
   "metadata": {},
   "source": [
    "<a id='2'><h2><img src=\"https://images.vexels.com/media/users/3/153978/isolated/preview/483ef8b10a46e28d02293a31570c8c56-warning-sign-colored-stroke-icon-by-vexels.png\" width=25 align=\"left\"><font color=\"salmon\">&nbsp;2.</font><font color=\"salmon\"> Looping Dictionaries </font> </h2></a>\n",
    "\n",
    "To loop through dictionaries, we will use the function `.items()`. `.items()` gives us a <b>list</b> of <b>tuples</b>, where in each tuple:\n",
    "* Index 0 is the key\n",
    "* Index 1 is the value\n"
   ]
  },
  {
   "cell_type": "markdown",
   "metadata": {},
   "source": [
    "**Without `.items()`**. It does not give you the `value` accompanying the `key`."
   ]
  },
  {
   "cell_type": "code",
   "execution_count": null,
   "metadata": {},
   "outputs": [],
   "source": [
    "seq = {\n",
    "    \"num_1\": 10,\n",
    "    \"num_2\": 20,\n",
    "    \"num_3\": 30,\n",
    "} \n",
    "\n",
    "# Write your code below:\n",
    "\n"
   ]
  },
  {
   "cell_type": "markdown",
   "metadata": {},
   "source": [
    "With `.items()` gives you you a list of tuples, where each tuple's index 0 is the key and index 1 is the value.\n",
    "\n",
    "```python\n",
    "[    \n",
    "    # Key (index 0) , Value (index 1)\n",
    "    ('num_1', 10), # tuple 0 \n",
    "    ('num_2', 20), # tuple 1\n",
    "    ('num_3', 30)  # tuple 2\n",
    "]\n",
    "```"
   ]
  },
  {
   "cell_type": "code",
   "execution_count": null,
   "metadata": {},
   "outputs": [],
   "source": [
    "seq = {\n",
    "    \"num_1\": 10,\n",
    "    \"num_2\": 20,\n",
    "    \"num_3\": 30,\n",
    "} \n",
    "\n",
    "# Write your code below:\n",
    "\n"
   ]
  },
  {
   "cell_type": "markdown",
   "metadata": {},
   "source": [
    "**With `.items()`**\n",
    "\n",
    "![HWALoopDictionaries](https://media.giphy.com/media/Y0grnAugRyVDVCy5Z4/giphy.gif \"LoopyDicts\")"
   ]
  },
  {
   "cell_type": "code",
   "execution_count": null,
   "metadata": {},
   "outputs": [],
   "source": [
    "seq = {\n",
    "    \"num_1\": 10,\n",
    "    \"num_2\": 20,\n",
    "    \"num_3\": 30,\n",
    "} \n",
    "\n",
    "# Write your code below:\n",
    "\n"
   ]
  },
  {
   "cell_type": "markdown",
   "metadata": {},
   "source": [
    "### Combining CIETU and Looping Dictionaries"
   ]
  },
  {
   "cell_type": "markdown",
   "metadata": {},
   "source": [
    "#### Get a list of the keys where its value is more than 15"
   ]
  },
  {
   "cell_type": "code",
   "execution_count": null,
   "metadata": {},
   "outputs": [],
   "source": [
    "seq = {\n",
    "    \"num_1\": 10,\n",
    "    \"num_2\": 20,\n",
    "    \"num_3\": 30,\n",
    "} \n",
    "\n",
    "# Write your code below:\n",
    "\n"
   ]
  },
  {
   "cell_type": "markdown",
   "metadata": {},
   "source": [
    "<a id='P2'><h2><img src=\"https://cdn.shopify.com/s/files/1/1200/7374/products/book_aec28e76-52ec-44ab-bc01-41df1279c89f_550x825.png?v=1473897430\" width=25 align=\"left\"> <font color=\"darkorange\"> &nbsp; Practice II </font><font color=\"skyblue\"> * </font></h2></a>\n",
    "\n",
    "[Click here for the summary of all list and dictionary functions](#S)\n",
    "\n",
    "### Question 1 \n",
    "\n",
    "Below is a database containing people's names and their respective transactions. <b>Collect</b> the names of people with positive bank balances and print them out\n",
    "\n",
    "**Expected output:**\n",
    "    \n",
    "    ['KT', 'Jon']"
   ]
  },
  {
   "cell_type": "code",
   "execution_count": null,
   "metadata": {},
   "outputs": [],
   "source": [
    "bank_accounts = {\n",
    "    'KT': [0, 1, 5, 3],\n",
    "    'Henry': [0, -1, -7, 3],\n",
    "    'Jon': [0, 1, 2, 3],\n",
    "}\n",
    "\n",
    "# Write your code below:\n",
    "\n"
   ]
  },
  {
   "cell_type": "markdown",
   "metadata": {},
   "source": [
    "### Question 2 - Channel Engagement (Important for Take-Home Lab)\n",
    "You are given the below list of YouTube channels’ number of views and comments. Using a `for-loop`, compute and print the __engagement__ score of each channel.\n",
    "\n",
    "Engagement score is computed according to the equation:\n",
    "\n",
    "\\begin{equation*}\n",
    "    engagement = \\frac{comments}{views} \\times 100\n",
    "\\end{equation*}\n",
    "\n",
    "Expected output:\n",
    "```python\n",
    "xiaxue has engagement score: 10.2\n",
    "roy has engagement score: 8.94308943089431\n",
    "brownietv has engagement score: 6.34453781512605\n",
    "hackwagontv has engagement score: 10.178624887735754\n",
    "impracticaljokers has engagement score: 2.0918670586156494\n",
    "```"
   ]
  },
  {
   "cell_type": "code",
   "execution_count": null,
   "metadata": {},
   "outputs": [],
   "source": [
    "channels = [{'title':'xiaxue', 'views': 50000, 'comments': 5100}, \n",
    "            {'title':'roy', 'views': 123, 'comments': 11},\n",
    "            {'title':'brownietv', 'views': 2380, 'comments': 151},\n",
    "            {'title':'hackwagontv', 'views': 10021, 'comments': 1020},\n",
    "            {'title':'impracticaljokers', 'views': 249012, 'comments': 5209}]\n",
    "\n",
    "# Write your code below:\n",
    "\n",
    "# 1. Iterate over the data\n",
    "\n",
    "    \n",
    "    # 2. Extract the stuff I need\n",
    "    \n",
    "    \n",
    "    # 3. Calculate the engagement rate\n",
    "    \n",
    "    \n",
    "    # 4. Display the output!\n",
    "    \n",
    "    "
   ]
  },
  {
   "cell_type": "markdown",
   "metadata": {},
   "source": [
    "### Question 3 - FizzBuzz\n",
    "\n",
    "1. Print numbers 1 to 50\n",
    "2. If a number is a multiple of 3, print `Fizz`.\n",
    "3. If a number is a multiple of 5, print `Buzz`.\n",
    "4. If a number is a multiple of 3 and 5, print `FizzBuzz`.\n",
    "5. Otherwise, print the number itself.\n",
    "\n",
    "**Expected output:**\n",
    "    \n",
    "    1\n",
    "    2\n",
    "    Fizz\n",
    "    4\n",
    "    Buzz\n",
    "    Fizz\n",
    "    7\n",
    "    8\n",
    "    Fizz\n",
    "    Buzz\n",
    "    11\n",
    "    Fizz\n",
    "    13\n",
    "    14\n",
    "    FizzBuzz\n",
    "    16\n",
    "    17\n",
    "    Fizz\n",
    "    19\n",
    "    Buzz\n",
    "    Fizz\n",
    "    22\n",
    "    23\n",
    "    Fizz\n",
    "    Buzz\n",
    "    26\n",
    "    Fizz\n",
    "    28\n",
    "    29\n",
    "    FizzBuzz\n",
    "    31\n",
    "    32\n",
    "    Fizz\n",
    "    34\n",
    "    Buzz\n",
    "    Fizz\n",
    "    37\n",
    "    38\n",
    "    Fizz\n",
    "    Buzz\n",
    "    41\n",
    "    Fizz\n",
    "    43\n",
    "    44\n",
    "    FizzBuzz\n",
    "    46\n",
    "    47\n",
    "    Fizz\n",
    "    49\n",
    "    Buzz"
   ]
  },
  {
   "cell_type": "code",
   "execution_count": null,
   "metadata": {},
   "outputs": [],
   "source": [
    "# Write your code below:\n",
    "\n"
   ]
  },
  {
   "cell_type": "markdown",
   "metadata": {},
   "source": [
    "<a id='3'><h2><img src=\"https://images.vexels.com/media/users/3/153978/isolated/preview/483ef8b10a46e28d02293a31570c8c56-warning-sign-colored-stroke-icon-by-vexels.png\" width=25 align=\"left\"><font color=\"salmon\">&nbsp;3.</font><font color=\"salmon\"> Bonus - Image Manipulation </font> </h2></a>\n",
    "\n",
    "One of the relevant use cases for for-loops would be image manipulation, where you can use code to edit the style of a given image.\n",
    "\n",
    "### Grids\n",
    "A `w x h` grid can be represented in python by a list of a list\n",
    "\n",
    "i.e. 2 x 3 grid in python = \n",
    "\n",
    "```\n",
    "grid = [\n",
    "    [1,2,3],\n",
    "    [4,5,6]\n",
    "]\n",
    "```\n",
    "\n",
    "To access the cell at coordinates (1,2), you can use `grid[1][2]`\n",
    "\n",
    "### Images\n",
    "Images are represented in computers as a grid of squares\n",
    "\n",
    "<img src=\"https://projects-static.raspberrypi.org/projects/pixel-art/2c66f9cb57757c2ceef2160606fc5551f40ca3fe/en/images/pixel-art-black-example.png\" width=\"200\"/>\n",
    "\n",
    "For example, this image has 8 x 8 squares. To represent whether a square is filled, you could use\n",
    "\n",
    "* `1` to represent black\n",
    "* `0` to represent white\n",
    "\n",
    "Thus, a presentation of the above image could be something like this\n",
    "\n",
    "```\n",
    "[\n",
    "    [0,0,0,0,0,0,0,0],\n",
    "    [0,0,0,0,0,0,0,0],\n",
    "    [0,1,0,0,0,0,1,0],\n",
    "    [0,0,0,0,0,0,0,0],\n",
    "    [0,1,0,0,0,0,1,0],\n",
    "    [0,0,1,1,1,1,0,0],\n",
    "    [0,0,0,0,0,0,0,0]\n",
    "]\n",
    "```"
   ]
  },
  {
   "cell_type": "markdown",
   "metadata": {},
   "source": [
    "### RGB\n",
    "\n",
    "In the above example, we represented black using `1` and white using `0`. To represent more colors, people have come up with a system, **RGB** that allows you to represent any color using a combination of 3 numbers.\n",
    "\n",
    "* Red (0 -> 255)\n",
    "* Green (0 -> 255)\n",
    "* Blue (0 -> 255)\n",
    "\n",
    "Each number represents the intensity of R, G and B respectively. The higher the number, the more of that color you will have.\n",
    "\n",
    "To form any color that you see on the screen, you would mix the 3 colors to get a final color. An example of how this mixing works can be found on the tool below\n",
    "\n",
    "<a href=\"http://web.stanford.edu/class/cs101/image-rgb-explorer.html\"><img width=\"400\" src=\"https://i.imgur.com/uMHBwWY.png\" /></a>\n",
    "\n",
    "<center><i>Click on the image to play around with color mixing</i><center>\n",
    "\n",
    "**Common Colors**\n",
    "\n",
    "Shown below are some of the common colors than can be formed by mixing R, G and B together\n",
    "\n",
    "<img src=\"http://smilebasic.com/wordpress/wp-content/themes/smilebasic/publishimage/e-manual/img-27-3-1.png\" height=\"400\" />\n",
    "\n",
    "### RGB colors in our Grid\n",
    "\n",
    "Moving back to our grid, instead of having 1 and 0 represent black and white\n",
    "\n",
    "```\n",
    "[\n",
    "    [0,0,0,0,0,0,0,0],\n",
    "    [0,0,0,0,0,0,0,0],\n",
    "    [0,1,0,0,0,0,1,0],\n",
    "    [0,0,0,0,0,0,0,0],\n",
    "    [0,1,0,0,0,0,1,0],\n",
    "    [0,0,1,1,1,1,0,0],\n",
    "    [0,0,0,0,0,0,0,0]\n",
    "]\n",
    "```\n",
    "\n",
    "We could use a list of 3 numbers, (R, G, B) for each cell to represent the color to be displayed on the screen.\n",
    "\n",
    "```\n",
    "[\n",
    "    [[255,255,255],[255,255,255],[255,255,255],[255,255,255],[255,255,255],[255,255,255],[255,255,255],[255,255,255]],\n",
    "    [[255,255,255],[255,255,255],[255,255,255],[255,255,255],[255,255,255],[255,255,255],[255,255,255],[255,255,255]],\n",
    "    [[255,255,255],[  0,  0,  0],[255,255,255],[255,255,255],[255,255,255],[255,255,255],[  0,  0,  0],[255,255,255]],\n",
    "    [[255,255,255],[255,255,255],[255,255,255],[255,255,255],[255,255,255],[255,255,255],[255,255,255],[255,255,255]],\n",
    "    [[255,255,255],[  0,  0,  0],[255,255,255],[255,255,255],[255,255,255],[255,255,255],[  0,  0,  0],[255,255,255]],\n",
    "    [[255,255,255],[255,255,255],[  0,  0,  0],[  0,  0,  0],[  0,  0,  0],[  0,  0,  0],[255,255,255],[255,255,255]],\n",
    "    [[255,255,255],[255,255,255],[255,255,255],[255,255,255],[255,255,255],[255,255,255],[255,255,255],[255,255,255]],\n",
    "    [[255,255,255],[255,255,255],[255,255,255],[255,255,255],[255,255,255],[255,255,255],[255,255,255],[255,255,255]],\n",
    "]\n",
    "```\n",
    "\n",
    "This is a 8 x 8 x 3 grid, represented as a list of list of list."
   ]
  },
  {
   "cell_type": "markdown",
   "metadata": {},
   "source": [
    "## Grayscale\n",
    "\n",
    "For black and white, gray is simply the average of black and white\n",
    "\n",
    "<img src=\"https://i.imgur.com/iB72bhc.png\" width=\"400\"/>\n",
    "\n",
    "In number form, that would mean\n",
    "\n",
    "$$Gray = \\frac{1 + 0}{2} = 0.5$$\n",
    "\n",
    "Simlarly, for colors, a gray version of R, G and B would be\n",
    "\n",
    "$$Gray = \\frac{R + G + B}{3}$$\n",
    "\n",
    "From this, we learn that to make any color, we just need to change a list like\n",
    "\n",
    "```\n",
    "color = [37, 120, 50]  \n",
    "```\n",
    "\n",
    "to\n",
    "\n",
    "```\n",
    "avg = sum(color) / len(color)\n",
    "grayscaled = [avg, avg, avg]\n",
    "```"
   ]
  },
  {
   "cell_type": "markdown",
   "metadata": {},
   "source": [
    "## Try it yourself\n",
    "\n",
    "Shown below is some code that will download a picture of Pikachu.\n",
    "\n",
    "**Run the following code first**"
   ]
  },
  {
   "cell_type": "code",
   "execution_count": null,
   "metadata": {},
   "outputs": [],
   "source": [
    "# If there is an error with the skimage import, uncomment the line below\n",
    "# !pip install --upgrade scikit-image"
   ]
  },
  {
   "cell_type": "code",
   "execution_count": null,
   "metadata": {},
   "outputs": [],
   "source": [
    "from skimage import io\n",
    "import numpy as np\n",
    "%matplotlib inline\n",
    "pikachu = io.imread('https://orig00.deviantart.net/b925/f/2013/095/9/5/pikachu_pixel_by_lawlkittyface-d60lhuk.png')\n",
    "\n",
    "io.imshow(pikachu)"
   ]
  },
  {
   "cell_type": "markdown",
   "metadata": {},
   "source": [
    "We have written some code to turn this image into a form that python can understand.\n",
    "\n",
    "i.e., your list of list of lists\n",
    "\n",
    "```\n",
    "[\n",
    "    [[255,255,255],[255,255,255]],\n",
    "    [[255,255,255],[255,255,255]]\n",
    "]\n",
    "```\n",
    "\n",
    "Your job is to make each cell in this list of list of list grayscale, using for loops + the formula you just learnt above.\n",
    "\n",
    "**Write your code in the code cell below**"
   ]
  },
  {
   "cell_type": "code",
   "execution_count": null,
   "metadata": {},
   "outputs": [],
   "source": [
    "data = pikachu.tolist()\n",
    "gray_img = pikachu.tolist()\n",
    "\n",
    "for x in range(0, len(data)):\n",
    "    for y in range(0, len(data[x])):\n",
    "        colors = data[x][y]\n",
    "        avg = sum(colors) / len(colors)\n",
    "\n",
    "        gray_img[x][y] = [avg, avg, avg]   "
   ]
  },
  {
   "cell_type": "markdown",
   "metadata": {},
   "source": [
    "If the code works, the code below should give you a gray pikachu"
   ]
  },
  {
   "cell_type": "code",
   "execution_count": null,
   "metadata": {},
   "outputs": [],
   "source": [
    "io.imshow(np.array(gray_img, dtype=np.uint8))"
   ]
  },
  {
   "cell_type": "markdown",
   "metadata": {},
   "source": [
    "Answer to above problem\n",
    "\n",
    "```python\n",
    "for x in range(0, len(data)):\n",
    "    for y in range(0, len(data[x])):\n",
    "        colors = data[x][y]\n",
    "        avg = sum(colors) / len(colors)\n",
    "        \n",
    "        gray_img[x][y] = [avg, avg, avg]      \n",
    "```"
   ]
  },
  {
   "cell_type": "markdown",
   "metadata": {},
   "source": [
    "<a id=\"S\"><h2> <center> Important Collections Functions (methods) </center> </h2></a>\n",
    "   \n",
    "**[Click here to go back up to the content page](#H)**\n",
    "<h3> <center> Creation </center></h3>\n",
    "\n",
    "|Collection Type | Function | Examples |\n",
    "| ---------|---------|---------|\n",
    "| `list` | <center>None</center>| `new_list = []` <br><br> `new_list = [1,2,3,4]` |\n",
    "| `tuple`| <center>None</center>| `new_tuple = ()` <br><br> `new_tuple = (1,2,3,4)`|\n",
    "| `dict` | <center>None</center>| `new_dict = {}` <br><br> `new_dict = {'a': 1, 'b':2}`|\n",
    "\n",
    "<h3> <center> Add / Appending Data </center></h3>\n",
    "\n",
    "|Collection Type | Functions | Examples | Resulting Output|\n",
    "| ---------|---------|---------| ------ |\n",
    "| `list` | <center>`.append()`</center>| `new_list = [1,2,3]` <br><br> `new_list.append(4)` | `[1,2,3,4]`|\n",
    "| `list` | <center>`.extend()`</center>| `new_list = [1,2]` <br><br> `new_list.extend([3,4])` | `[1,2,3,4]`|\n",
    "| `tuple`| <center>Cannot change structure at all</center>| Nil | Nil|\n",
    "| `dict` | <center>None</center>| `new_dict = {}` <br><br> `new_dict['a'] = 1` <br><br> `new_dict['b'] = 2` | `{'a': 1, 'b':2}`|\n",
    "\n",
    "<h3> <center> Updating / Changing Data </center></h3>\n",
    "\n",
    "|Collection Type | Functions | Examples | Resulting Output|\n",
    "| ---------|---------|---------| ------ |\n",
    "| `list` | <center>None</center>| `new_list = [1,2,3]` <br><br> `new_list[0] = 5` | `[5,2,3]`|\n",
    "| `tuple`| <center>Cannot change structure at all</center>| Nil | Nil|\n",
    "| `dict` | <center>None</center>| `new_dict = {'a': 1, 'b':2}` <br><br> `new_dict['a'] = 10`| `{'a': 10, 'b':2}`|\n",
    "\n",
    "<h3> <center> Accessing / Taking Out Data </center></h3>\n",
    "\n",
    "|Collection Type | Functions | x to be| Examples |\n",
    "| ---------|---------|---------| ------ |\n",
    "| `list` | <center>None</center>| 3 |`new_list = [1,2,3]` <br><br> `x = new_list[2] `|\n",
    "| `list of list` | <center>None</center>|3 |`new_list = [[1,2],[3,4]]` <br><br> `x = new_list[1][0] `|\n",
    "| `list of dict` | <center>None</center>| 2 |`new_list = [{'a':1},{'b':2}]` <br><br> `x = new_list[1]['b'] `|\n",
    "| `tuple`| <center>None</center>| 3 |`new_tuple = (1,2,3)` <br><br> `x = new_list[2] ` |\n",
    "| `dict` | <center>None</center>| 2|`new_dict = {'a': 1, 'b':2}` <br><br> `x = new_dict['b']`|"
   ]
  },
  {
   "cell_type": "markdown",
   "metadata": {},
   "source": [
    "<center><h1>FIN</h1><center>"
   ]
  }
 ],
 "metadata": {
  "kernelspec": {
   "display_name": "Python 3",
   "language": "python",
   "name": "python3"
  },
  "language_info": {
   "codemirror_mode": {
    "name": "ipython",
    "version": 3
   },
   "file_extension": ".py",
   "mimetype": "text/x-python",
   "name": "python",
   "nbconvert_exporter": "python",
   "pygments_lexer": "ipython3",
   "version": "3.7.6"
  }
 },
 "nbformat": 4,
 "nbformat_minor": 2
}
