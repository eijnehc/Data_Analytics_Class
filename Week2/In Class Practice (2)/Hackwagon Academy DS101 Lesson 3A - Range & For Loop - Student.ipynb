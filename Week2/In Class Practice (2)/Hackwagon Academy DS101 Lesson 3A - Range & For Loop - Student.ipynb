{
 "cells": [
  {
   "cell_type": "markdown",
   "metadata": {},
   "source": [
    "<center><img src=\"https://i2.wp.com/hackwagon.com/wp-content/uploads/2017/02/Logo-Web-Export.png?ssl=1\" width=200/></center>\n",
    "\n",
    "<h1> Hackwagon Academy DS101 Lesson 3 </h1>\n",
    "<h2> Iterations </h2> \n",
    "<h3> Lesson Outline </h3>\n",
    "\n",
    "- 1. [Pseudocode](#1)\n",
    "- 2. [Iterations (Loops)](#2)\n",
    "- 3. [For Loops](#3)\n",
    "    - 3.1 [Visualised](#3.1)\n",
    "    - 3.2 [Blocking Concept](#3.2)\n",
    "- 4. [range()](#4)\n",
    "    - 4.1 [Different Ranges](#4.1)\n",
    "    - 4.2 [Range Values as Indexes](#4.2)\n",
    "    - [Practice I](#P1)"
   ]
  },
  {
   "cell_type": "markdown",
   "metadata": {},
   "source": [
    "## Data Science Project Stages\n",
    "\n",
    "<img src=\"https://i.imgur.com/pIc9rZc.png\">"
   ]
  },
  {
   "cell_type": "markdown",
   "metadata": {},
   "source": [
    "<a id='1'><h2><img src=\"https://images.vexels.com/media/users/3/153978/isolated/preview/483ef8b10a46e28d02293a31570c8c56-warning-sign-colored-stroke-icon-by-vexels.png\" width=25 align=\"left\"><font color=\"salmon\">&nbsp;1.</font><font color=\"salmon\"> Pseudocode </font> </h2></a>\n",
    "\n",
    "To solve complicated problems in the real world, we start by thinking of the problem from a high-level perspective, without actually coding it. Write our steps in what's called <b><i>Pseudocode</i></b>. \n",
    "\n",
    "Let's imagine you set up a game stall of Plinko... So what is [Plinko](https://youtu.be/me4SV_tuMSE?t=281) ? \n",
    "\n",
    "<img src=\"https://i.imgur.com/O25vWu9.png\" width=\"500\">\n",
    "\n",
    "This approach is very often used by software engineers and data analyst when facing difficult problems. As we approach the topic of iterations, we will be facing more complex problems.\n",
    "\n",
    "The key steps to pseudocode is:\n",
    "1. Understand the problem\n",
    "2. Breaking down big problems into smaller problems\n",
    "3. Solving the smaller problems first\n",
    "4. Fit all the smaller solutions into one big solution"
   ]
  },
  {
   "cell_type": "markdown",
   "metadata": {},
   "source": [
    "#### Version 1\n",
    "\n",
    "- Just give prize only"
   ]
  },
  {
   "cell_type": "code",
   "execution_count": null,
   "metadata": {},
   "outputs": [],
   "source": [
    "# if disk drops in point 1\n",
    "#    then give gummy bear\n",
    "# if disk drops in point 2\n",
    "#    then give water gun\n",
    "\n",
    "# Write your code below:\n",
    "if disk == 1\n"
   ]
  },
  {
   "cell_type": "markdown",
   "metadata": {},
   "source": [
    "##### Version 2\n",
    "\n",
    "- Give prize if there's a prize, otherwise give something else"
   ]
  },
  {
   "cell_type": "code",
   "execution_count": null,
   "metadata": {},
   "outputs": [],
   "source": [
    "# if disk drops in point 1\n",
    "#    if there are still gummy bears\n",
    "#        give gummy bear\n",
    "#    otherwise nothing\n",
    "# if disk drops in point 2\n",
    "#    if there are still water guns\n",
    "#        give water gun\n",
    "#    otherwise give gummy bear\n",
    "\n",
    "# Write your code below:\n",
    "disk = 1\n",
    "gummy_bears = 2\n",
    "water_guns = 3\n",
    "\n",
    "if disk == 1:\n",
    "    if gummy_bears > 0:\n",
    "        print(\"give gummay bear!\")\n",
    "        gummy_bears -= 1\n",
    "    else:\n",
    "        print(\"nothing\")\n",
    "elif disk == 2:\n",
    "    if water_guns > 0:\n",
    "        print(\"give water gun!\")\n",
    "        water_guns -= 1\n",
    "    else:\n",
    "        print(\"give gummy bears\")\n"
   ]
  },
  {
   "cell_type": "markdown",
   "metadata": {},
   "source": [
    "<a id='2'><h2><img src=\"https://images.vexels.com/media/users/3/153978/isolated/preview/483ef8b10a46e28d02293a31570c8c56-warning-sign-colored-stroke-icon-by-vexels.png\" width=25 align=\"left\"><font color=\"salmon\">&nbsp;2.</font><font color=\"salmon\"> Iterations (Loops) </font> </h2></a>\n",
    "\n",
    "Loops are a way to <b>repeat</b> code more than once, saving us time from <b>copying and pasting code</b> that is exactly the same.\n",
    "\n",
    "**Example**\n",
    "\n",
    "Printing the `Hello World!` 10 times.\n",
    "\n",
    "Without loops:\n",
    "```python\n",
    "    print(\"Hello World!\")\n",
    "    print(\"Hello World!\")\n",
    "    print(\"Hello World!\")\n",
    "    print(\"Hello World!\")\n",
    "    print(\"Hello World!\")\n",
    "    print(\"Hello World!\")\n",
    "    print(\"Hello World!\")\n",
    "    print(\"Hello World!\")\n",
    "    print(\"Hello World!\")\n",
    "    print(\"Hello World!\")\n",
    "```\n",
    "\n",
    "With loops:\n",
    "```python\n",
    "    for i in range(10):\n",
    "        print(\"Hello World!\")\n",
    "```"
   ]
  },
  {
   "cell_type": "markdown",
   "metadata": {},
   "source": [
    "### Syntax\n",
    "\n",
    "<img src=\"https://i.imgur.com/iOASCWP.png\" width=\"500\">\n",
    "\n",
    "The naming of the `value` is dependent on the context (will be elaborated later). \n",
    "The `container_of_many_values` is a collection data type. \n",
    "\n",
    "Important to note:\n",
    "* Shift codes to the right by 4 spaces (indent)\n",
    "* Put a <b>colon</b> after the list\n",
    "* Use a variable that is a list to loop through"
   ]
  },
  {
   "cell_type": "markdown",
   "metadata": {},
   "source": [
    "<a id='3'><h2><img src=\"https://images.vexels.com/media/users/3/153978/isolated/preview/483ef8b10a46e28d02293a31570c8c56-warning-sign-colored-stroke-icon-by-vexels.png\" width=25 align=\"left\"><font color=\"salmon\">&nbsp;3.</font><font color=\"salmon\"> For Loops </font> </h2></a>\n",
    "\n",
    "<a id='3.1'><h3>3.1 Visualised</h3></a>\n",
    "\n",
    "![ForLoops](https://media.giphy.com/media/iGpkP6r7S5CgpSnbfc/giphy.gif \"countdown\")\n",
    "\n"
   ]
  },
  {
   "cell_type": "markdown",
   "metadata": {},
   "source": [
    "Without For Loops"
   ]
  },
  {
   "cell_type": "code",
   "execution_count": 8,
   "metadata": {},
   "outputs": [
    {
     "name": "stdout",
     "output_type": "stream",
     "text": [
      "5\n",
      "4\n",
      "3\n",
      "2\n",
      "1\n"
     ]
    }
   ],
   "source": [
    "countdown = [5, 4, 3, 2, 1] \n",
    "\n",
    "# Write your code below:\n",
    "for n in countdown:\n",
    "    print(n)\n",
    "    "
   ]
  },
  {
   "cell_type": "markdown",
   "metadata": {},
   "source": [
    "With For Loops"
   ]
  },
  {
   "cell_type": "code",
   "execution_count": null,
   "metadata": {},
   "outputs": [],
   "source": [
    "countdown = [5, 4, 3, 2, 1] \n",
    "\n",
    "# Context: Numbers in a Countdown List\n",
    "# Countdown <- Contains all numbers\n",
    "# Number <- 1 Number in Countdown\n",
    "# for <singular> in <plural>\n",
    "\n",
    "# Write your code below:\n",
    "\n"
   ]
  },
  {
   "cell_type": "code",
   "execution_count": 10,
   "metadata": {},
   "outputs": [
    {
     "data": {
      "text/html": [
       "\n",
       "        <iframe\n",
       "            width=\"100%\"\n",
       "            height=\"600px\"\n",
       "            src=\"http://pythontutor.com/iframe-embed.html#code=countdown%20%3D%20%5B5,%204,%203,%202,%201%5D%20%0A%0Afor%20number%20in%20countdown%3A%0A%20%20%20%20print%28number%29%0Aprint%28%22Peekaboo%22%29&codeDivHeight=400&codeDivWidth=350&cumulative=false&curInstr=0&heapPrimitives=nevernest&origin=opt-frontend.js&py=3&rawInputLstJSON=%5B%5D&textReferences=false\"\n",
       "            frameborder=\"0\"\n",
       "            allowfullscreen\n",
       "        ></iframe>\n",
       "        "
      ],
      "text/plain": [
       "<IPython.lib.display.IFrame at 0x10d8102d0>"
      ]
     },
     "execution_count": 10,
     "metadata": {},
     "output_type": "execute_result"
    }
   ],
   "source": [
    "from IPython.display import IFrame ; IFrame(\"http://pythontutor.com/iframe-embed.html#code=countdown%20%3D%20%5B5,%204,%203,%202,%201%5D%20%0A%0Afor%20number%20in%20countdown%3A%0A%20%20%20%20print%28number%29%0Aprint%28%22Peekaboo%22%29&codeDivHeight=400&codeDivWidth=350&cumulative=false&curInstr=0&heapPrimitives=nevernest&origin=opt-frontend.js&py=3&rawInputLstJSON=%5B%5D&textReferences=false\",'100%','600px')"
   ]
  },
  {
   "cell_type": "markdown",
   "metadata": {},
   "source": [
    "<a id='3.2'><h3>3.2 Blocking Concept</h3></a>\n",
    "\n",
    "<img src=\"https://i.imgur.com/wy9buUB.png\" width=\"400\">"
   ]
  },
  {
   "cell_type": "code",
   "execution_count": 11,
   "metadata": {},
   "outputs": [
    {
     "name": "stdout",
     "output_type": "stream",
     "text": [
      "Hello\n",
      "Hello\n",
      "Hello\n",
      "Goodbye\n"
     ]
    }
   ],
   "source": [
    "numbers = [10, 20, 30]\n",
    "\n",
    "for x in numbers:\n",
    "    print(\"Hello\")\n",
    "print(\"Goodbye\")"
   ]
  },
  {
   "cell_type": "markdown",
   "metadata": {},
   "source": [
    "### Common Errors - No Indentations"
   ]
  },
  {
   "cell_type": "code",
   "execution_count": 8,
   "metadata": {},
   "outputs": [
    {
     "name": "stdout",
     "output_type": "stream",
     "text": [
      "3\n",
      "0\n",
      "1\n",
      "2\n"
     ]
    }
   ],
   "source": [
    "data = [1,2,3]\n",
    "print(len(data))\n",
    "\n",
    "for i in range(0,len(data)):\n",
    "    print(i)\n",
    "# Indentations\n",
    "# for i in data:\n",
    "# print(\"This will fail\")"
   ]
  },
  {
   "cell_type": "markdown",
   "metadata": {},
   "source": [
    "### Common Errors - No Colons"
   ]
  },
  {
   "cell_type": "code",
   "execution_count": 13,
   "metadata": {},
   "outputs": [
    {
     "ename": "SyntaxError",
     "evalue": "invalid syntax (<ipython-input-13-b28c2233a368>, line 4)",
     "output_type": "error",
     "traceback": [
      "\u001b[0;36m  File \u001b[0;32m\"<ipython-input-13-b28c2233a368>\"\u001b[0;36m, line \u001b[0;32m4\u001b[0m\n\u001b[0;31m    for i in data\u001b[0m\n\u001b[0m                 ^\u001b[0m\n\u001b[0;31mSyntaxError\u001b[0m\u001b[0;31m:\u001b[0m invalid syntax\n"
     ]
    }
   ],
   "source": [
    "data = [1,2,3]\n",
    "\n",
    "# Colons are important\n",
    "for i in data\n",
    "    print(\"This will fail\")"
   ]
  },
  {
   "cell_type": "markdown",
   "metadata": {},
   "source": [
    "<a id='4'><h2><img src=\"https://images.vexels.com/media/users/3/153978/isolated/preview/483ef8b10a46e28d02293a31570c8c56-warning-sign-colored-stroke-icon-by-vexels.png\" width=25 align=\"left\"><font color=\"salmon\">&nbsp;4.</font><font color=\"salmon\"> range() </font> </h2></a>\n",
    "\n",
    "The `range` function gives us a list of numbers from a given start and a given end. \n",
    "\n",
    "The syntax is similar to string slicing, recall:\n",
    "```python\n",
    "    word = \"Hackwagon\"\n",
    "    hack = word[0:4] # [start:stop-1:step]\n",
    "```"
   ]
  },
  {
   "cell_type": "code",
   "execution_count": 15,
   "metadata": {},
   "outputs": [
    {
     "name": "stdout",
     "output_type": "stream",
     "text": [
      "1\n",
      "2\n",
      "3\n",
      "4\n",
      "5\n",
      "6\n",
      "7\n",
      "8\n",
      "9\n",
      "10\n"
     ]
    }
   ],
   "source": [
    "# Write your code below:\n",
    "my_list = [1,2,3,4,5,6,7,8,9,10]\n",
    "\n",
    "my_list = range(1,11)\n",
    "for i in my_list:\n",
    "    print(i)"
   ]
  },
  {
   "cell_type": "markdown",
   "metadata": {},
   "source": [
    "<a id='4.1'><h3>4.1 Different Ranges</h3></a>\n",
    "\n",
    "You can have different ranges of numbers by tweaking the values inside the brackets."
   ]
  },
  {
   "cell_type": "code",
   "execution_count": 17,
   "metadata": {},
   "outputs": [
    {
     "name": "stdout",
     "output_type": "stream",
     "text": [
      "[1, 2, 3, 4, 5, 6, 7, 8, 9, 10]\n",
      "[1, 2, 3, 4, 5, 6, 7, 8, 9, 10]\n",
      "[0, 1, 2, 3, 4, 5, 6, 7, 8, 9, 10]\n"
     ]
    }
   ],
   "source": [
    "# range(start, stop, step)\n",
    "# range(1, 11) -> [1, ... 10]\n",
    "# range(5, 10) -> [5, ... 9]\n",
    "# range(10) -> [0 ... 9]\n",
    "# range(0,10,2) -> [0,2,4,6,8]\n",
    "\n",
    "# Write your code below:\n",
    "my_range = range(1,11,1) \n",
    "print(list(my_range))\n",
    "\n",
    "# 2nd: Common\n",
    "my_range = range(1,11)\n",
    "print(list(my_range))\n",
    "\n",
    "# 2nd: Short\n",
    "my_range = range(11)\n",
    "print(list(my_range))"
   ]
  },
  {
   "cell_type": "code",
   "execution_count": 18,
   "metadata": {},
   "outputs": [
    {
     "name": "stdout",
     "output_type": "stream",
     "text": [
      "[1, 3, 5, 7, 9]\n"
     ]
    }
   ],
   "source": [
    "my_range = range(1,11,2) \n",
    "print(list(my_range))"
   ]
  },
  {
   "cell_type": "markdown",
   "metadata": {},
   "source": [
    "<a id='4.2'><h3>4.2 Range Values as Indexes</h3></a>\n",
    "\n",
    "We can adjust the range values to print items in a list <b>based on its index.</b>\n",
    "\n",
    "```python\n",
    "mylist = ['a', 'b', 'c', 'd', 'e', 'f', 'g', 'h', 'i', 'z']\n",
    "```\n",
    "\n",
    "Print out all the letters in this list"
   ]
  },
  {
   "cell_type": "code",
   "execution_count": 32,
   "metadata": {},
   "outputs": [
    {
     "name": "stdout",
     "output_type": "stream",
     "text": [
      "a\n",
      "c\n",
      "e\n",
      "g\n",
      "i\n"
     ]
    }
   ],
   "source": [
    "mylist = ['a', 'b', 'c', 'd', 'e', 'f', 'g', 'h', 'i', 'z']\n",
    "# print(len(mylist))\n",
    "# Write your code below:\n",
    "\n",
    "#1st: Easy\n",
    "# for char in myList:\n",
    "#     print(char)\n",
    "    \n",
    "#2nd: Indices-based\n",
    "\n",
    "for i in range(len(mylist)):\n",
    "    if (i % 2 == 0):\n",
    "        print(mylist[i])\n"
   ]
  },
  {
   "cell_type": "markdown",
   "metadata": {},
   "source": [
    "<a id='P1'><h2><img src=\"https://cdn.shopify.com/s/files/1/1200/7374/products/book_aec28e76-52ec-44ab-bc01-41df1279c89f_550x825.png?v=1473897430\" width=25 align=\"left\"> <font color=\"darkorange\"> &nbsp; Practice I </font><font color=\"skyblue\"> * </font></h2></a>\n",
    "\n",
    "### Question 1\n",
    "<p>\n",
    "    Print all numbers between 10 and 20\n",
    "</p>"
   ]
  },
  {
   "cell_type": "code",
   "execution_count": 28,
   "metadata": {},
   "outputs": [
    {
     "name": "stdout",
     "output_type": "stream",
     "text": [
      "[10, 11, 12, 13, 14, 15, 16, 17, 18, 19, 20]\n",
      "10\n",
      "11\n",
      "12\n",
      "13\n",
      "14\n",
      "15\n",
      "16\n",
      "17\n",
      "18\n",
      "19\n",
      "20\n"
     ]
    }
   ],
   "source": [
    "# Write your code below:\n",
    "\n",
    "my_range = range(10,21)\n",
    "print(list(my_range))\n",
    "for number in range(10,21):\n",
    "    print(number)"
   ]
  },
  {
   "cell_type": "code",
   "execution_count": null,
   "metadata": {},
   "outputs": [],
   "source": []
  },
  {
   "cell_type": "markdown",
   "metadata": {},
   "source": [
    "### Question 2\n",
    "\n",
    "With the following list, print out the `square` of each number.\n",
    "Hint: Use a <code>for-loop</code> + <code>range</code> function to help you\n",
    "\n",
    "Expected output:\n",
    "\n",
    "> 225 <br>\n",
    "> 36 <br>\n",
    "> 1 <br>\n",
    "> 4 <br>\n",
    "> 49\n",
    "> ..."
   ]
  },
  {
   "cell_type": "code",
   "execution_count": 29,
   "metadata": {},
   "outputs": [
    {
     "name": "stdout",
     "output_type": "stream",
     "text": [
      "225\n",
      "36\n",
      "1\n",
      "4\n",
      "49\n",
      "100\n",
      "625\n",
      "4\n",
      "36\n",
      "16\n",
      "1\n"
     ]
    }
   ],
   "source": [
    "data = [15, 6, 1, 2, 7, 10, 25, 2, 6, 4, 1]\n",
    "\n",
    "# Write your code below:\n",
    "\n",
    "for i in data:\n",
    "    print(i ** 2)\n"
   ]
  }
 ],
 "metadata": {
  "kernelspec": {
   "display_name": "Python 3",
   "language": "python",
   "name": "python3"
  },
  "language_info": {
   "codemirror_mode": {
    "name": "ipython",
    "version": 3
   },
   "file_extension": ".py",
   "mimetype": "text/x-python",
   "name": "python",
   "nbconvert_exporter": "python",
   "pygments_lexer": "ipython3",
   "version": "3.7.6"
  }
 },
 "nbformat": 4,
 "nbformat_minor": 2
}
