{
 "cells": [
  {
   "cell_type": "markdown",
   "metadata": {},
   "source": [
    "<img src=\"https://i2.wp.com/hackwagon.com/wp-content/uploads/2017/02/Logo-Web-Export.png?ssl=1\" width=200/>\n",
    "<h1> Hackwagon Academy: DS101 Extra Practice 2 </h1>"
   ]
  },
  {
   "cell_type": "markdown",
   "metadata": {},
   "source": [
    "### Question 1\n",
    "\n",
    "Print out all of the NRIC in the given data.\n",
    "\n",
    "<b>Expected Output:</b>\n",
    "\n",
    "    S93250888\n",
    "    S93250818\n",
    "    S93250288\n",
    "    S93250218\n",
    "    S93250248"
   ]
  },
  {
   "cell_type": "code",
   "execution_count": 5,
   "metadata": {},
   "outputs": [
    {
     "name": "stdout",
     "output_type": "stream",
     "text": [
      "S93250888\n",
      "S93250818\n",
      "S93250288\n",
      "S93250218\n",
      "S93250248\n"
     ]
    }
   ],
   "source": [
    "data = [\n",
    "    {'name': 'kt', 'nric': 'S93250888', 'score': 10, 'occupation': 'student'},\n",
    "    {'name': 'john', 'nric': 'S93250818', 'score': 5, 'occupation': 'student'},\n",
    "    {'name': 'henry', 'nric': 'S93250288', 'score': 2, 'occupation': 'teacher'},\n",
    "    {'name': 'mark', 'nric': 'S93250218', 'score': 7, 'occupation': 'student'},\n",
    "    {'name': 'mary', 'nric': 'S93250248', 'score': 2, 'occupation': 'teacher'},\n",
    "]\n",
    "\n",
    "for row in data:\n",
    "    nric = row['nric']\n",
    "    print(nric)"
   ]
  },
  {
   "cell_type": "markdown",
   "metadata": {},
   "source": [
    "### Question 2\n",
    "\n",
    "Print out the total score of all the people in the list.\n",
    "\n",
    "<b>Expected Output:</b>\n",
    "\n",
    "    26"
   ]
  },
  {
   "cell_type": "code",
   "execution_count": 8,
   "metadata": {},
   "outputs": [
    {
     "name": "stdout",
     "output_type": "stream",
     "text": [
      "26\n"
     ]
    }
   ],
   "source": [
    "data = [\n",
    "    {'name': 'kt', 'nric': 'S93250888', 'score': 10, 'occupation': 'student'},\n",
    "    {'name': 'john', 'nric': 'S93250818', 'score': 5, 'occupation': 'student'},\n",
    "    {'name': 'henry', 'nric': 'S93250288', 'score': 2, 'occupation': 'teacher'},\n",
    "    {'name': 'mark', 'nric': 'S93250218', 'score': 7, 'occupation': 'student'},\n",
    "    {'name': 'mary', 'nric': 'S93250248', 'score': 2, 'occupation': 'teacher'},\n",
    "]\n",
    "\n",
    "total_score = 0\n",
    "\n",
    "for row in data:\n",
    "    score = row['score']\n",
    "    total_score += score\n",
    "    \n",
    "print(total_score)\n",
    "    "
   ]
  },
  {
   "cell_type": "markdown",
   "metadata": {},
   "source": [
    "### Question 3\n",
    "\n",
    "Print out the `name` and `nric` for each person in the `data`\n",
    "\n",
    "<b>Expected Output:</b>\n",
    "\n",
    "    kt S93250888\n",
    "    john S93250818\n",
    "    henry S93250288\n",
    "    mark S93250248"
   ]
  },
  {
   "cell_type": "code",
   "execution_count": 16,
   "metadata": {},
   "outputs": [
    {
     "name": "stdout",
     "output_type": "stream",
     "text": [
      "kt S93250888\n",
      "john S93250818\n",
      "henry S93250288\n",
      "mark S93250248\n"
     ]
    }
   ],
   "source": [
    "data = {\n",
    "    'kt': { 'nric': 'S93250888', 'score': 10, 'occupation': 'student'},\n",
    "    'john': {'nric': 'S93250818', 'score': 5, 'occupation': 'student'},\n",
    "    'henry': { 'nric': 'S93250288', 'score': 2, 'occupation': 'teacher'},\n",
    "    'mark': { 'nric': 'S93250218', 'score': 7, 'occupation': 'student'},\n",
    "    'mark': { 'nric': 'S93250248', 'score': 2, 'occupation': 'teacher'},\n",
    "}\n",
    "\n",
    "for person,details in data.items():\n",
    "    nric = details['nric'] #only can access k,v\n",
    "    print(person, nric)\n",
    "    "
   ]
  },
  {
   "cell_type": "markdown",
   "metadata": {},
   "source": [
    "### Question 4\n",
    "\n",
    "<h3> Find all factors of a number </h3>\n",
    "\n",
    "<p> Given a number N, print out all numbers that are factors of N<br>\n",
    "    <i> Doesn't matter if you print a list or a string </i>\n",
    "</p>\n",
    "\n",
    "**Expected output:**\n",
    "    \n",
    "    [1, 3, 5, 11, 15, 33, 55, 165]"
   ]
  },
  {
   "cell_type": "code",
   "execution_count": 29,
   "metadata": {},
   "outputs": [
    {
     "name": "stdout",
     "output_type": "stream",
     "text": [
      "[1, 3, 5, 11, 15, 33, 55, 165]\n"
     ]
    }
   ],
   "source": [
    "N = 165\n",
    "\n",
    "factors = []\n",
    "\n",
    "for number in range(1,166):\n",
    "    if N % number == 0:\n",
    "        factors.append(number)\n",
    "\n",
    "print(factors)\n"
   ]
  },
  {
   "cell_type": "markdown",
   "metadata": {},
   "source": [
    "### Question 5\n",
    "\n",
    "<h3> Finding prime numbers </h3>\n",
    "\n",
    "<p> Given a list of integers, print out all numbers that are prime numbers<br>\n",
    "    <i> Doesn't matter if you print a list or a string </i>\n",
    "</p>\n",
    "\n",
    "**Expected Answers:**\n",
    "\n",
    "    13\n",
    "    31\n",
    "    7\n",
    "    5\n",
    "    3"
   ]
  },
  {
   "cell_type": "code",
   "execution_count": 58,
   "metadata": {},
   "outputs": [
    {
     "name": "stdout",
     "output_type": "stream",
     "text": [
      "13\n",
      "31\n",
      "7\n",
      "5\n",
      "3\n"
     ]
    }
   ],
   "source": [
    "ints = [13, 88, 21, 31, 7, 5, 1, 3, -55, 0]\n",
    "\n",
    "for number in ints:\n",
    "    prime = True\n",
    "    if number > 1:\n",
    "        for integer in range(2,number): \n",
    "            if number % integer == 0:\n",
    "                prime = False\n",
    "        if prime == True:\n",
    "            print(number)\n",
    "        \n",
    "            "
   ]
  }
 ],
 "metadata": {
  "kernelspec": {
   "display_name": "Python 3",
   "language": "python",
   "name": "python3"
  },
  "language_info": {
   "codemirror_mode": {
    "name": "ipython",
    "version": 3
   },
   "file_extension": ".py",
   "mimetype": "text/x-python",
   "name": "python",
   "nbconvert_exporter": "python",
   "pygments_lexer": "ipython3",
   "version": "3.7.6"
  }
 },
 "nbformat": 4,
 "nbformat_minor": 2
}
