{
 "cells": [
  {
   "cell_type": "markdown",
   "metadata": {},
   "source": [
    "<img src=\"https://i2.wp.com/hackwagon.com/wp-content/uploads/2017/02/Logo-Web-Export.png?ssl=1\" width=200/>\n",
    "<h1> Hackwagon Academy: DS101 Extra Practice 3 </h1>"
   ]
  },
  {
   "cell_type": "markdown",
   "metadata": {},
   "source": [
    "### Question 1\n",
    "\n",
    "Print out the names of all students in this dataset\n",
    "\n",
    "<b>Expected Output:</b>\n",
    "\n",
    "    KT\n",
    "    John\n",
    "    Henry\n",
    "    Mark"
   ]
  },
  {
   "cell_type": "code",
   "execution_count": 30,
   "metadata": {},
   "outputs": [
    {
     "name": "stdout",
     "output_type": "stream",
     "text": [
      "KT\n",
      "John\n",
      "Henry\n",
      "Mark\n"
     ]
    }
   ],
   "source": [
    "data = {\n",
    "    'results': {\n",
    "        'name': 'Classes',\n",
    "        'data': [\n",
    "            {\n",
    "                'Class': 'A',\n",
    "                'Students': ['KT', 'John']\n",
    "            },\n",
    "            {\n",
    "                'Class': 'A',\n",
    "                'Students': ['Henry', 'Mark']\n",
    "            }\n",
    "        ]\n",
    "    }\n",
    "}\n",
    "\n",
    "for k,v in data.items():\n",
    "    for k1,v1 in data[k].items():\n",
    "        if (k1 == 'data'):\n",
    "            for i in v1:\n",
    "                for k2,v2 in i.items():\n",
    "                    if(k2 == 'Students'):\n",
    "                        for j in v2:\n",
    "                            print(j)\n"
   ]
  },
  {
   "cell_type": "markdown",
   "metadata": {},
   "source": [
    "### Question 2\n",
    "\n",
    "Print the total score of teachers and students in data, broken down by occupation\n",
    "\n",
    "<b>Expected Output:</b>\n",
    "\n",
    "\n",
    "    {\n",
    "        'teacher': 4,\n",
    "        'student': 15\n",
    "    }"
   ]
  },
  {
   "cell_type": "code",
   "execution_count": 16,
   "metadata": {},
   "outputs": [
    {
     "name": "stdout",
     "output_type": "stream",
     "text": [
      "{'student': 15, 'teacher': 4}\n"
     ]
    }
   ],
   "source": [
    "data = {\n",
    "    'kt': { 'nric': 'S93250888', 'score': 10, 'occupation': 'student'},\n",
    "    'john': {'nric': 'S93250818', 'score': 5, 'occupation': 'student'},\n",
    "    'henry': { 'nric': 'S93250288', 'score': 2, 'occupation': 'teacher'},\n",
    "    'mark': { 'nric': 'S93250218', 'score': 7, 'occupation': 'student'},\n",
    "    'mark': { 'nric': 'S93250248', 'score': 2, 'occupation': 'teacher'},\n",
    "}\n",
    "\n",
    "result = {}\n",
    "\n",
    "for k,v in data.items():\n",
    "    score = v['score']\n",
    "    occupation = v['occupation']\n",
    "    if occupation not in result:\n",
    "        result[occupation] = score\n",
    "    else:\n",
    "        result[occupation] += score\n",
    "\n",
    "print(result)"
   ]
  },
  {
   "cell_type": "code",
   "execution_count": null,
   "metadata": {},
   "outputs": [],
   "source": [
    "reversed_result = {}\n",
    "for k,v in sorted(result.items(), reverse=True):\n",
    "    reversed_result[k] = v\n",
    "    \n",
    "print(reversed_result)"
   ]
  },
  {
   "cell_type": "markdown",
   "metadata": {},
   "source": [
    "### Question 3\n",
    "\n",
    "Print the average score of teachers and students in data, broken down by occupation\n",
    "\n",
    "<b>Expected Output:</b>\n",
    "\n",
    "    {\n",
    "        'student': 7.5, \n",
    "        'teacher': 2.0\n",
    "    }"
   ]
  },
  {
   "cell_type": "code",
   "execution_count": 38,
   "metadata": {},
   "outputs": [
    {
     "name": "stdout",
     "output_type": "stream",
     "text": [
      "{'student': 7.5, 'teacher': 2.0}\n",
      "{'student': 2, 'teacher': 2}\n"
     ]
    }
   ],
   "source": [
    "data = {\n",
    "    'kt': { 'nric': 'S93250888', 'score': 10, 'occupation': 'student'},\n",
    "    'john': {'nric': 'S93250818', 'score': 5, 'occupation': 'student'},\n",
    "    'henry': { 'nric': 'S93250288', 'score': 2, 'occupation': 'teacher'},\n",
    "    'mark': { 'nric': 'S93250218', 'score': 7, 'occupation': 'student'},\n",
    "    'mark': { 'nric': 'S93250248', 'score': 2, 'occupation': 'teacher'},\n",
    "}\n",
    "\n",
    "result = {}\n",
    "count = {}\n",
    "\n",
    "for k,v in data.items():\n",
    "    score = v['score']\n",
    "    occupation = v['occupation']\n",
    "    if occupation not in result:\n",
    "        result[occupation] = score\n",
    "        count[occupation] = 1\n",
    "    else:\n",
    "        total = result[occupation] * count[occupation] + score\n",
    "        count[occupation] += 1\n",
    "        result[occupation] = total / count[occupation]\n",
    "\n",
    "print(result)\n",
    "print(count)\n"
   ]
  },
  {
   "cell_type": "markdown",
   "metadata": {},
   "source": [
    "### Question 4\n",
    "\n",
    "<h3> Largest palindrome product </h3>\n",
    "\n",
    "A palindromic number reads the same both ways. The largest palindrome made from the product of two 2-digit numbers is 9009 = 91 × 99.\n",
    "\n",
    "Find the largest palindrome made from the product of two 3-digit numbers.\n",
    "\n",
    "**Expected Answers:**\n",
    "\n",
    "    906609"
   ]
  },
  {
   "cell_type": "code",
   "execution_count": 5,
   "metadata": {},
   "outputs": [
    {
     "name": "stdout",
     "output_type": "stream",
     "text": [
      "906609\n"
     ]
    }
   ],
   "source": [
    "highest  = 0\n",
    "for i in range(1,1000):\n",
    "    for j in range(1,1000):\n",
    "        num = str(i * j)\n",
    "        if (num == num[::-1]):\n",
    "            if (int(num) > highest):\n",
    "                highest = int(num)\n",
    "print(highest)"
   ]
  },
  {
   "cell_type": "markdown",
   "metadata": {},
   "source": [
    "### Question 5\n",
    "\n",
    "<h3> Print a Christmas tree </h3>\n",
    "\n",
    "For a given n, where n is odd, print out a christmas tree that looks like this\n",
    "\n",
    "When **n**  = 3\n",
    "\n",
    "&nbsp;&nbsp;\\*<br>\n",
    "&nbsp;\\*\\*\\* <br>\n",
    "\\*\\*\\*\\*\\* <br>\n",
    "\n",
    "When **n**  = 5\n",
    "\n",
    "&nbsp;&nbsp;&nbsp;&nbsp;\\*<br>\n",
    "&nbsp;&nbsp;&nbsp;\\*\\*\\* <br>\n",
    "&nbsp;&nbsp;\\*\\*\\*\\*\\* <br>\n",
    "&nbsp;\\*\\*\\*\\*\\*\\*\\* <br>\n",
    "\\*\\*\\*\\*\\*\\*\\*\\*\\* <br>\n",
    "\n",
    "When **n** = 1 <br>\n",
    "\n",
    "*"
   ]
  },
  {
   "cell_type": "code",
   "execution_count": 27,
   "metadata": {},
   "outputs": [
    {
     "name": "stdout",
     "output_type": "stream",
     "text": [
      "  *\n",
      " ***\n",
      "*****\n"
     ]
    }
   ],
   "source": [
    "n = 3\n",
    "\n",
    "for i in range(1,n+1):\n",
    "    print(\" \" * (n-i) + \"*\" * (i*2-1))"
   ]
  },
  {
   "cell_type": "code",
   "execution_count": null,
   "metadata": {},
   "outputs": [],
   "source": []
  }
 ],
 "metadata": {
  "kernelspec": {
   "display_name": "Python 3",
   "language": "python",
   "name": "python3"
  },
  "language_info": {
   "codemirror_mode": {
    "name": "ipython",
    "version": 3
   },
   "file_extension": ".py",
   "mimetype": "text/x-python",
   "name": "python",
   "nbconvert_exporter": "python",
   "pygments_lexer": "ipython3",
   "version": "3.8.3"
  }
 },
 "nbformat": 4,
 "nbformat_minor": 2
}
