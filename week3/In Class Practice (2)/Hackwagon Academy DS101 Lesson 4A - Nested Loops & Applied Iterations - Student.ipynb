{
 "cells": [
  {
   "cell_type": "markdown",
   "metadata": {},
   "source": [
    "<center><img src=\"https://i2.wp.com/hackwagon.com/wp-content/uploads/2017/02/Logo-Web-Export.png?ssl=1\" width=200/></center>\n",
    "\n",
    "<h1> Hackwagon Academy DS101 Lesson 4A </h1>\n",
    "<h2> Nested Loops & Applied Iterations </h2> \n",
    "<h3> Lesson Outline </h3>\n",
    "\n",
    "- 1. [Nested Loops](#1)\n",
    "    - [Practice I](#P1)\n",
    "- 2. [Applied Iterations](#2)\n",
    "    - [Practice II](#P2)"
   ]
  },
  {
   "cell_type": "markdown",
   "metadata": {},
   "source": [
    "## Data Science Project Stages\n",
    "\n",
    "<img src=\"https://i.imgur.com/pIc9rZc.png\">"
   ]
  },
  {
   "cell_type": "markdown",
   "metadata": {},
   "source": [
    "<a id='1'><h2><img src=\"https://images.vexels.com/media/users/3/153978/isolated/preview/483ef8b10a46e28d02293a31570c8c56-warning-sign-colored-stroke-icon-by-vexels.png\" width=25 align=\"left\"><font color=\"salmon\">&nbsp;1.</font><font color=\"salmon\"> Nested Loops </font> </h2></a>\n",
    "\n",
    "With a single loop, you can only access one row of data. With a loop inside the outer loop, we can access every data within that row of data. This concept is called nested loops. \n",
    "\n",
    "Nested Loops can visualised in the following manner: \n",
    "\n",
    "![NestedLoops](https://media.giphy.com/media/PijZGlktptq1X6xvO4/giphy.gif \"NestyLoops\")\n"
   ]
  },
  {
   "cell_type": "code",
   "execution_count": 12,
   "metadata": {
    "scrolled": false
   },
   "outputs": [
    {
     "name": "stdout",
     "output_type": "stream",
     "text": [
      "channels in genre 1:\n",
      "channel 1: CNN\n",
      "channel 2: Fox News\n",
      "channels in genre 2:\n",
      "channel 3: EXO\n",
      "channel 4: SNSD\n",
      "channel 5: BIG BANG\n"
     ]
    }
   ],
   "source": [
    "genre_channels = [\n",
    "    ['CNN','Fox News'], # News - Index 0\n",
    "    ['EXO','SNSD', 'BIG BANG'], # KPOP - Index 1\n",
    "]\n",
    "\n",
    "genre_no = 1\n",
    "channel_no = 1\n",
    "# Write your code below:\n",
    "for genre in genre_channels:\n",
    "    print('channels in genre ' + str(genre_no) + ':')\n",
    "    \n",
    "    for channel in genre:\n",
    "        print(\"channel \" + str(channel_no) + \": \" + channel)\n",
    "        channel_no += 1\n",
    "    genre_no += 1"
   ]
  },
  {
   "cell_type": "markdown",
   "metadata": {},
   "source": [
    "Run the cell below to visualise the code:"
   ]
  },
  {
   "cell_type": "code",
   "execution_count": 1,
   "metadata": {},
   "outputs": [
    {
     "data": {
      "text/html": [
       "\n",
       "        <iframe\n",
       "            width=\"100%\"\n",
       "            height=\"600px\"\n",
       "            src=\"http://pythontutor.com/iframe-embed.html#code=genre_channels%20%3D%20%5B%0A%20%20%20%20%5B'CNN','Fox%20News'%5D,%0A%20%20%20%20%5B'EXO','SNSD',%20'BIG%20BANG'%5D,%0A%5D%0A%0Agenre_no%20%3D%201%0Afor%20genre%20in%20genre_channels%3A%0A%20%20%20%20print%28'channels%20in%20genre'%20%2B%20str%28genre_no%29%20%2B%20'%3A'%29%0A%0A%20%20%20%20for%20channel%20in%20genre%3A%0A%20%20%20%20%20%20%20%20print%28channel%29%0A%20%20%20%20genre_no%20%2B%3D%201&codeDivHeight=400&codeDivWidth=350&cumulative=true&curInstr=0&heapPrimitives=nevernest&origin=opt-frontend.js&py=3&rawInputLstJSON=%5B%5D&textReferences=false\"\n",
       "            frameborder=\"0\"\n",
       "            allowfullscreen\n",
       "        ></iframe>\n",
       "        "
      ],
      "text/plain": [
       "<IPython.lib.display.IFrame at 0x104077350>"
      ]
     },
     "execution_count": 1,
     "metadata": {},
     "output_type": "execute_result"
    }
   ],
   "source": [
    "from IPython.display import IFrame ; IFrame(\"http://pythontutor.com/iframe-embed.html#code=genre_channels%20%3D%20%5B%0A%20%20%20%20%5B'CNN','Fox%20News'%5D,%0A%20%20%20%20%5B'EXO','SNSD',%20'BIG%20BANG'%5D,%0A%5D%0A%0Agenre_no%20%3D%201%0Afor%20genre%20in%20genre_channels%3A%0A%20%20%20%20print%28'channels%20in%20genre'%20%2B%20str%28genre_no%29%20%2B%20'%3A'%29%0A%0A%20%20%20%20for%20channel%20in%20genre%3A%0A%20%20%20%20%20%20%20%20print%28channel%29%0A%20%20%20%20genre_no%20%2B%3D%201&codeDivHeight=400&codeDivWidth=350&cumulative=true&curInstr=0&heapPrimitives=nevernest&origin=opt-frontend.js&py=3&rawInputLstJSON=%5B%5D&textReferences=false\",\"100%\",\"600px\")"
   ]
  },
  {
   "cell_type": "markdown",
   "metadata": {},
   "source": [
    "<a id='P1'><h2><img src=\"https://cdn.shopify.com/s/files/1/1200/7374/products/book_aec28e76-52ec-44ab-bc01-41df1279c89f_550x825.png?v=1473897430\" width=25 align=\"left\"> <font color=\"darkorange\"> &nbsp; Practice I </font><font color=\"skyblue\"> * </font></h2></a>\n",
    "### Question 1\n",
    "Given the following `data`, print all the <b>positive</b> numbers:\n",
    "\n",
    "**Expected Output:**\n",
    "```\n",
    "    3\n",
    "    12\n",
    "    9\n",
    "    30\n",
    "    4\n",
    "    9\n",
    "    3\n",
    "    12\n",
    "    9\n",
    "    72\n",
    "    15\n",
    "    \n",
    "```"
   ]
  },
  {
   "cell_type": "code",
   "execution_count": 13,
   "metadata": {},
   "outputs": [
    {
     "name": "stdout",
     "output_type": "stream",
     "text": [
      "3\n",
      "12\n",
      "9\n",
      "30\n",
      "4\n",
      "9\n",
      "3\n",
      "12\n",
      "9\n",
      "72\n",
      "15\n"
     ]
    }
   ],
   "source": [
    "data = [\n",
    "    [3, -4, 12, 9, -72, 0, 30],\n",
    "    [-5, 4, -20, 9, -42, 0, -15],\n",
    "    [3, -4, 12, 9, 72, -25, 15],\n",
    "]\n",
    "\n",
    "# Write your code below:\n",
    "\n",
    "for row in data:\n",
    "    for it in row:\n",
    "        if (it > 0):\n",
    "            print(it)\n"
   ]
  },
  {
   "cell_type": "markdown",
   "metadata": {},
   "source": [
    "### Question 2\n",
    "Given the following `data`, collect all the negative numbers and put them in a new list called `negatives` :\n",
    "\n",
    "**Expected Output:**\n",
    "```\n",
    "    [-4, -72, -5, -20, -42, -15, -4, -25]\n",
    "```"
   ]
  },
  {
   "cell_type": "code",
   "execution_count": 14,
   "metadata": {},
   "outputs": [
    {
     "name": "stdout",
     "output_type": "stream",
     "text": [
      "[-4, -72, -5, -20, -42, -15, -4, -25]\n"
     ]
    }
   ],
   "source": [
    "data = [\n",
    "    [3, -4, 12, 9, -72, 0, 30],\n",
    "    [-5, 4, -20, 9, -42, 0, -15],\n",
    "    [3, -4, 12, 9, 72, -25, 15],\n",
    "]\n",
    "\n",
    "# Write your code below:\n",
    "\n",
    "negative_list = []\n",
    "\n",
    "for row in data:\n",
    "    for it in row:\n",
    "        if(it < 0):\n",
    "            negative_list.append(it)\n",
    "print(negative_list)"
   ]
  },
  {
   "cell_type": "markdown",
   "metadata": {},
   "source": [
    "<a id='2'><h2><img src=\"https://images.vexels.com/media/users/3/153978/isolated/preview/483ef8b10a46e28d02293a31570c8c56-warning-sign-colored-stroke-icon-by-vexels.png\" width=25 align=\"left\"><font color=\"salmon\">&nbsp;2.</font><font color=\"salmon\"> Applied Iterations </font> </h2></a>\n",
    "\n",
    "Let's try and apply what we have learnt in the past 3 lessons to a real dataset. The following [dataset](https://data.gov.sg/dataset/graduates-from-university-first-degree-courses-by-type-of-course?view_id=fa0e401c-6251-4a15-aebc-a5f3d2c85752&resource_id=eb8b932c-503c-41e7-b513-114cffbe2338) is from Singapore Government's Open Data Portal, Data.gov.sg. \n",
    "\n",
    "When opening the file in Microsoft Excel, it will look like this:\n",
    "\n",
    "<img src=\"https://i.imgur.com/M05Ta23.png\" width=\"400\">\n",
    "\n",
    "<b>Make sure that the data file is in the same folder as your Jupyter Notebook</b>\n",
    "\n",
    "\n",
    "When we execute the codes below, we will get a <b>list of many lists</b>, where <b>one inner list is a row of data</b>, that looks like this\n",
    "```python\n",
    "   [\n",
    "       [ # Row 0\n",
    "           1993, # Year - Index 0\n",
    "           'Males',  # Sex - Index 1\n",
    "           'Education',  # Type of Course - Index 2\n",
    "           0 # No of Graduates - Index 3\n",
    "       ],\n",
    "       [ # Row 1\n",
    "           1993, # Year - Index 0\n",
    "           'Males', # Sex - Index 1\n",
    "           'Applied Arts',  # Type of Course - Index 2\n",
    "            0 # No of Graduates - Index 3\n",
    "       ],\n",
    "       [ # Row 2\n",
    "           1993, # Year  - Index 0\n",
    "           'Males', # Sex - Index 1\n",
    "           'Humanities & Social Sciences',  # Type of Course - Index 2\n",
    "           481# No of Graduates - Index 3\n",
    "       ]\n",
    "   ]\n",
    "\n",
    "```\n",
    "Run the cell below, we will learn more about opening a file in Lesson 5/6."
   ]
  },
  {
   "cell_type": "code",
   "execution_count": 15,
   "metadata": {},
   "outputs": [
    {
     "data": {
      "text/plain": [
       "[[1993, 'Males', 'Education', 0],\n",
       " [1993, 'Males', 'Applied Arts', 0],\n",
       " [1993, 'Males', 'Humanities & Social Sciences', 481]]"
      ]
     },
     "execution_count": 15,
     "metadata": {},
     "output_type": "execute_result"
    }
   ],
   "source": [
    "import csv\n",
    "\n",
    "with open('graduates-from-university-first-degree-courses-by-type-of-course.csv', encoding='utf-8') as file:\n",
    "    #read the file\n",
    "    reader = csv.reader(file,delimiter=',')\n",
    "    \n",
    "    #skips column headers\n",
    "    next(reader)\n",
    "    \n",
    "    #container to store all data\n",
    "    all_courses = []\n",
    "    \n",
    "    # goes through every row\n",
    "    for row in reader:\n",
    "        # data cleaning \n",
    "        row[0] = int(row[0]) # Year Data is Cleaned to Int Type\n",
    "        if row[3] == 'na': # Check for 'na'\n",
    "            row[3] = 0\n",
    "        else:\n",
    "            row[3] = int(row[3]) # Change students to Int Type\n",
    "        \n",
    "        # add the row to the container\n",
    "        all_courses.append(row)\n",
    "\n",
    "# previews first 3 row    \n",
    "all_courses[:3]"
   ]
  },
  {
   "cell_type": "markdown",
   "metadata": {},
   "source": [
    "When handling any datasets, follow these important steps:\n",
    "\n",
    "1. **Take out** the data we need based on the context\n",
    "2. Based on the question, **apply** the necessary steps on the data you have taken out\n",
    "\n",
    "Using what we've learnt over the past lessons, we're going to answer some basic questions about this dataset. For example:\n",
    "\n",
    "**How many students applied for `Education` over the years?**\n",
    "\n",
    "Based on this question, the variables we need are:\n",
    "1. Type of Course\n",
    "2. No. of Graduates\n",
    "\n",
    "So the process for answering this question should be:\n",
    "\n",
    "1. **Create** the result container\n",
    "2. **Loop** the data\n",
    "3. Take out the 2 variables **(most important step)**\n",
    "4. **Test** the variables to see if they fit the condition\n",
    "5. **Update** the result container\n",
    "\n"
   ]
  },
  {
   "cell_type": "code",
   "execution_count": 23,
   "metadata": {},
   "outputs": [
    {
     "name": "stdout",
     "output_type": "stream",
     "text": [
      "6421\n"
     ]
    }
   ],
   "source": [
    "# Write your code below:\n",
    "\n",
    "# all_courses[:3]\n",
    "\n",
    "result = 0\n",
    "\n",
    "for record in all_courses:\n",
    "    course = record[2]\n",
    "    num_of_students = record[3]\n",
    "    if (course == \"Education\"):\n",
    "        result += num_of_students\n",
    "print(result)\n",
    "    "
   ]
  },
  {
   "cell_type": "markdown",
   "metadata": {},
   "source": [
    "<a id='P2'><h2><img src=\"https://cdn.shopify.com/s/files/1/1200/7374/products/book_aec28e76-52ec-44ab-bc01-41df1279c89f_550x825.png?v=1473897430\" width=25 align=\"left\"> <font color=\"darkorange\"> &nbsp; Practice II </font><font color=\"skyblue\"> * </font></h2></a>\n",
    "### Question 1\n",
    "Based on the following `all_courses`, answer the following question:\n",
    "\n",
    "<b>How many `Females` students have taken `Law`?</b>\n",
    "\n",
    "<i>Hint\n",
    "1. What variables do you need?\n",
    "2. What do you have to test for?\n",
    "</i>\n",
    "\n",
    "<b> Expected Output: </b>\n",
    "\n",
    "    2574"
   ]
  },
  {
   "cell_type": "code",
   "execution_count": 25,
   "metadata": {},
   "outputs": [
    {
     "name": "stdout",
     "output_type": "stream",
     "text": [
      "2574\n"
     ]
    }
   ],
   "source": [
    "# Write your code below:\n",
    "\n",
    "student = 0\n",
    "\n",
    "for record in all_courses:\n",
    "    if (record[1] == \"Females\" and record[2] == \"Law\"):\n",
    "        student += record[3]\n",
    "print(student)"
   ]
  },
  {
   "cell_type": "markdown",
   "metadata": {},
   "source": [
    "### Question 2\n",
    "Based on the following `all_courses`, answer the following question:\n",
    "\n",
    "<b>How many students have taken `Information Technology` between `2000` and `2014`?</b>\n",
    "\n",
    "<i>Hint\n",
    "1. What variables do you need?\n",
    "2. What do you have to test for?\n",
    "</i>\n",
    "\n",
    "<b>Expected Output:</b>\n",
    "\n",
    "    9084"
   ]
  },
  {
   "cell_type": "code",
   "execution_count": 27,
   "metadata": {},
   "outputs": [
    {
     "name": "stdout",
     "output_type": "stream",
     "text": [
      "9084\n"
     ]
    }
   ],
   "source": [
    "# Write your code below:\n",
    "\n",
    "student = 0\n",
    "\n",
    "for record in all_courses:\n",
    "    if (record[0] in range(2000,2015) and record[2] == \"Information Technology\"):\n",
    "        student += record[3]\n",
    "print(student)"
   ]
  }
 ],
 "metadata": {
  "kernelspec": {
   "display_name": "Python 3",
   "language": "python",
   "name": "python3"
  },
  "language_info": {
   "codemirror_mode": {
    "name": "ipython",
    "version": 3
   },
   "file_extension": ".py",
   "mimetype": "text/x-python",
   "name": "python",
   "nbconvert_exporter": "python",
   "pygments_lexer": "ipython3",
   "version": "3.7.6"
  }
 },
 "nbformat": 4,
 "nbformat_minor": 2
}
