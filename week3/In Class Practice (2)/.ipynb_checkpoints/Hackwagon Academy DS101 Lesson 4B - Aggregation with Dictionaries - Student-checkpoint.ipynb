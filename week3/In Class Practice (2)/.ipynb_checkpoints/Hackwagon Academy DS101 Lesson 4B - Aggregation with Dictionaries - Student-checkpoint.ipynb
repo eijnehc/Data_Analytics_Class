{
 "cells": [
  {
   "cell_type": "markdown",
   "metadata": {},
   "source": [
    "<center><img src=\"https://i2.wp.com/hackwagon.com/wp-content/uploads/2017/02/Logo-Web-Export.png?ssl=1\" width=200/></center>\n",
    "\n",
    "<h1> Hackwagon Academy DS101 Lesson 4 </h1>\n",
    "<h2> Aggregation with Dictionaries </h2> \n",
    "<h3> Lesson Outline </h3>\n",
    "\n",
    "- 1. [Aggregation with Dictionaries](#1)\n",
    "    - [Establishing the Basics](#1.1)\n",
    "        - [Practice I](#P1)\n",
    "    - [Aggregation of Data](#1.2)\n",
    "        - [Practice II](#P2)"
   ]
  },
  {
   "cell_type": "markdown",
   "metadata": {},
   "source": [
    "<h2><img src=\"https://img.icons8.com/color/50/000000/blunt-bulb.png\" width=23 align=\"left\"><font color=\"dodgerblue\"> Recap! - Dictionary </font> </h2>"
   ]
  },
  {
   "cell_type": "code",
   "execution_count": 7,
   "metadata": {},
   "outputs": [
    {
     "name": "stdout",
     "output_type": "stream",
     "text": [
      "{}\n",
      "{'key_1': 10}\n",
      "{'key_1': 10, 'key_2': 20}\n",
      "{'key_1': 10, 'key_2': 40}\n",
      "True\n",
      "False\n"
     ]
    }
   ],
   "source": [
    "# Create empty dictionary\n",
    "x = {}\n",
    "print(x)\n",
    "\n",
    "# Create new pair\n",
    "x[\"key_1\"] = 10\n",
    "print(x)\n",
    "\n",
    "# Create new pair\n",
    "x[\"key_2\"] = 20\n",
    "print(x)\n",
    "\n",
    "# Update existing pair\n",
    "x[\"key_2\"] = 40\n",
    "print(x)\n",
    "\n",
    "# Check if exists\n",
    "print('key_1' in x)\n",
    "print(\"key_3\" in x)\n"
   ]
  },
  {
   "cell_type": "markdown",
   "metadata": {},
   "source": [
    "<a id='1'><h2><img src=\"https://images.vexels.com/media/users/3/153978/isolated/preview/483ef8b10a46e28d02293a31570c8c56-warning-sign-colored-stroke-icon-by-vexels.png\" width=25 align=\"left\"><font color=\"salmon\">&nbsp;1.</font><font color=\"salmon\"> Aggregation with Dictionaries </font> </h2></a>\n",
    "\n",
    "<a id=\"1.1\"> <h3>1.1 Establishing the Basics</h3></a>\n",
    "\n",
    "**The following concept is extremely important**. The collections data types like List and Dictionaries helps us to store many values within a single data type. \n",
    "\n",
    "Dictionaries, however, provide us with the tools to **aggregate** data and store them. \n",
    "\n",
    "<img src=\"https://static.comicvine.com/uploads/original/9/91584/1960894-xzc.jpg\">\n",
    "\n",
    "\n",
    "Think of this concept like catching Pokemon on your PokeDex.\n",
    "- When you've never seen that Pokemon before, your Pokedex will create a new entry. \n",
    "- When you catch it again, it adds to the previous count. \n",
    "\n",
    "Given a list of `caught` pokemons, to count the occurances of each pokemon, a dictionary would help us count each of these occurances.\n",
    "\n",
    "![CountingWithDictionaries](https://media.giphy.com/media/Lk0QGja8JY7VPejr5g/giphy.gif \"Pokemon\")\n",
    "\n",
    "**Expected Output:**\n",
    "    \n",
    "    {\n",
    "        'Pikachu': 3,\n",
    "        'Bulbasaur': 2,\n",
    "        'Charmander': 1\n",
    "    }"
   ]
  },
  {
   "cell_type": "code",
   "execution_count": 19,
   "metadata": {},
   "outputs": [
    {
     "name": "stdout",
     "output_type": "stream",
     "text": [
      "{'Pikachu': 3, 'Bulbasaur': 2, 'Charmander': 1}\n"
     ]
    }
   ],
   "source": [
    "caught = ['Pikachu','Bulbasaur','Pikachu','Pikachu','Bulbasaur','Charmander']\n",
    "\n",
    "# Write your code below:\n",
    "summary = {}\n",
    "for pokemon in caught:\n",
    "    if pokemon not in summary:\n",
    "        summary[pokemon] = 1\n",
    "    else:\n",
    "        summary[pokemon] += 1\n",
    "\n",
    "print(summary)"
   ]
  },
  {
   "cell_type": "markdown",
   "metadata": {},
   "source": [
    "Run the cell below to visualise the code:"
   ]
  },
  {
   "cell_type": "code",
   "execution_count": null,
   "metadata": {},
   "outputs": [],
   "source": [
    "from IPython.display import IFrame ; IFrame(\"http://pythontutor.com/iframe-embed.html#code=caught%20%3D%20%5B'Pikachu','Bulbasaur','Pikachu','Pikachu','Bulbasaur','Charmander'%5D%0A%0Apdx%20%3D%20%7B%7D%0Aprint%28pdx%29%0A%0Afor%20pokemon%20in%20caught%3A%0A%20%20%20%20print%28pokemon%29%20%0A%20%20%20%20%0A%20%20%20%20if%20pokemon%20not%20in%20pdx%3A%0A%20%20%20%20%20%20%20%20pdx%5Bpokemon%5D%20%3D%201%0A%20%20%20%20else%3A%0A%20%20%20%20%20%20%20%20pdx%5Bpokemon%5D%20%2B%3D%201%0A%20%20%20%20%0A%20%20%20%20print%28pdx%29&codeDivHeight=400&codeDivWidth=350&cumulative=false&curInstr=0&heapPrimitives=nevernest&origin=opt-frontend.js&py=3&rawInputLstJSON=%5B%5D&textReferences=false\",\"100%\",\"600px\")"
   ]
  },
  {
   "cell_type": "markdown",
   "metadata": {},
   "source": [
    "<a id='P1'><h2><img src=\"https://cdn.shopify.com/s/files/1/1200/7374/products/book_aec28e76-52ec-44ab-bc01-41df1279c89f_550x825.png?v=1473897430\" width=25 align=\"left\"> <font color=\"darkorange\"> &nbsp; Practice I </font><font color=\"skyblue\"> * </font></h2></a>\n",
    "\n",
    "### Question 1\n",
    "Here we have a dataset of employee information. Count the number of `student` and `teacher` that occur.\n",
    "\n",
    "**Expected Output:**\n",
    "\n",
    "    {\n",
    "        'student': 3,\n",
    "        'teacher': 2  \n",
    "    }"
   ]
  },
  {
   "cell_type": "code",
   "execution_count": 30,
   "metadata": {},
   "outputs": [
    {
     "name": "stdout",
     "output_type": "stream",
     "text": [
      "{'student': 3, 'teacher': 2}\n"
     ]
    }
   ],
   "source": [
    "data = [\n",
    "    {'name': 'kt', 'nric': 'S93250888', 'score': 10, 'occupation': 'student'},\n",
    "    {'name': 'eli', 'nric': 'S93250818', 'score': 5, 'occupation': 'student'},\n",
    "    {'name': 'vera', 'nric': 'S93250288', 'score': 2, 'occupation': 'teacher'},\n",
    "    {'name': 'may', 'nric': 'S93250218', 'score': 7, 'occupation': 'student'},\n",
    "    {'name': 'agnes', 'nric': 'S93250248', 'score': 2, 'occupation': 'teacher'},\n",
    "]\n",
    "\n",
    "# Write your code below:\n",
    "\n",
    "employee = {}\n",
    "employee['student'] = 0\n",
    "employee['teacher'] = 0\n",
    "\n",
    "for row in data:\n",
    "    if row['occupation'] == 'student':\n",
    "        employee['student'] += 1\n",
    "    else:\n",
    "        employee['teacher'] += 1\n",
    "print(employee)"
   ]
  },
  {
   "cell_type": "code",
   "execution_count": 32,
   "metadata": {},
   "outputs": [
    {
     "name": "stdout",
     "output_type": "stream",
     "text": [
      "{'student': 3, 'teacher': 2}\n"
     ]
    }
   ],
   "source": [
    "data = [\n",
    "    {'name': 'kt', 'nric': 'S93250888', 'score': 10, 'occupation': 'student'},\n",
    "    {'name': 'eli', 'nric': 'S93250818', 'score': 5, 'occupation': 'student'},\n",
    "    {'name': 'vera', 'nric': 'S93250288', 'score': 2, 'occupation': 'teacher'},\n",
    "    {'name': 'may', 'nric': 'S93250218', 'score': 7, 'occupation': 'student'},\n",
    "    {'name': 'agnes', 'nric': 'S93250248', 'score': 2, 'occupation': 'teacher'},\n",
    "]\n",
    "\n",
    "# Write your code below:\n",
    "\n",
    "result = {}\n",
    "\n",
    "for person in data:\n",
    "    occupation = person['occupation']\n",
    "    if (occupation) not in result:\n",
    "        result[occupation] = 1\n",
    "    else:\n",
    "        result[occupation] += 1\n",
    "print(result)"
   ]
  },
  {
   "cell_type": "code",
   "execution_count": 39,
   "metadata": {},
   "outputs": [
    {
     "name": "stdout",
     "output_type": "stream",
     "text": [
      "{'student': ['kt', 'eli', 'may'], 'teacher': ['vera', 'agnes']}\n"
     ]
    }
   ],
   "source": [
    "result = {}\n",
    "\n",
    "for person in data:\n",
    "    name = person['name']\n",
    "    occupation = person['occupation']\n",
    "    if occupation not in result:\n",
    "        result[occupation] = [name]\n",
    "    else:\n",
    "        result[occupation].append(name)\n",
    "print(result)"
   ]
  },
  {
   "cell_type": "code",
   "execution_count": null,
   "metadata": {},
   "outputs": [],
   "source": []
  },
  {
   "cell_type": "markdown",
   "metadata": {},
   "source": [
    "### Question 2\n",
    "The 11-11 sales is coming, the ads are everywhere. Here we have a list of sales called `lazada_sales`, where each product (inner list): index 0 is the brand, index 1 is the sales made in a single day. <b> This question is very similar to what you will be facing in your YouTube lab exercise. </b>\n",
    "\n",
    "Your task is to collate all the sales for each brand.\n",
    "\n",
    "**Expected Output:**\n",
    "\n",
    "    {\n",
    "        'Adidas Superboost': 9,\n",
    "        'Nike Zoom': 7,\n",
    "        'Rolex Submariner': 4,\n",
    "        'Rolex Daytona': 6\n",
    "    }\n",
    "\n"
   ]
  },
  {
   "cell_type": "code",
   "execution_count": 36,
   "metadata": {},
   "outputs": [
    {
     "name": "stdout",
     "output_type": "stream",
     "text": [
      "{'Adidas Superboost': 9, 'Nike Zoom': 7, 'Rolex Submariner': 4, 'Rolex Daytona': 6}\n"
     ]
    }
   ],
   "source": [
    "lazada_sales = [\n",
    "    ['Adidas Superboost', 1],\n",
    "    ['Nike Zoom', 1],\n",
    "    ['Nike Zoom', 2],\n",
    "    ['Nike Zoom', 1],\n",
    "    ['Nike Zoom', 1],\n",
    "    ['Adidas Superboost', 2],\n",
    "    ['Nike Zoom', 1],\n",
    "    ['Adidas Superboost', 1],\n",
    "    ['Nike Zoom', 1],\n",
    "    ['Adidas Superboost', 1],\n",
    "    ['Adidas Superboost', 1],\n",
    "    ['Adidas Superboost', 3],\n",
    "    ['Rolex Submariner', 1],\n",
    "    ['Rolex Submariner', 2],\n",
    "    ['Rolex Submariner', 1],\n",
    "    ['Rolex Daytona', 2],\n",
    "    ['Rolex Daytona', 1],\n",
    "    ['Rolex Daytona', 2],\n",
    "    ['Rolex Daytona', 1]\n",
    "]\n",
    "\n",
    "# Write your code below:\n",
    "\n",
    "brand = {}\n",
    "\n",
    "for shoes in lazada_sales:\n",
    "    if (shoes[0] not in brand):\n",
    "        brand[shoes[0]] = shoes[1]\n",
    "    else:\n",
    "        brand[shoes[0]] += shoes[1]\n",
    "print(brand)"
   ]
  },
  {
   "cell_type": "code",
   "execution_count": null,
   "metadata": {},
   "outputs": [],
   "source": []
  },
  {
   "cell_type": "markdown",
   "metadata": {},
   "source": [
    "Sometimes you need to aggregate the data before you can start counting"
   ]
  },
  {
   "cell_type": "markdown",
   "metadata": {},
   "source": [
    "<a id=\"1.2\"> <h3>1.2 Aggregation of Data</h3></a>\n",
    "\n",
    "In most cases, drawing a conclusion from a dataset is not a straightforward process. It requires you to aggregate your data first\n",
    "\n",
    "Let's explore this concept in further detail with an example:\n",
    "\n",
    "**Finding the mode**\n",
    "\n",
    "\"_The **mode** is a statistical term that refers to the most frequently occurring number found in a set of numbers. The mode is found by collecting and organizing data in order to count the frequency of each result. The result with the highest number of occurrences is the mode of the set._\" - Investopedia\n",
    "\n",
    "> <code>Identify the <b>mode</b> of the following list of numbers.</code>\n",
    "\n",
    "**Expected output:**\n",
    "`42`"
   ]
  },
  {
   "cell_type": "code",
   "execution_count": 47,
   "metadata": {
    "ExecuteTime": {
     "end_time": "2019-07-15T13:40:00.946109Z",
     "start_time": "2019-07-15T13:40:00.938430Z"
    }
   },
   "outputs": [
    {
     "name": "stdout",
     "output_type": "stream",
     "text": [
      "{10: 1, 5: 1, 81: 1, 24: 1, 42: 4, 91: 1, 54: 1, 18: 1, 36: 1, 70: 1, 95: 1, 31: 1}\n",
      "42\n"
     ]
    }
   ],
   "source": [
    "data = [10, 5, 81, 24, 42, 91, 54, 42, 18, 36, 70, 95, 31, 42, 42]\n",
    "\n",
    "# Write your code below:\n",
    "\n",
    "# Step 1. Accumulate the unique numbers' respective counts into a `counts` dictionary\n",
    "frequency_profile = {}\n",
    "\n",
    "for number in data:\n",
    "    if number not in frequency_profile:\n",
    "        frequency_profile[number] = 1\n",
    "    else:\n",
    "        frequency_profile[number] += 1\n",
    "print(frequency_profile)\n",
    "\n",
    "\n",
    "# Step 2. Now that we have a dict of counts, loop over it and find the number with the highest count.        \n",
    "# print(max(frequency_profile.values()))\n",
    "\n",
    "mode = 0\n",
    "highest_frequency = 0\n",
    "\n",
    "for number,frequency in frequency_profile.items():\n",
    "    if (frequency > highest_frequency):\n",
    "        highest_frequency = frequency\n",
    "        mode = number\n",
    "print(mode)\n",
    "\n"
   ]
  },
  {
   "cell_type": "markdown",
   "metadata": {},
   "source": [
    "<a id='P2'><h2><img src=\"https://cdn.shopify.com/s/files/1/1200/7374/products/book_aec28e76-52ec-44ab-bc01-41df1279c89f_550x825.png?v=1473897430\" width=25 align=\"left\"> <font color=\"darkorange\"> &nbsp; Practice II </font><font color=\"skyblue\"> * </font></h2></a>\n",
    "\n",
    "### Question 1 - Most Popular Food Item\n",
    "\n",
    "Given the dictionary `emp_preferences` with the key-value format: `{'employee name': ['food1', 'food2', ...]}`\n",
    "\n",
    "> `Find the most popular food item -- display its name and the number of employees who like it.`\n",
    "\n",
    "**Expected output:** `pizza` is liked by `5` people."
   ]
  },
  {
   "cell_type": "code",
   "execution_count": 2,
   "metadata": {
    "ExecuteTime": {
     "end_time": "2019-07-15T13:39:47.463650Z",
     "start_time": "2019-07-15T13:39:47.456576Z"
    }
   },
   "outputs": [
    {
     "name": "stdout",
     "output_type": "stream",
     "text": [
      "{'pizza': 5, 'burger': 3, 'steak': 1, 'fries': 3, 'tomato soup': 2, 'beef rendang': 2, 'pasta': 1, 'nasi lemak': 1, 'salad': 1, 'chicken rice': 1, 'ayam penyet': 1, 'prata': 1}\n",
      "pizza is liked by 5 people\n"
     ]
    }
   ],
   "source": [
    "emp_preferences = {\n",
    "    'ali': ['pizza', 'burger', 'steak'],\n",
    "    'bob': ['pizza', 'fries', 'tomato soup', 'beef rendang'],\n",
    "    'cat': ['fries', 'pasta', 'pizza', 'burger'],\n",
    "    'dan': ['tomato soup', 'nasi lemak', 'beef rendang', 'pizza'],\n",
    "    'eli': ['fries', 'pizza', 'salad', 'burger', 'chicken rice', 'ayam penyet', 'prata']\n",
    "}\n",
    "\n",
    "# Your code here:\n",
    "\n",
    "# Step 1. Accumulate the words and their respective counts into a dictionary `counts`\n",
    "foodlist = {}\n",
    "\n",
    "for fooditem in emp_preferences.values():\n",
    "    for food in fooditem:\n",
    "        if (food not in foodlist):\n",
    "            foodlist[food] = 1\n",
    "        else:\n",
    "            foodlist[food] += 1\n",
    "print(foodlist)\n",
    "\n",
    "# Step 2. Now that we have a dictionary of counts, loop over it and find the word that has the highest count.              \n",
    "mode = 0\n",
    "highest_frequency = 0\n",
    "\n",
    "for foodtype, frequency in foodlist.items():\n",
    "    if (frequency > highest_frequency):\n",
    "        highest_frequency = frequency\n",
    "        mode = foodtype\n",
    "print(f\"{mode} is liked by {highest_frequency} people\")\n"
   ]
  },
  {
   "cell_type": "code",
   "execution_count": null,
   "metadata": {},
   "outputs": [],
   "source": []
  },
  {
   "cell_type": "code",
   "execution_count": null,
   "metadata": {},
   "outputs": [],
   "source": []
  },
  {
   "cell_type": "markdown",
   "metadata": {},
   "source": [
    "### Question 2 - Sales Commission Generator\n",
    "\n",
    "Salespeople at _Peng Piong Pte Ltd_ receive commissions based on their sales volume. There are several criteria to meet in order for a salesperson to be eligible for the reward. Management has given you the sample dataset of this year's sales transactions below. <br>\n",
    "\n",
    "The rules are detailed in the commission table below:\n",
    "\n",
    "| Rule No. | Description |\n",
    "| - | - |\n",
    "| 1 | Count of sales made must be greater than 3 |\n",
    "| 2 | Have no sale amount less than \\$20 | \n",
    "| 3 | Average sale amount of at least \\$30 |\n",
    "\n",
    "Salespeople who meet this criteria are eligible for the commission -- **10%** of their **total sales** made.\n",
    "\n",
    " > `Write a program to generate the commissions payable to all salespeople captured in the dataset.`\n",
    "\n",
    "**Expected output: (Ordering does not matter)**\n",
    "```\n",
    "Alex will receive: $34.3\n",
    "Bob will receive: $0\n",
    "Cat will receive: $28.59\n",
    "Donny will receive: $0\n",
    "```"
   ]
  },
  {
   "cell_type": "code",
   "execution_count": 30,
   "metadata": {
    "ExecuteTime": {
     "end_time": "2019-07-15T13:34:32.022440Z",
     "start_time": "2019-07-15T13:34:32.010232Z"
    }
   },
   "outputs": [
    {
     "name": "stdout",
     "output_type": "stream",
     "text": [
      "{'Donny': [57.46, 96.2], 'Bob': [84.56, 8.31, 51.28, 81.12, 28.07], 'Cat': [38.36, 66.28, 76.34, 31.98, 20.46, 52.51], 'Alex': [88.83, 52.25, 44.82, 122.5, 34.64]}\n",
      "Donny receives $0\n",
      "Bob receives $0\n",
      "Cat receives $28.59\n",
      "Alex receives $34.3\n"
     ]
    }
   ],
   "source": [
    "data = [ \n",
    "    # Transaction ID, Salesperson Name, Sale Amount\n",
    "    [1,  'Donny', 57.46],\n",
    "    [2,  'Bob'  , 84.56],\n",
    "    [3,  'Cat'  , 38.36],\n",
    "    [4,  'Cat'  , 66.28],\n",
    "    [5,  'Alex' , 88.83],\n",
    "    [6,  'Cat'  , 76.34],\n",
    "    [8,  'Alex' , 52.25],\n",
    "    [10, 'Alex' , 44.82],\n",
    "    [11, 'Cat'  , 31.98],\n",
    "    [12, 'Bob'  , 8.31 ],\n",
    "    [13, 'Cat'  , 20.46],\n",
    "    [14, 'Cat'  , 52.51],\n",
    "    [15, 'Bob'  , 51.28],\n",
    "    [16, 'Alex' , 122.5],\n",
    "    [17, 'Donny', 96.2 ],\n",
    "    [18, 'Bob'  , 81.12],\n",
    "    [19, 'Alex' , 34.64],\n",
    "    [20, 'Bob'  , 28.07]\n",
    "]\n",
    "\n",
    "# Write your code below:\n",
    "\n",
    "# Step 1. 'Group' the data into a dictionary of the format:\n",
    "#         {\n",
    "#           'Donny': [57.46, 96.2],\n",
    "#           'Bob'  : [84.56, 8.31, 51.28, ...],\n",
    "#           ...\n",
    "#         }\n",
    "\n",
    "result = {}\n",
    "\n",
    "for cashier in data:\n",
    "    name = cashier[1]\n",
    "    value = cashier[2]\n",
    "    \n",
    "    if (cashier[1] not in result):    \n",
    "        result[cashier[1]] = []\n",
    "    result[cashier[1]].append(cashier[2])\n",
    "\n",
    "print(result)\n",
    "\n",
    "# # Step 2. Loop over the dictionary and apply the rules to the values (list of sales amounts) of the dictionary\n",
    "# #         Rule 1: Count of sales made must be greater than 3\n",
    "# #         Rule 2: Have no sale amount less than $20\n",
    "# #         Rule 3: Average sale amount of at least $30\n",
    "\n",
    "for name, transaction_list in result.items():\n",
    "    rule1 = len(transaction_list) > 3\n",
    "    rule2 = min(transaction_list) >= 20\n",
    "    rule3 = sum(transaction_list)/len(transaction_list) >= 30\n",
    "    \n",
    "    commission = 0\n",
    "    \n",
    "    if rule1 and rule2 and rule3:\n",
    "        commission = 0.1 * sum(transaction_list)\n",
    "    \n",
    "    print(f\"{name} receives ${round(commission,2)}\")\n",
    "\n"
   ]
  },
  {
   "cell_type": "markdown",
   "metadata": {},
   "source": [
    "<center><h1>FIN</h1><center>"
   ]
  }
 ],
 "metadata": {
  "kernelspec": {
   "display_name": "Python 3",
   "language": "python",
   "name": "python3"
  },
  "language_info": {
   "codemirror_mode": {
    "name": "ipython",
    "version": 3
   },
   "file_extension": ".py",
   "mimetype": "text/x-python",
   "name": "python",
   "nbconvert_exporter": "python",
   "pygments_lexer": "ipython3",
   "version": "3.7.6"
  }
 },
 "nbformat": 4,
 "nbformat_minor": 2
}
