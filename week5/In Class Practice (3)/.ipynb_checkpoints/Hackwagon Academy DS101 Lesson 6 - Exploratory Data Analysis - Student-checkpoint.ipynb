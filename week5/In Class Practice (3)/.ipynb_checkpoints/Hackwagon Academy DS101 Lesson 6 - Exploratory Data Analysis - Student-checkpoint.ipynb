{
 "cells": [
  {
   "cell_type": "markdown",
   "metadata": {},
   "source": [
    "<center><img src=\"https://i2.wp.com/hackwagon.com/wp-content/uploads/2017/02/Logo-Web-Export.png?ssl=1\" width=200/></center>\n",
    "\n",
    "<h1> Hackwagon Academy DS101 Lesson 6 </h1>\n",
    "<h2> Exploratory Data Analysis (EDA) </h2> \n",
    "<h3> Lesson Outline </h3>\n",
    "\n",
    "1. Data Science Project Stages\n",
    "2. Case Study - Resale Flat Prices\n",
    "    1. Understanding the data\n",
    "    2. Initial Exploration\n",
    "       + Preliminary Findings\n",
    "    3. Descriptive Analysis \n",
    "3. In-Class Practice"
   ]
  },
  {
   "cell_type": "markdown",
   "metadata": {},
   "source": [
    "<h2><img src=\"https://images.vexels.com/media/users/3/153978/isolated/preview/483ef8b10a46e28d02293a31570c8c56-warning-sign-colored-stroke-icon-by-vexels.png\" width=25 align=\"left\"><font color=\"salmon\">&nbsp;1.</font><font color=\"salmon\"> Data Science Project Stages </font> </h2></a>\n",
    "\n",
    "<img src=\"https://i.imgur.com/pIc9rZc.png\">"
   ]
  },
  {
   "cell_type": "markdown",
   "metadata": {},
   "source": [
    "<hr>"
   ]
  },
  {
   "cell_type": "markdown",
   "metadata": {},
   "source": [
    "# <font color=\"salmon\">Resale Flat Prices</font>\n",
    "by [Housing and Development Board (HDB)](https://data.gov.sg/dataset/resale-flat-prices?resource_id=42ff9cfe-abe5-4b54-beda-c88f9bb438ee)\n",
    "\n",
    "<img src=\"https://stackedhomes.com/blog/wp-content/uploads/2017/05/Housing_and_Development_Board_flats_in_Bukit_Panjang_Singapore_-_20130131_single-row_panorama.jpg\">\n",
    "\n",
    "<font style=\"float: right\" size=1>Photo by: <a href=\"https://stackedhomes.com/blog/wp-content/uploads/2017/05/Housing_and_Development_Board_flats_in_Bukit_Panjang_Singapore_-_20130131_single-row_panorama-1360x460.jpg\">stackedhomes</a></font>"
   ]
  },
  {
   "cell_type": "markdown",
   "metadata": {
    "ExecuteTime": {
     "end_time": "2019-07-15T14:14:32.201278Z",
     "start_time": "2019-07-15T14:14:32.197955Z"
    }
   },
   "source": [
    "<hr>\n",
    "<center>\n",
    "    <img src=\"https://static.bocoup.com/blog/showing-missing-data-in-line-charts/feature_image.gif\" width=700>\n",
    "    <h1>I. Understanding The Data</h1>\n",
    "</center>\n",
    "<hr>"
   ]
  },
  {
   "cell_type": "markdown",
   "metadata": {},
   "source": [
    "# Read & view dataset\n",
    "1. _Read the dataset `flats.csv` into Python and store it into a variable named `data`_.\n",
    "2. Display the first row."
   ]
  },
  {
   "cell_type": "code",
   "execution_count": null,
   "metadata": {
    "ExecuteTime": {
     "end_time": "2019-08-12T06:42:48.422567Z",
     "start_time": "2019-08-12T06:42:47.447102Z"
    }
   },
   "outputs": [],
   "source": [
    "\n",
    "\n"
   ]
  },
  {
   "cell_type": "markdown",
   "metadata": {},
   "source": [
    "## Dataset Characteristics\n",
    "\n",
    "+ `Columns`\n",
    "> **Richness / dimensionality**\n",
    "    - Data types\n",
    "        - Categorical, Numeric, Datetime\n",
    "        - Nominal, ordinal, interval, ratio\n",
    "\n",
    "+ `Rows`\n",
    "> **Normalisation**: what 1 row represents\n",
    "\n",
    "+ `Misc.`\n",
    ">  **Cleanliness**\n",
    "    - Dirty data & missing values"
   ]
  },
  {
   "cell_type": "markdown",
   "metadata": {},
   "source": [
    "<img src=\"https://image.flaticon.com/icons/svg/1491/1491416.svg\" width=50 align=\"left\"> \n",
    "\n",
    "### &nbsp; _With the dataset's characteristics, what **can** I analyse?_"
   ]
  },
  {
   "cell_type": "code",
   "execution_count": 1,
   "metadata": {
    "ExecuteTime": {
     "end_time": "2019-08-12T06:42:48.428028Z",
     "start_time": "2019-08-12T06:42:48.424258Z"
    }
   },
   "outputs": [
    {
     "data": {
      "text/html": [
       "\n",
       "        <iframe\n",
       "            width=\"100%\"\n",
       "            height=\"600\"\n",
       "            src=\"https://data.gov.sg/dataset/resale-flat-prices/resource/42ff9cfe-abe5-4b54-beda-c88f9bb438ee/view/8481923a-3673-4b4c-b443-5a5bf5127215\"\n",
       "            frameborder=\"0\"\n",
       "            allowfullscreen\n",
       "        ></iframe>\n",
       "        "
      ],
      "text/plain": [
       "<IPython.lib.display.IFrame at 0x10a7fdca0>"
      ]
     },
     "execution_count": 1,
     "metadata": {},
     "output_type": "execute_result"
    }
   ],
   "source": [
    "from IPython.display import IFrame; IFrame(\"https://data.gov.sg/dataset/resale-flat-prices/resource/42ff9cfe-abe5-4b54-beda-c88f9bb438ee/view/8481923a-3673-4b4c-b443-5a5bf5127215\", width=\"100%\", height=\"600\")"
   ]
  },
  {
   "cell_type": "markdown",
   "metadata": {
    "ExecuteTime": {
     "end_time": "2019-07-15T14:14:32.201278Z",
     "start_time": "2019-07-15T14:14:32.197955Z"
    }
   },
   "source": [
    "<hr>\n",
    "<center>\n",
    "    <h1> II. Initial Exploration </h1> \n",
    "    <br>\n",
    "    <i>Based on the columns available and their data types, ask simple questions that help you understand the data better and possible avenues to explore</i>\n",
    "</center>\n",
    "<hr>"
   ]
  },
  {
   "cell_type": "markdown",
   "metadata": {},
   "source": [
    "# Format the Data\n",
    "\n",
    "Convert the following datapoints to appropriate data types:\n",
    "1. `resale_price` : `float`\n",
    "2. `floor_area_sqm` : `float`\n",
    "3. `town_lon` : `float`\n",
    "4. `town_lat` : `float`"
   ]
  },
  {
   "cell_type": "code",
   "execution_count": null,
   "metadata": {
    "ExecuteTime": {
     "end_time": "2019-08-12T06:58:14.989098Z",
     "start_time": "2019-08-12T06:58:14.848566Z"
    }
   },
   "outputs": [],
   "source": [
    "\n",
    "\n"
   ]
  },
  {
   "cell_type": "markdown",
   "metadata": {},
   "source": [
    "## _Preliminary_ Findings\n",
    "\n",
    "To understand the dataset at hand, we can first start off with asking simple questions to identify some of its key characteristics (statistical or otherwise)."
   ]
  },
  {
   "cell_type": "markdown",
   "metadata": {
    "ExecuteTime": {
     "end_time": "2019-07-15T14:02:46.371054Z",
     "start_time": "2019-07-15T14:02:46.367314Z"
    }
   },
   "source": [
    "### Analysing categorical Data\n",
    "_Reducing data into groups, aggregating columns_\n",
    "\n",
    "<h2><img src=\"https://image.flaticon.com/icons/svg/1628/1628194.svg\" width=25 align=\"left\"> <font color=\"salmon\"> &nbsp; Example </font></h2>\n",
    "\n",
    "#### `Aggregation (grouping)`\n",
    "> - How many flats were sold in each town?\n",
    "\n",
    "<div class=\"alert alert-info\"><b>Hint</b>: Aggregation with dictionaries</div>\n",
    "\n",
    "Expected output (order doesn't matter):\n",
    "```python\n",
    "{'ANG MO KIO': 6814,\n",
    " 'BEDOK': 8706,\n",
    " 'BISHAN': 2666,\n",
    " ...}\n",
    "```"
   ]
  },
  {
   "cell_type": "code",
   "execution_count": null,
   "metadata": {
    "ExecuteTime": {
     "end_time": "2019-08-12T06:42:48.600346Z",
     "start_time": "2019-08-12T06:42:48.530510Z"
    }
   },
   "outputs": [],
   "source": [
    "\n",
    "\n"
   ]
  },
  {
   "cell_type": "markdown",
   "metadata": {},
   "source": [
    "<h2><img src=\"https://cdn.shopify.com/s/files/1/1200/7374/products/book_aec28e76-52ec-44ab-bc01-41df1279c89f_550x825.png?v=1473897430\" width=25 align=\"left\"> <font color=\"darkorange\"> &nbsp; Try It Out I </font></h2>\n",
    "\n",
    "> - How many different types of flats are there, and how many each?\n",
    "\n",
    "Expected output (order doesn't matter):\n",
    "```python\n",
    "{'2 ROOM': 1597,\n",
    " '3 ROOM': 38082,\n",
    " '4 ROOM': 57002,\n",
    " '5 ROOM': 33553,\n",
    " 'EXECUTIVE': 11300,\n",
    " 'MULTI-GENERATION': 52,\n",
    " '1 ROOM': 82}\n",
    "```"
   ]
  },
  {
   "cell_type": "code",
   "execution_count": null,
   "metadata": {
    "ExecuteTime": {
     "end_time": "2019-08-12T06:42:48.667777Z",
     "start_time": "2019-08-12T06:42:48.602026Z"
    }
   },
   "outputs": [],
   "source": [
    "\n",
    "\n"
   ]
  },
  {
   "cell_type": "markdown",
   "metadata": {},
   "source": [
    "<hr>"
   ]
  },
  {
   "cell_type": "markdown",
   "metadata": {},
   "source": [
    "### Analysing numeric data\n",
    "\n",
    "#### Statistical analysis\n",
    "_Measures to gauge how the data is distributed_"
   ]
  },
  {
   "cell_type": "markdown",
   "metadata": {},
   "source": [
    "<h2><img src=\"https://image.flaticon.com/icons/svg/1628/1628194.svg\" width=25 align=\"left\"> <font color=\"salmon\"> &nbsp; Example</font></h2>"
   ]
  },
  {
   "cell_type": "markdown",
   "metadata": {},
   "source": [
    "`Central Tendency`\n",
    ">  - What is the mean, median resale price of a given (or each) town?"
   ]
  },
  {
   "cell_type": "markdown",
   "metadata": {},
   "source": [
    "### Hint:\n",
    "Use a dictionary to aggregate the data into the following format:\n",
    "```python\n",
    "{\n",
    "    # town:       prices\n",
    "    'ANG MO KIO': [100000, 200000, ...],\n",
    "    'BUKIT BATOK': [200000, 70000, ...],\n",
    "    ...\n",
    "}\n",
    "\n",
    "```\n",
    "Then, loop over the dictionary and call the appropriate statistics function on the prices"
   ]
  },
  {
   "cell_type": "markdown",
   "metadata": {},
   "source": [
    "Expected output:\n",
    "```\n",
    "ANG MO KIO\n",
    "  mean: $416695.36\n",
    "  median: $368000.00\n",
    "\n",
    "BEDOK\n",
    "  mean: $419418.30\n",
    "  median: $385000.00\n",
    "\n",
    "BISHAN\n",
    "  mean: $613295.52\n",
    "  median: $590000.00\n",
    "  \n",
    "...\n",
    "```"
   ]
  },
  {
   "cell_type": "code",
   "execution_count": null,
   "metadata": {
    "ExecuteTime": {
     "end_time": "2019-08-12T06:42:48.822176Z",
     "start_time": "2019-08-12T06:42:48.669301Z"
    },
    "scrolled": true
   },
   "outputs": [],
   "source": [
    "import statistics\n",
    "\n",
    "town_prices = {}\n",
    "\n",
    "# Step 1: Accumulate towns and their prices into town_prices\n",
    "\n",
    "\n",
    "\n",
    "# Step 2: Loop over town_prices and call statistics functions\n",
    "\n",
    "\n"
   ]
  },
  {
   "cell_type": "markdown",
   "metadata": {},
   "source": [
    "<h2><img src=\"https://cdn.shopify.com/s/files/1/1200/7374/products/book_aec28e76-52ec-44ab-bc01-41df1279c89f_550x825.png?v=1473897430\" width=25 align=\"left\"> <font color=\"darkorange\"> &nbsp; Try It Out II </font></h2>"
   ]
  },
  {
   "cell_type": "markdown",
   "metadata": {},
   "source": [
    "`Variability`\n",
    ">  - What is the standard deviation of each town's resale flat prices?"
   ]
  },
  {
   "cell_type": "markdown",
   "metadata": {},
   "source": [
    "Expected output:\n",
    "```\n",
    "ANG MO KIO\n",
    "  stdev: $144357.21\n",
    "\n",
    "BEDOK\n",
    "  stdev: $131651.32\n",
    "\n",
    "BISHAN\n",
    "  stdev: $171707.50\n",
    "  \n",
    "...\n",
    "```"
   ]
  },
  {
   "cell_type": "code",
   "execution_count": null,
   "metadata": {
    "ExecuteTime": {
     "end_time": "2019-08-12T06:42:49.170494Z",
     "start_time": "2019-08-12T06:42:48.823482Z"
    },
    "scrolled": true
   },
   "outputs": [],
   "source": [
    "import statistics\n",
    "\n",
    "town_prices = {}\n",
    "\n",
    "\n"
   ]
  },
  {
   "cell_type": "markdown",
   "metadata": {},
   "source": [
    "<br> \n",
    "\n",
    "`Distribution`\n",
    ">  - What is the five number summary (min, q1, q2, q3, max) of the prices for resale flats in Seng Kang?\n",
    "\n",
    "```\n",
    "min = min of a set of numbers\n",
    "q1 = 25th percentile of a set of numbers\n",
    "q2 = 50th percentile of a set of numbers\n",
    "q3 = 75th percentile of a set of numbers\n",
    "max = max of a set of numbers\n",
    "```\n",
    "\n",
    "Hint: `np.quantile(list_of_numbers, 0.25)` gives `q1` "
   ]
  },
  {
   "cell_type": "markdown",
   "metadata": {
    "ExecuteTime": {
     "end_time": "2019-08-11T16:09:14.364287Z",
     "start_time": "2019-08-11T16:09:14.360466Z"
    }
   },
   "source": [
    "Expected output\n",
    "```\n",
    "Resale Flat Prices\n",
    "------------------\n",
    "min: $196000.0\n",
    "q1:  $403000.0\n",
    "q2:  $450000.0\n",
    "q3:  $515000.0\n",
    "max: $720000.0\n",
    "\n",
    "```"
   ]
  },
  {
   "cell_type": "code",
   "execution_count": null,
   "metadata": {
    "ExecuteTime": {
     "end_time": "2019-08-12T06:42:49.241453Z",
     "start_time": "2019-08-12T06:42:49.172509Z"
    }
   },
   "outputs": [],
   "source": [
    "import numpy as np\n",
    "\n",
    "town = 'SENGKANG'\n",
    "\n",
    "# Step 1: Accumulate prices (numbers) into a list\n",
    "\n",
    "    \n",
    "# Step 2: Call np.quantile on the list of numbers with the corresponding percentiles\n",
    "    \n"
   ]
  },
  {
   "cell_type": "markdown",
   "metadata": {
    "ExecuteTime": {
     "end_time": "2019-07-15T14:14:32.201278Z",
     "start_time": "2019-07-15T14:14:32.197955Z"
    }
   },
   "source": [
    "<hr>\n",
    "<center>\n",
    "    <h1> III. Descriptive Analysis </h1>\n",
    "    <br>\n",
    "    <i>Use visualisation tools to tell compelling stories behind the data -- what happened?</i>\n",
    "</center>\n",
    "<hr>"
   ]
  },
  {
   "cell_type": "markdown",
   "metadata": {},
   "source": [
    "<div class=\"alert alert-block alert-danger\">\n",
    "<b>THIS NEXT CELL IS IMPORTANT FOR YOUR APPLICATION.</b> Run it to install this package called <b><i>mplleaflet</i></b>.\n",
    "    \n",
    "How do you know if you installed the library correctly? Try running the cell after this one <i>(not the line that says \"!pip install mplleaflet\", its the other one)</i>, if you don't get an error, you are good to go! \n",
    "\n",
    "If you face any issues, please contact any of your TAs or Instructors.</div>"
   ]
  },
  {
   "cell_type": "code",
   "execution_count": null,
   "metadata": {},
   "outputs": [],
   "source": [
    "!pip install mplleaflet"
   ]
  },
  {
   "cell_type": "markdown",
   "metadata": {},
   "source": [
    "How do you know if you installed the library correctly? Try running the next cell, if you don't get an error, you are good to go!"
   ]
  },
  {
   "cell_type": "code",
   "execution_count": null,
   "metadata": {},
   "outputs": [],
   "source": [
    "import mplleaflet\n",
    "import matplotlib.pyplot as plt\n",
    "import seaborn as sns"
   ]
  },
  {
   "cell_type": "markdown",
   "metadata": {},
   "source": [
    "# Visualisation\n",
    "\n",
    "  - Categorical analysis (bar charts)\n",
    "  \n",
    "  - Correlation analysis (scatter charts)\n",
    "\n",
    "  - Time-series analysis (line charts)"
   ]
  },
  {
   "cell_type": "markdown",
   "metadata": {},
   "source": [
    "### 3a. Categorical Analysis"
   ]
  },
  {
   "cell_type": "markdown",
   "metadata": {},
   "source": [
    "<h2><img src=\"https://image.flaticon.com/icons/svg/1628/1628194.svg\" width=25 align=\"left\"> <font color=\"salmon\"> &nbsp; Example</font></h2>\n",
    "\n",
    ">  - How many flats were sold in each estate?\n",
    "\n",
    "### Steps:\n",
    "\n",
    "1. town_counts = `Counting with dictionaries`\n",
    "2. Create a bar chart with `plt.bar(x=town_counts.keys(), height=town_counts.values())`"
   ]
  },
  {
   "cell_type": "code",
   "execution_count": null,
   "metadata": {
    "ExecuteTime": {
     "end_time": "2019-08-12T06:51:18.226120Z",
     "start_time": "2019-08-12T06:51:17.891722Z"
    }
   },
   "outputs": [],
   "source": [
    "town_counts = {}\n",
    "\n",
    "# Step 1: Prepare data\n",
    "\n",
    "\n",
    "# Step 2: Plot!\n",
    "\n"
   ]
  },
  {
   "cell_type": "markdown",
   "metadata": {
    "ExecuteTime": {
     "end_time": "2019-08-06T03:35:27.736101Z",
     "start_time": "2019-08-06T03:35:27.732582Z"
    }
   },
   "source": [
    "<h2><img src=\"https://cdn.shopify.com/s/files/1/1200/7374/products/book_aec28e76-52ec-44ab-bc01-41df1279c89f_550x825.png?v=1473897430\" width=25 align=\"left\"> <font color=\"darkorange\"> &nbsp; Try It Out III </font></h2>\n",
    "\n",
    ">  - How many types of flats are there, and how many of each were sold?"
   ]
  },
  {
   "cell_type": "code",
   "execution_count": null,
   "metadata": {
    "ExecuteTime": {
     "end_time": "2019-08-12T06:53:04.942538Z",
     "start_time": "2019-08-12T06:53:04.764234Z"
    }
   },
   "outputs": [],
   "source": [
    "\n",
    "\n"
   ]
  },
  {
   "cell_type": "markdown",
   "metadata": {},
   "source": [
    "<hr>"
   ]
  },
  {
   "cell_type": "markdown",
   "metadata": {
    "ExecuteTime": {
     "end_time": "2019-07-28T06:00:24.061154Z",
     "start_time": "2019-07-28T06:00:24.058929Z"
    }
   },
   "source": [
    "<h2><img src=\"https://cdn.shopify.com/s/files/1/1200/7374/products/book_aec28e76-52ec-44ab-bc01-41df1279c89f_550x825.png?v=1473897430\" width=25 align=\"left\"> <font color=\"darkorange\"> &nbsp; Try It Out IV </font></h2>\n",
    "\n",
    "### 3b. Correlation Analysis\n",
    "> - To what extent is `resale_price` related to `floor_area_sqm`?"
   ]
  },
  {
   "cell_type": "code",
   "execution_count": null,
   "metadata": {
    "ExecuteTime": {
     "end_time": "2019-08-12T06:42:55.014569Z",
     "start_time": "2019-08-12T06:42:49.629840Z"
    }
   },
   "outputs": [],
   "source": [
    "\n",
    "\n"
   ]
  },
  {
   "cell_type": "markdown",
   "metadata": {},
   "source": [
    "<hr>"
   ]
  },
  {
   "cell_type": "markdown",
   "metadata": {},
   "source": [
    "# Seaborn & mplleaflet"
   ]
  },
  {
   "cell_type": "markdown",
   "metadata": {},
   "source": [
    "<h2><img src=\"https://image.flaticon.com/icons/svg/1628/1628194.svg\" width=25 align=\"left\"> <font color=\"salmon\"> &nbsp; Example</font></h2>"
   ]
  },
  {
   "cell_type": "markdown",
   "metadata": {},
   "source": [
    "### 3c. Time-series Analysis\n",
    "\n",
    "> - Over time, for a given town (captured by the variable `town` below), visualise its price movements"
   ]
  },
  {
   "cell_type": "code",
   "execution_count": null,
   "metadata": {
    "ExecuteTime": {
     "end_time": "2019-08-12T06:42:55.018785Z",
     "start_time": "2019-08-12T06:42:55.015786Z"
    }
   },
   "outputs": [],
   "source": [
    "from IPython.display import IFrame\n",
    "IFrame(\"https://data.gov.sg/dataset/hdb-resale-price-index/resource/52e93430-01b7-4de0-80df-bc83d0afed40/view/14c47d07-1395-4661-8466-728abce27f5f\", width=\"100%\", height=\"300\")"
   ]
  },
  {
   "cell_type": "code",
   "execution_count": null,
   "metadata": {
    "ExecuteTime": {
     "end_time": "2019-08-12T06:42:56.223053Z",
     "start_time": "2019-08-12T06:42:55.020091Z"
    }
   },
   "outputs": [],
   "source": [
    "from datetime import datetime\n",
    "\n",
    "chosen_town = 'BUKIT PANJANG'\n",
    "\n",
    "# Step 1: Prepare data\n",
    "\n",
    "\n",
    "# Step 2: Plot!\n",
    "        \n"
   ]
  },
  {
   "cell_type": "markdown",
   "metadata": {},
   "source": [
    "<hr>"
   ]
  },
  {
   "cell_type": "markdown",
   "metadata": {},
   "source": [
    "# Advanced Visualisations\n",
    "\n",
    "1. Scatter Plots + Maps (Geospatial)\n",
    "> Plot points on a map, visualising location-based insights\n",
    "\n",
    "2. Distribution (Histograms)\n",
    "> Visualise how a single variable is distributed\n",
    "\n",
    "3. Hexbin \n",
    "> Visualise the distribution of and relationship between two variables (bivariate distribution)\n",
    "\n",
    "4. Countour Plots\n",
    "> Visualising and comparing multiple bivariate distributions"
   ]
  },
  {
   "cell_type": "markdown",
   "metadata": {},
   "source": [
    "### 3d. Simple Geospatial Analysis\n",
    "\n",
    "Example: `Dengue Clusters`"
   ]
  },
  {
   "cell_type": "code",
   "execution_count": null,
   "metadata": {
    "ExecuteTime": {
     "end_time": "2019-08-12T06:42:56.227030Z",
     "start_time": "2019-08-12T06:42:56.224170Z"
    }
   },
   "outputs": [],
   "source": [
    "from IPython.display import IFrame\n",
    "IFrame(\"https://data.gov.sg/dataset/dengue-clusters/resource/801ce5ce-fb99-4211-94fe-9d8ca5e182d4/view/07e4bfc9-8675-4534-959f-768be06aeeab\", width=\"100%\", height=\"300\")"
   ]
  },
  {
   "cell_type": "markdown",
   "metadata": {
    "ExecuteTime": {
     "end_time": "2019-07-15T15:31:07.990104Z",
     "start_time": "2019-07-15T15:31:07.986994Z"
    }
   },
   "source": [
    "> - Heatmap of streets / town popularity (cost or count)"
   ]
  },
  {
   "cell_type": "code",
   "execution_count": null,
   "metadata": {
    "ExecuteTime": {
     "end_time": "2019-08-12T06:58:25.971279Z",
     "start_time": "2019-08-12T06:58:25.806059Z"
    }
   },
   "outputs": [],
   "source": [
    "from collections import Counter\n",
    "import mplleaflet\n",
    "plt.figure(figsize=(16, 8))\n",
    "\n",
    "# Step 1: Prepare data\n",
    "#         Accumulate towns and their respective count into a dictionary\n",
    "#         Accumulate towns and their respective lons into a dictionary\n",
    "#         Accumulate towns and their respective lats into a dictionary\n",
    "#         Then, extract out the values into three seperate lists\n",
    "\n",
    "counts = {}\n",
    "longitudes = {}\n",
    "latitudes = {}\n",
    "\n",
    "# ...\n",
    "\n",
    "x = []\n",
    "y = []\n",
    "z = []\n",
    "\n",
    "# ...\n",
    "    \n",
    "# Step 2: Plot!\n",
    "\n",
    "# plt.scatter(x, y, c=z, s=z, alpha=0.5, cmap='Reds')\n",
    "# mplleaflet.display()"
   ]
  },
  {
   "cell_type": "markdown",
   "metadata": {},
   "source": [
    "<img src=\"https://seaborn.pydata.org/_images/distributions_6_0.png\" align=\"right\" width=200>\n",
    "\n",
    "### 3e. Distribution (Histogram)\n",
    "_Shows how a single variable is distributed_\n",
    "\n",
    "We can see where values are concentrated and if any skewness exists"
   ]
  },
  {
   "cell_type": "code",
   "execution_count": null,
   "metadata": {
    "ExecuteTime": {
     "end_time": "2019-08-12T06:58:35.098012Z",
     "start_time": "2019-08-12T06:58:34.731980Z"
    }
   },
   "outputs": [],
   "source": [
    "# Step 1: Accumulate prices (numbers) into a list\n",
    "\n",
    "prices = []\n",
    "\n",
    "\n",
    "# Step 2: Plot!\n",
    "# plt.hist(prices, bins=100, color='salmon', edgecolor='black', linewidth=0.5)  # sns.distplot(prices)\n",
    "# plt.show()"
   ]
  },
  {
   "cell_type": "markdown",
   "metadata": {},
   "source": [
    "<img src=\"https://seaborn.pydata.org/_images/hexbin_marginals.png\" align=\"right\" width=200>\n",
    "\n",
    "### 3f. Hexbin Plots\n",
    "_Shows the counts of observations that fall within hexagonal bins._\n",
    "\n",
    "Two important components:\n",
    "1. Distribution of two variables\n",
    "2. Relationship between two variables\n",
    "\n",
    "#### Example\n",
    "> Visualise the distribution of and relationship between `resale_price` and `floor_area_sqm` for the town `BUKIT PANJANG`\n",
    "\n",
    "<hr>\n",
    "\n",
    "#### Seaborn function:\n",
    "```python\n",
    "sns.jointplot(x, y, kind='hex')\n",
    "```"
   ]
  },
  {
   "cell_type": "code",
   "execution_count": null,
   "metadata": {
    "ExecuteTime": {
     "end_time": "2019-08-12T06:42:57.503629Z",
     "start_time": "2019-08-12T06:42:56.801236Z"
    }
   },
   "outputs": [],
   "source": [
    "town = 'BUKIT PANJANG'\n",
    "\n",
    "# Step 1: Prepare data\n",
    "#         Accumulate price and floor_area_sqm of each row into their lists\n",
    "\n",
    "prices = []\n",
    "areas = []\n",
    "\n",
    "# ...\n",
    "        \n",
    "# Step 2: Plot!\n",
    "\n",
    "# sns.jointplot(areas, prices, kind='hex', height=8)\n",
    "# plt.show()"
   ]
  },
  {
   "cell_type": "markdown",
   "metadata": {},
   "source": [
    "<img src=\"https://seaborn.pydata.org/_images/multiple_joint_kde.png\" align=\"right\" width=200>\n",
    "\n",
    "### 3g. Contour Plots\n",
    "\n",
    "Kernel density estimation (KDE) is a technique that allows you to create a smooth curve given a set of data. \n",
    "\n",
    "This can be useful if you want to visualize the distribution of some data as a kind of continuous (vs discrete) histogram. \n",
    "\n",
    "Seaborn uses this technique to create contour plots, allowing us to visualise a bivariate distribution.\n",
    "\n",
    "[Click here](https://mathisonian.github.io/kde/) to find out more about KDE.\n",
    "\n",
    "#### Example\n",
    "> Compare `resale_price` and `floor_area_sqm` for `TOA PAYOH` and `BISHAN`\n",
    "\n",
    "<hr>\n",
    "\n",
    "#### Seaborn function:\n",
    "```python\n",
    "sns.kdeplot(x, y, shade=True, shade_lowest=False)\n",
    "```"
   ]
  },
  {
   "cell_type": "code",
   "execution_count": null,
   "metadata": {
    "ExecuteTime": {
     "end_time": "2019-08-12T06:42:59.267054Z",
     "start_time": "2019-08-12T06:42:57.505197Z"
    }
   },
   "outputs": [],
   "source": [
    "import seaborn as sns\n",
    "sns.set_style('whitegrid')\n",
    "\n",
    "town1 = 'TOA PAYOH'\n",
    "town2 = 'BISHAN'\n",
    "flat_type = '4 ROOM'\n",
    "\n",
    "# Step 1: Prepare data\n",
    "#         Accumulate price and floor_area_sqm for both towns into their respective lists\n",
    "\n",
    "town1_areas = []\n",
    "town1_prices = []\n",
    "\n",
    "town2_areas = []\n",
    "town2_prices = []\n",
    "\n",
    "# ...\n",
    "            \n",
    "# Step 2: Plot!\n",
    "\n",
    "# plt.figure(figsize=(8, 8))\n",
    "# sns.kdeplot(town1_areas, town1_prices, cmap=\"Reds\", shade=True, shade_lowest=False, alpha=0.5)\n",
    "# sns.kdeplot(town2_areas, town2_prices, cmap=\"Blues\", shade=True, shade_lowest=False, alpha=0.5)\n",
    "# plt.show()"
   ]
  },
  {
   "cell_type": "markdown",
   "metadata": {
    "ExecuteTime": {
     "end_time": "2019-08-11T08:57:56.216149Z",
     "start_time": "2019-08-11T08:57:56.209019Z"
    }
   },
   "source": [
    "<hr>\n",
    "    <center>\n",
    "        <h1> In-Class Practice </h1>\n",
    "    </center>\n",
    "<hr>"
   ]
  },
  {
   "cell_type": "markdown",
   "metadata": {},
   "source": [
    "### Exploratory Data Analysis\n",
    "\n",
    "There are still more insights that can be harvested from this dataset.\n",
    "Answer the following questions with the tools you've learnt over the past 5 weeks.\n",
    "\n",
    "<div class=\"alert alert-success\">\n",
    "    Bonus: <strong>visualise</strong> the output of each question, rather than displaying text, where possible!\n",
    "</div>"
   ]
  },
  {
   "cell_type": "code",
   "execution_count": null,
   "metadata": {
    "ExecuteTime": {
     "end_time": "2019-08-12T06:42:59.270533Z",
     "start_time": "2019-08-12T06:42:59.268484Z"
    }
   },
   "outputs": [],
   "source": [
    "import matplotlib.pyplot as plt"
   ]
  },
  {
   "cell_type": "markdown",
   "metadata": {},
   "source": [
    "### Q1. Each Town's Mean Price per Sqm\n",
    "\n",
    "<p>\n",
    "    <font color=\"grey\">\n",
    "        The price of a given flat is likely to be determined by its size, as we saw above. However, property prices are determined by a long list of other factors, such as proximity to amenities and public transport. Comparing the mean price per sqm of all flats sold in each town should give us a picture of how these towns are valued.\n",
    "    </font>\n",
    "</p>\n",
    "\n",
    "> Determine mean `price per sqm` for all resale flats sold in each individual town.\n",
    "\n",
    "Expected output:\n",
    "```python\n",
    "{'CENTRAL AREA': 7364.147617284561,\n",
    " 'QUEENSTOWN': 6563.074741172909,\n",
    " 'BUKIT MERAH': 6415.619384024125,\n",
    " ...}\n",
    "```"
   ]
  },
  {
   "cell_type": "code",
   "execution_count": null,
   "metadata": {
    "ExecuteTime": {
     "end_time": "2019-08-12T06:42:59.786428Z",
     "start_time": "2019-08-12T06:42:59.272024Z"
    }
   },
   "outputs": [],
   "source": [
    "\n",
    "\n"
   ]
  },
  {
   "cell_type": "markdown",
   "metadata": {},
   "source": [
    "### Q2. Resale Price Estimate\n",
    "\n",
    "<p>\n",
    "    <font color=\"grey\">\n",
    "        Every couple / family intending to purchase a flat to settle down undoubtedly have constraints -- be it location, flat size, budget, etc. A programme that narrows down the search space for a suitable flat would be tremendously helpful for flat seekers. \n",
    "        \n",
    "Many useful websites have search and filtering mechanisms to make users' lives easier.\n",
    "    </font>\n",
    "</p>\n",
    "\n",
    "> Given a set of constraints, calculate the mean price of all flats possessing the respective attributes that satisfy them.\n",
    "\n",
    "```python\n",
    "town = 'Ang Mo Kio'\n",
    "flat_type = '2 ROOM'\n",
    "floor_area >= 30\n",
    "```\n",
    "\n",
    "Expected output:\n",
    "```python\n",
    "250175.5789...\n",
    "```"
   ]
  },
  {
   "cell_type": "code",
   "execution_count": null,
   "metadata": {
    "ExecuteTime": {
     "end_time": "2019-08-12T06:42:59.819301Z",
     "start_time": "2019-08-12T06:42:59.787709Z"
    }
   },
   "outputs": [],
   "source": [
    "\n",
    "\n"
   ]
  },
  {
   "cell_type": "markdown",
   "metadata": {},
   "source": [
    "<hr>"
   ]
  },
  {
   "cell_type": "markdown",
   "metadata": {
    "ExecuteTime": {
     "end_time": "2019-08-11T11:05:16.321246Z",
     "start_time": "2019-08-11T11:05:16.319225Z"
    }
   },
   "source": [
    "# Optional Challenge"
   ]
  },
  {
   "cell_type": "markdown",
   "metadata": {
    "ExecuteTime": {
     "end_time": "2019-08-11T13:14:27.754267Z",
     "start_time": "2019-08-11T13:14:26.779593Z"
    }
   },
   "source": [
    "_This question includes a key aspect of data science -- data cleaning / transformation. It requires you to utilise what we've covered in week 1, string manipulation, to extract important information from unclean or ill-formatted data._"
   ]
  },
  {
   "cell_type": "markdown",
   "metadata": {},
   "source": [
    "### Q1. Relationship Between Three Variables \n",
    "<p>\n",
    "    <font color=\"grey\">\n",
    "        As we saw above, price and floor area have a pretty straightforward positive relationship.\n",
    "For towns that command greater prices per square meter, there are probably are other factors that influence their price. For instance, the resale price is likely to be affected by the remaining lease duration too.\n",
    "    </font>\n",
    "</p>\n",
    "\n",
    "> Visualise the relationship between the three variables: `resale_price`, `floor_area_sqm` and `remaining_lease`\n",
    "\n",
    "Hint: Plot `resale_price` against `floor_area_sqm`, and color each point by the number of days left on the remaining lease.\n",
    "\n",
    "#### Steps:\n",
    "1. Data cleaning & transformation\n",
    "    1. Filter for rows where `remaining_lease != ''` (not an empty string)\n",
    "    2. Use string manipulation to transform strings of this format: `'79 years 11 months'` <br>\n",
    "    to an integer representing the equivalent number of days: `28572` (79 * 360 + 11 * 30)\n",
    "    \n",
    "\n",
    "2. Loop over the dataset, filtering for the chosen `town`. Then, <br> append the price, area, and remaining lease day of each row (computed in step 1B) to three seperate lists, `prices`, `areas` and `remaining_lease_days`. <br> Take note of the condition in step 1A.\n",
    "\n",
    "\n",
    "3. plt.scatter(`areas`, `prices`, `c=remaining_lease_days`, `cmap='Reds'`)\n",
    "\n",
    "<hr>\n",
    "\n",
    "A useful `str` method:\n",
    "\n",
    "```python\n",
    "    string = '20 months 10 days'\n",
    "    string.split(' ') # ['20', 'months', '10', 'days']\n",
    "```"
   ]
  },
  {
   "cell_type": "code",
   "execution_count": null,
   "metadata": {
    "ExecuteTime": {
     "end_time": "2019-08-12T06:43:00.499174Z",
     "start_time": "2019-08-12T06:42:59.822596Z"
    }
   },
   "outputs": [],
   "source": [
    "town = 'TAMPINES'\n",
    "# town = 'JURONG WEST'\n",
    "\n",
    "prices = []\n",
    "areas = []\n",
    "remaining_lease_days = []\n",
    "\n",
    "# ...\n",
    "\n",
    "# plt.scatter(areas, prices, c=remaining_lease_days, cmap='Reds')\n",
    "# plt.colorbar(label='Remaining Lease Days')\n",
    "# plt.show()"
   ]
  }
 ],
 "metadata": {
  "kernelspec": {
   "display_name": "Python 3",
   "language": "python",
   "name": "python3"
  },
  "language_info": {
   "codemirror_mode": {
    "name": "ipython",
    "version": 3
   },
   "file_extension": ".py",
   "mimetype": "text/x-python",
   "name": "python",
   "nbconvert_exporter": "python",
   "pygments_lexer": "ipython3",
   "version": "3.8.3"
  },
  "practiceId": 1,
  "studentId": 1
 },
 "nbformat": 4,
 "nbformat_minor": 4
}
