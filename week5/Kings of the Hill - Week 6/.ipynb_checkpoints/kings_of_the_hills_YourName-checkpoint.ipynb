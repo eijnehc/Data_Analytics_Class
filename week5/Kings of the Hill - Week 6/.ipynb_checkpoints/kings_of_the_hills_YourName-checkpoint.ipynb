{
 "cells": [
  {
   "cell_type": "markdown",
   "metadata": {},
   "source": [
    "# King(s) of the Hill\n",
    "\n",
    "27 June, 2020\n",
    "<hr></hr>\n",
    "\n",
    "***Instructions***\n",
    "\n",
    "> You need to write Python code and derive answers for 3 Questions, based on a common data. \n",
    "\n",
    "> <font color=\"salmon\"><b>Assembly your passcode: </b></font><b>`Answer for Q1`</b>-<b>`Answer for Q2`</b>-<b>`Answer for Q3`</b>\n",
    " \n",
    "> ***And send this passcode with Notebook to `@chanyusiang` on Telegram.***\n",
    "\n",
    "> Remember to change your Notebook name to ***kings_of_the_hill_`{Your Name}`***"
   ]
  },
  {
   "cell_type": "markdown",
   "metadata": {},
   "source": [
    "<hr></hr>"
   ]
  },
  {
   "cell_type": "markdown",
   "metadata": {},
   "source": [
    "## Question 1\n",
    "\n",
    "Write a method called `sum_of_evens_in_list()` that will:</b>\n",
    "- Sums all the <font color=\"salmon\"><b>even</b></font> numbers in the list and return the total sum!\n",
    "- For all the str in the list, convert them to numbers first before processing them\n",
    "\n",
    "><b>Expected output is the first part of the passcode.</b>"
   ]
  },
  {
   "cell_type": "code",
   "execution_count": 2,
   "metadata": {},
   "outputs": [],
   "source": [
    "# Write a method that will sum all the even numbers in this list\n",
    "list_of_numbers = [102, 632, '830', 3, 1, 89, '22', 8]\n",
    "\n",
    "# Write your code here below\n",
    "def sum_of_evens_in_list(list):\n",
    "    sum = 0;\n",
    "    for i in list:\n",
    "        num\n",
    "        if (num % 2 == 0):\n",
    "            sum += num\n",
    "\n"
   ]
  },
  {
   "cell_type": "code",
   "execution_count": 3,
   "metadata": {},
   "outputs": [
    {
     "name": "stdout",
     "output_type": "stream",
     "text": [
      "None\n"
     ]
    }
   ],
   "source": [
    "# If your code works correctly, you should be able to run the following\n",
    "q1_answer = sum_of_evens_in_list(list_of_numbers)\n",
    "print(q1_answer)"
   ]
  },
  {
   "cell_type": "markdown",
   "metadata": {},
   "source": [
    "<hr></hr>"
   ]
  },
  {
   "cell_type": "markdown",
   "metadata": {},
   "source": [
    "#### <font color=\"blue\">We already help you import data from file, for both Question 2 and Question 3. </font>\n",
    "\n",
    "***The code is already provided. You only need to run the below.*** \n",
    "\n",
    "The data has three columns:\n",
    "* ***`customer`***: name of the customer\n",
    "* ***`income`***: income of the customer, in dollars\n",
    "> It is already converted to integer data types in below code. \n",
    "* ***`group`***: grouping that this customer belongs to - `A`, `B` or `C`."
   ]
  },
  {
   "cell_type": "code",
   "execution_count": 3,
   "metadata": {},
   "outputs": [
    {
     "name": "stdout",
     "output_type": "stream",
     "text": [
      "{'customer': 'customer_1', 'income': 54709, 'group': 'A'}\n",
      "{'customer': 'customer_2', 'income': 45592, 'group': 'B'}\n",
      "{'customer': 'customer_3', 'income': 73264, 'group': 'C'}\n"
     ]
    }
   ],
   "source": [
    "import csv\n",
    "with open('income_data.csv') as file:  \n",
    "    customer_income_data = [dict(row) for row in csv.DictReader(file)]\n",
    "\n",
    "# convert income to numbers\n",
    "for row in customer_income_data:\n",
    "    row['income'] = int(row['income'])\n",
    "\n",
    "# look at the first 3 rows\n",
    "print(customer_income_data[0])\n",
    "print(customer_income_data[1])\n",
    "print(customer_income_data[2])"
   ]
  },
  {
   "cell_type": "markdown",
   "metadata": {},
   "source": [
    "<hr></hr>"
   ]
  },
  {
   "cell_type": "markdown",
   "metadata": {},
   "source": [
    "## Question 2\n",
    "\n",
    "Write a method called `count_and_total()` that will:\n",
    "- `Count` the number of instances when an income is <font color=\"salmon\"><b>higher than or equal to 50k (inclusive), and lower than 70k (exclusive)</b></font>\n",
    "- Calculate the `total` of instances when an income is <font color=\"salmon\"><b>higher than or equal to 50k (inclusive), and lower than 70k (exclusive)</b></font>\n",
    "- Make sure your method returns <b>both</b> the `count` and `total`, in a single tuple. "
   ]
  },
  {
   "cell_type": "markdown",
   "metadata": {},
   "source": [
    "<b>Hint:</b> Your function should look like this: \n",
    "\n",
    "```python\n",
    "def count_and_total(...): \n",
    "    ...\n",
    "    ...\n",
    "    return count, total\n",
    "```"
   ]
  },
  {
   "cell_type": "markdown",
   "metadata": {},
   "source": [
    "<b>Expected output is the second part of the passcode. It should be a tuple that looks like:</b>\n",
    "```python\n",
    "# values for illustration only\n",
    "(123, 1234567) \n",
    "```"
   ]
  },
  {
   "cell_type": "code",
   "execution_count": 4,
   "metadata": {},
   "outputs": [],
   "source": [
    "# Write your code here below\n",
    "\n",
    "\n"
   ]
  },
  {
   "cell_type": "code",
   "execution_count": 5,
   "metadata": {},
   "outputs": [],
   "source": [
    "# If your code works correctly, you should be able to run the following\n",
    "q2_answer = count_and_total(customer_income_data)\n",
    "print(q2_answer)"
   ]
  },
  {
   "cell_type": "markdown",
   "metadata": {},
   "source": [
    "<hr></hr>"
   ]
  },
  {
   "cell_type": "markdown",
   "metadata": {},
   "source": [
    "## Question 3\n",
    "\n",
    "Help your colleague debug for the below programme. \n",
    "\n",
    "#### Background:\n",
    "Based on `customer_income_data`, he is trying to calculate the average income across all Group `A` customers. \n",
    "* <b>Step 1</b>: He wrote a function that <b>extracts all Group `A` customers' income as a list</b>. \n",
    "* <b>Step 2</b>: He then wrote another function that <b>calculates the average</b> based on any list of numbers. \n",
    "\n",
    "However, he is facing error messages and he doesn't know what went wrong. \n",
    "\n",
    "<font color=\"salmon\"><b>His code is below. You only need to change `one line`.</b></font>"
   ]
  },
  {
   "cell_type": "code",
   "execution_count": 6,
   "metadata": {},
   "outputs": [],
   "source": [
    "# This function gives a list of income numbers for all Male customers\n",
    "def get_customers_by_group(my_data, my_group):\n",
    "    \n",
    "    result_list = []\n",
    "    for row in my_data:\n",
    "        group = row['group']\n",
    "        income = row['income']\n",
    "        if group == my_group:\n",
    "            result_list.append(income)\n",
    "            \n",
    "    print(result_list)\n",
    "\n",
    "# This function takes the list, and calculate its average\n",
    "def calculate_average(the_list):    \n",
    "    return sum(the_list) / len(the_list)"
   ]
  },
  {
   "cell_type": "code",
   "execution_count": 7,
   "metadata": {},
   "outputs": [
    {
     "name": "stdout",
     "output_type": "stream",
     "text": [
      "[54709, 99320, 44633, 22217, 16971, 45390, 130756, 97653, 44164, 92353, 20267, 38319, 95646, 108772, 57197, 40829, 21389, 131573, 49958, 89727, 113821, 135674, 108316, 66099, 84131, 57472, 74863, 88294, 25083, 85135, 48633, 45615, 19857, 68462, 87806, 49016, 106090, 93358, 37796, 66383, 90800, 40426, 99186, 47758, 31003, 43202, 27415, 100930, 20154, 98167, 31844, 110764, 53947, 47782, 123337, 50682, 80015, 40844, 42461, 35094, 34557, 37980, 25369, 62821, 47488, 50275, 16606, 93755, 70135, 37495, 17579, 41563, 52543, 25164, 69696, 80373, 104609, 47202, 24701, 46895, 62575, 96758, 125576, 124742, 50627, 32468, 37365, 95165, 42219, 117131, 81226, 59056, 97429, 26310, 121162, 62678, 36122, 80276, 16511, 48580, 76085, 20111, 58947, 53938, 80842, 124425, 56702, 61795, 22082, 105540, 76727, 115455, 77466, 21417, 70331, 65825, 36957, 53699, 74660, 40480, 22943, 44480, 18454, 34805, 16426, 46614, 38691, 25420, 46822, 50662, 56663, 53596, 65544, 69057, 70666, 55537, 28457, 96715, 61912, 46481, 56009, 26190, 45094, 58407, 31194, 67400, 46093, 23260, 93640, 46372, 20022, 67593, 97106, 63346, 50336, 74630, 59911, 93446, 63864, 73128, 81729, 72876, 52256, 104837, 49123, 93024, 28373, 82462, 48283, 80790, 75605, 109502, 62577, 54263, 35425, 52158, 36476, 30930, 34175, 30306, 65821, 54798, 16134, 182204, 47099, 78844, 17889, 39684, 75126, 45674, 26570, 33129, 73403, 59023, 18820]\n"
     ]
    },
    {
     "ename": "TypeError",
     "evalue": "'NoneType' object is not iterable",
     "output_type": "error",
     "traceback": [
      "\u001b[1;31m---------------------------------------------------------------------------\u001b[0m",
      "\u001b[1;31mTypeError\u001b[0m                                 Traceback (most recent call last)",
      "\u001b[1;32m<ipython-input-7-b0c0c7c49d01>\u001b[0m in \u001b[0;36m<module>\u001b[1;34m\u001b[0m\n\u001b[0;32m      1\u001b[0m \u001b[1;31m# Call above functions to calculate average income for male customers\u001b[0m\u001b[1;33m\u001b[0m\u001b[1;33m\u001b[0m\u001b[1;33m\u001b[0m\u001b[0m\n\u001b[0;32m      2\u001b[0m \u001b[0mgroup_a_list\u001b[0m \u001b[1;33m=\u001b[0m \u001b[0mget_customers_by_group\u001b[0m\u001b[1;33m(\u001b[0m\u001b[0mcustomer_income_data\u001b[0m\u001b[1;33m,\u001b[0m \u001b[1;34m\"A\"\u001b[0m\u001b[1;33m)\u001b[0m\u001b[1;33m\u001b[0m\u001b[1;33m\u001b[0m\u001b[0m\n\u001b[1;32m----> 3\u001b[1;33m \u001b[0mq3_answer\u001b[0m \u001b[1;33m=\u001b[0m \u001b[0mcalculate_average\u001b[0m\u001b[1;33m(\u001b[0m\u001b[0mgroup_a_list\u001b[0m\u001b[1;33m)\u001b[0m\u001b[1;33m\u001b[0m\u001b[1;33m\u001b[0m\u001b[0m\n\u001b[0m\u001b[0;32m      4\u001b[0m \u001b[0mprint\u001b[0m\u001b[1;33m(\u001b[0m\u001b[0mq3_answer\u001b[0m\u001b[1;33m)\u001b[0m\u001b[1;33m\u001b[0m\u001b[1;33m\u001b[0m\u001b[0m\n",
      "\u001b[1;32m<ipython-input-6-46d19f521aca>\u001b[0m in \u001b[0;36mcalculate_average\u001b[1;34m(the_list)\u001b[0m\n\u001b[0;32m     13\u001b[0m \u001b[1;31m# This method takes the list, and calculate its average\u001b[0m\u001b[1;33m\u001b[0m\u001b[1;33m\u001b[0m\u001b[1;33m\u001b[0m\u001b[0m\n\u001b[0;32m     14\u001b[0m \u001b[1;32mdef\u001b[0m \u001b[0mcalculate_average\u001b[0m\u001b[1;33m(\u001b[0m\u001b[0mthe_list\u001b[0m\u001b[1;33m)\u001b[0m\u001b[1;33m:\u001b[0m\u001b[1;33m\u001b[0m\u001b[1;33m\u001b[0m\u001b[0m\n\u001b[1;32m---> 15\u001b[1;33m     \u001b[1;32mreturn\u001b[0m \u001b[0msum\u001b[0m\u001b[1;33m(\u001b[0m\u001b[0mthe_list\u001b[0m\u001b[1;33m)\u001b[0m \u001b[1;33m/\u001b[0m \u001b[0mlen\u001b[0m\u001b[1;33m(\u001b[0m\u001b[0mthe_list\u001b[0m\u001b[1;33m)\u001b[0m\u001b[1;33m\u001b[0m\u001b[1;33m\u001b[0m\u001b[0m\n\u001b[0m",
      "\u001b[1;31mTypeError\u001b[0m: 'NoneType' object is not iterable"
     ]
    }
   ],
   "source": [
    "# Call above functions to calculate average income for male customers\n",
    "group_a_list = get_customers_by_group(customer_income_data, \"A\") # Step 1\n",
    "q3_answer = calculate_average(group_a_list) # Step 2\n",
    "print(q3_answer)"
   ]
  },
  {
   "cell_type": "markdown",
   "metadata": {},
   "source": [
    "<hr></hr>"
   ]
  },
  {
   "cell_type": "markdown",
   "metadata": {},
   "source": [
    "<font color=\"salmon\"><b>Assembly your passcode: </b></font><b>`Answer for Q1`</b>-<b>`Answer for Q2`</b>-<b>`Answer for Q3`</b>\n",
    "\n",
    "This code below helps you generate your passcode:"
   ]
  },
  {
   "cell_type": "code",
   "execution_count": 8,
   "metadata": {},
   "outputs": [
    {
     "name": "stdout",
     "output_type": "stream",
     "text": [
      "xxxx-(xxx, xxxxxxx)-xxxxx.xx\n"
     ]
    }
   ],
   "source": [
    "print(f'{q1_answer}-{q2_answer}-{round(q3_answer, 2)}')"
   ]
  },
  {
   "cell_type": "markdown",
   "metadata": {},
   "source": [
    "***And send this passcode with Notebook to `@chanyusiang` on Telegram.***"
   ]
  },
  {
   "cell_type": "markdown",
   "metadata": {},
   "source": [
    "<center><h1>The End</h1><center>"
   ]
  }
 ],
 "metadata": {
  "kernelspec": {
   "display_name": "Python 3",
   "language": "python",
   "name": "python3"
  },
  "language_info": {
   "codemirror_mode": {
    "name": "ipython",
    "version": 3
   },
   "file_extension": ".py",
   "mimetype": "text/x-python",
   "name": "python",
   "nbconvert_exporter": "python",
   "pygments_lexer": "ipython3",
   "version": "3.8.3"
  }
 },
 "nbformat": 4,
 "nbformat_minor": 4
}
