{
 "cells": [
  {
   "cell_type": "markdown",
   "metadata": {},
   "source": [
    "# King(s) of the Hill\n",
    "\n",
    "27 June, 2020\n",
    "<hr></hr>\n",
    "\n",
    "***Instructions***\n",
    "\n",
    "> You need to write Python code and derive answers for 3 Questions, based on a common data. \n",
    "\n",
    "> <font color=\"salmon\"><b>Assembly your passcode: </b></font><b>`Answer for Q1`</b>-<b>`Answer for Q2`</b>-<b>`Answer for Q3`</b>\n",
    " \n",
    "> ***And send this passcode with Notebook to `@chanyusiang` on Telegram.***\n",
    "\n",
    "> Remember to change your Notebook name to ***kings_of_the_hill_`{Your Name}`***"
   ]
  },
  {
   "cell_type": "markdown",
   "metadata": {},
   "source": [
    "<hr></hr>"
   ]
  },
  {
   "cell_type": "markdown",
   "metadata": {},
   "source": [
    "## Question 1\n",
    "\n",
    "Write a method called `sum_of_evens_in_list()` that will:</b>\n",
    "- Sums all the <font color=\"salmon\"><b>even</b></font> numbers in the list and return the total sum!\n",
    "- For all the str in the list, convert them to numbers first before processing them\n",
    "\n",
    "><b>Expected output is the first part of the passcode.</b>"
   ]
  },
  {
   "cell_type": "code",
   "execution_count": 9,
   "metadata": {},
   "outputs": [],
   "source": [
    "# Write a method that will sum all the even numbers in this list\n",
    "list_of_numbers = [102, 632, '830', 3, 1, 89, '22', 8]\n",
    "\n",
    "# Write your code here below\n",
    "def sum_of_evens_in_list(list):\n",
    "    sum = 0;\n",
    "    for i in list:\n",
    "        num = int(i)\n",
    "        if (num % 2 == 0):\n",
    "            sum += num\n",
    "\n",
    "    return sum"
   ]
  },
  {
   "cell_type": "code",
   "execution_count": 10,
   "metadata": {},
   "outputs": [
    {
     "name": "stdout",
     "output_type": "stream",
     "text": [
      "1594\n"
     ]
    }
   ],
   "source": [
    "# If your code works correctly, you should be able to run the following\n",
    "q1_answer = sum_of_evens_in_list(list_of_numbers)\n",
    "print(q1_answer)"
   ]
  },
  {
   "cell_type": "markdown",
   "metadata": {},
   "source": [
    "<hr></hr>"
   ]
  },
  {
   "cell_type": "markdown",
   "metadata": {},
   "source": [
    "#### <font color=\"blue\">We already help you import data from file, for both Question 2 and Question 3. </font>\n",
    "\n",
    "***The code is already provided. You only need to run the below.*** \n",
    "\n",
    "The data has three columns:\n",
    "* ***`customer`***: name of the customer\n",
    "* ***`income`***: income of the customer, in dollars\n",
    "> It is already converted to integer data types in below code. \n",
    "* ***`group`***: grouping that this customer belongs to - `A`, `B` or `C`."
   ]
  },
  {
   "cell_type": "code",
   "execution_count": 11,
   "metadata": {},
   "outputs": [
    {
     "name": "stdout",
     "output_type": "stream",
     "text": [
      "{'customer': 'customer_1', 'income': 54709, 'group': 'A'}\n",
      "{'customer': 'customer_2', 'income': 45592, 'group': 'B'}\n",
      "{'customer': 'customer_3', 'income': 73264, 'group': 'C'}\n"
     ]
    }
   ],
   "source": [
    "import csv\n",
    "with open('income_data.csv') as file:  \n",
    "    customer_income_data = [dict(row) for row in csv.DictReader(file)]\n",
    "\n",
    "# convert income to numbers\n",
    "for row in customer_income_data:\n",
    "    row['income'] = int(row['income'])\n",
    "\n",
    "# look at the first 3 rows\n",
    "print(customer_income_data[0])\n",
    "print(customer_income_data[1])\n",
    "print(customer_income_data[2])"
   ]
  },
  {
   "cell_type": "markdown",
   "metadata": {},
   "source": [
    "<hr></hr>"
   ]
  },
  {
   "cell_type": "markdown",
   "metadata": {},
   "source": [
    "## Question 2\n",
    "\n",
    "Write a method called `count_and_total()` that will:\n",
    "- `Count` the number of instances when an income is <font color=\"salmon\"><b>higher than or equal to 50k (inclusive), and lower than 70k (exclusive)</b></font>\n",
    "- Calculate the `total` of instances when an income is <font color=\"salmon\"><b>higher than or equal to 50k (inclusive), and lower than 70k (exclusive)</b></font>\n",
    "- Make sure your method returns <b>both</b> the `count` and `total`, in a single tuple. "
   ]
  },
  {
   "cell_type": "markdown",
   "metadata": {},
   "source": [
    "<b>Hint:</b> Your function should look like this: \n",
    "\n",
    "```python\n",
    "def count_and_total(...): \n",
    "    ...\n",
    "    ...\n",
    "    return count, total\n",
    "```"
   ]
  },
  {
   "cell_type": "markdown",
   "metadata": {},
   "source": [
    "<b>Expected output is the second part of the passcode. It should be a tuple that looks like:</b>\n",
    "```python\n",
    "# values for illustration only\n",
    "(123, 1234567) \n",
    "```"
   ]
  },
  {
   "cell_type": "code",
   "execution_count": 13,
   "metadata": {},
   "outputs": [],
   "source": [
    "# Write your code here below\n",
    "\n",
    "def count_and_total(table):\n",
    "    count = 0\n",
    "    total = 0\n",
    "    for row in table:\n",
    "        if (row['income'] >= 50000 and row['income'] < 70000):\n",
    "            count += 1\n",
    "            total += row['income']\n",
    "    return count, total"
   ]
  },
  {
   "cell_type": "code",
   "execution_count": 14,
   "metadata": {},
   "outputs": [
    {
     "name": "stdout",
     "output_type": "stream",
     "text": [
      "(153, 9063437)\n"
     ]
    }
   ],
   "source": [
    "# If your code works correctly, you should be able to run the following\n",
    "q2_answer = count_and_total(customer_income_data)\n",
    "print(q2_answer)"
   ]
  },
  {
   "cell_type": "markdown",
   "metadata": {},
   "source": [
    "<hr></hr>"
   ]
  },
  {
   "cell_type": "markdown",
   "metadata": {},
   "source": [
    "## Question 3\n",
    "\n",
    "Help your colleague debug for the below programme. \n",
    "\n",
    "#### Background:\n",
    "Based on `customer_income_data`, he is trying to calculate the average income across all Group `A` customers. \n",
    "* <b>Step 1</b>: He wrote a function that <b>extracts all Group `A` customers' income as a list</b>. \n",
    "* <b>Step 2</b>: He then wrote another function that <b>calculates the average</b> based on any list of numbers. \n",
    "\n",
    "However, he is facing error messages and he doesn't know what went wrong. \n",
    "\n",
    "<font color=\"salmon\"><b>His code is below. You only need to change `one line`.</b></font>"
   ]
  },
  {
   "cell_type": "code",
   "execution_count": 74,
   "metadata": {},
   "outputs": [],
   "source": [
    "# This function gives a list of income numbers for all Male customers\n",
    "def get_customers_by_group(my_data, my_group):\n",
    "    result_list = []\n",
    "    for row in my_data:\n",
    "        group = row['group']\n",
    "        income = row['income']\n",
    "        if group == my_group:\n",
    "            result_list.append(income)\n",
    "            \n",
    "    return(result_list)\n",
    "\n",
    "# This function takes the list, and calculate its average\n",
    "def calculate_average(the_list):  \n",
    "    return sum(the_list) / len(the_list)"
   ]
  },
  {
   "cell_type": "code",
   "execution_count": 76,
   "metadata": {},
   "outputs": [
    {
     "name": "stdout",
     "output_type": "stream",
     "text": [
      "60667.68205128205\n"
     ]
    }
   ],
   "source": [
    "# Call above functions to calculate average income for male customers\n",
    "group_a_list = get_customers_by_group(customer_income_data, \"A\") # Step 1\n",
    "q3_answer = calculate_average(group_a_list) # Step 2\n",
    "print(q3_answer)"
   ]
  },
  {
   "cell_type": "markdown",
   "metadata": {},
   "source": [
    "<hr></hr>"
   ]
  },
  {
   "cell_type": "markdown",
   "metadata": {},
   "source": [
    "<font color=\"salmon\"><b>Assembly your passcode: </b></font><b>`Answer for Q1`</b>-<b>`Answer for Q2`</b>-<b>`Answer for Q3`</b>\n",
    "\n",
    "This code below helps you generate your passcode:"
   ]
  },
  {
   "cell_type": "code",
   "execution_count": 77,
   "metadata": {},
   "outputs": [
    {
     "name": "stdout",
     "output_type": "stream",
     "text": [
      "1594-(153, 9063437)-60667.68\n"
     ]
    }
   ],
   "source": [
    "print(f'{q1_answer}-{q2_answer}-{round(q3_answer, 2)}')"
   ]
  },
  {
   "cell_type": "markdown",
   "metadata": {},
   "source": [
    "***And send this passcode with Notebook to `@chanyusiang` on Telegram.***"
   ]
  },
  {
   "cell_type": "markdown",
   "metadata": {},
   "source": [
    "<center><h1>The End</h1><center>"
   ]
  }
 ],
 "metadata": {
  "kernelspec": {
   "display_name": "Python 3",
   "language": "python",
   "name": "python3"
  },
  "language_info": {
   "codemirror_mode": {
    "name": "ipython",
    "version": 3
   },
   "file_extension": ".py",
   "mimetype": "text/x-python",
   "name": "python",
   "nbconvert_exporter": "python",
   "pygments_lexer": "ipython3",
   "version": "3.8.3"
  }
 },
 "nbformat": 4,
 "nbformat_minor": 4
}
