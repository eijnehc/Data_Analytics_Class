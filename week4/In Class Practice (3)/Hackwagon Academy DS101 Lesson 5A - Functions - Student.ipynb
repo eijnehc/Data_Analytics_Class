{
 "cells": [
  {
   "cell_type": "markdown",
   "metadata": {},
   "source": [
    "<center><img src=\"https://i2.wp.com/hackwagon.com/wp-content/uploads/2017/02/Logo-Web-Export.png?ssl=1\" width=200/></center>\n",
    "\n",
    "<h1> Hackwagon Academy DS101 Lesson 5A </h1>\n",
    "<h2> Functions</h2> \n",
    "<h3> Lesson Outline </h3>\n",
    "\n",
    "- 1. [Functions](#1)\n",
    "- 2. [Parameters](#2)\n",
    "    - 2.1 [Default Parameters](#2.1)\n",
    "    - 2.2 [Keyword Arguments](#2.2)\n",
    "    - [Practice I](#P1)\n",
    "    - [Practice II - Summary Statistics](#P2)"
   ]
  },
  {
   "cell_type": "markdown",
   "metadata": {},
   "source": [
    "## Data Science Project Stages\n",
    "\n",
    "<img src=\"https://i.imgur.com/pIc9rZc.png\">"
   ]
  },
  {
   "cell_type": "markdown",
   "metadata": {},
   "source": [
    "<a id='1'><h2><img src=\"https://images.vexels.com/media/users/3/153978/isolated/preview/483ef8b10a46e28d02293a31570c8c56-warning-sign-colored-stroke-icon-by-vexels.png\" width=25 align=\"left\"><font color=\"salmon\">&nbsp;1.</font><font color=\"salmon\"> Functions </font> </h2></a>\n",
    "\n",
    "You can **\"call\"** functions to perform an action for you, very much like Excel's functions. \n",
    "\n",
    "Python's built-in functions:\n",
    "\n",
    "| Function | Purpose |\n",
    "|------|------|\n",
    "| `sum(x)` | Summing a list |\n",
    "| `len(x)` | Getting the length / size of a list |\n",
    "| `min(x)` | Getting the min of a list |\n",
    "| `max(x)` | Getting the max of a list |\n",
    "| `sorted(x)` | Getting a sorted copy of the list |\n",
    "| `str(x)` | Convert `x` to a str |\n",
    "| `int(x)` | Convert `x` to a int |\n",
    "| `float(x)` | Convert `x` to a float |\n",
    "\n",
    "<hr></hr>\n",
    "\n",
    "**In programming, functions are like giftboxes of code written by others / ourselves that we can use conveniently.**\n",
    "\n",
    "`print` is a function we've been using all along. The source code for print can be found [here](https://github.com/python/cpython/blob/2.7/Python/bltinmodule.c#L1580)."
   ]
  },
  {
   "cell_type": "code",
   "execution_count": 1,
   "metadata": {
    "ExecuteTime": {
     "end_time": "2019-07-01T16:12:49.400996Z",
     "start_time": "2019-07-01T16:12:49.398419Z"
    },
    "scrolled": false
   },
   "outputs": [
    {
     "name": "stdout",
     "output_type": "stream",
     "text": [
      "hello world!\n"
     ]
    }
   ],
   "source": [
    "print(\"hello world!\")"
   ]
  },
  {
   "cell_type": "markdown",
   "metadata": {},
   "source": [
    "Why do we want to build functions:\n",
    "1. Makes code reusable\n",
    "2. Provides structure for longer programmes\n",
    "3. Makes it easier for other programmers to understand your work"
   ]
  },
  {
   "cell_type": "code",
   "execution_count": 89,
   "metadata": {
    "ExecuteTime": {
     "end_time": "2019-06-01T13:09:28.546085Z",
     "start_time": "2019-06-01T13:09:28.541949Z"
    },
    "cell_style": "center"
   },
   "outputs": [
    {
     "name": "stdout",
     "output_type": "stream",
     "text": [
      "5\n",
      "3\n",
      "4\n"
     ]
    }
   ],
   "source": [
    "data1 = [1, 2, 4,1 , 3]\n",
    "data2 = [121598, 2147 ,2421]\n",
    "data3 = [1231278, 2148 , 218342, 2871]\n",
    "\n",
    "# Write your code below:\n",
    "# Sum the datasets\n",
    "\n",
    "    \n"
   ]
  },
  {
   "cell_type": "markdown",
   "metadata": {},
   "source": [
    "<hr>"
   ]
  },
  {
   "cell_type": "markdown",
   "metadata": {
    "ExecuteTime": {
     "end_time": "2019-07-01T16:15:25.585123Z",
     "start_time": "2019-07-01T16:15:25.581105Z"
    }
   },
   "source": [
    "### <font color=\"salmon\">Components of a function:</font>\n",
    "1. `Name`\n",
    "2. `Parameters` <font color=\"grey\">_input_</font>\n",
    "3. `Returned value` <font color=\"grey\">_output_</font>\n",
    "\n",
    "<img src=\"https://support.content.office.net/en-us/media/5feb1ba8-a0fb-49d1-8188-dcf1ba878a42.jpg\" align=\"right\">\n",
    "\n",
    "<img src='https://i.imgur.com/jhpovl8.png' width=\"350\" align='left'>"
   ]
  },
  {
   "cell_type": "markdown",
   "metadata": {},
   "source": [
    "To use the function, we must first create it. Create a function `get_message()` that takes in a specified language and returns 'welcome' in that particular language:"
   ]
  },
  {
   "cell_type": "code",
   "execution_count": 8,
   "metadata": {
    "ExecuteTime": {
     "end_time": "2019-07-01T17:24:57.832532Z",
     "start_time": "2019-07-01T17:24:57.824337Z"
    },
    "scrolled": true
   },
   "outputs": [
    {
     "data": {
      "text/plain": [
       "'welcome'"
      ]
     },
     "execution_count": 8,
     "metadata": {},
     "output_type": "execute_result"
    }
   ],
   "source": [
    "# english: welcome\n",
    "# malay: selamat datang\n",
    "# tamil: வரவேற்பு\n",
    "# mandarin: 欢迎\n",
    "\n",
    "# Write your code below:\n",
    "language = 'english'\n",
    "\n",
    "def get_message(language):\n",
    "    if language =='english':\n",
    "        return 'welcome'\n",
    "    elif language == 'malay':\n",
    "        return'selamat datang'\n",
    "    elif language == 'tamil':\n",
    "        return 'வரவேற்பு'\n",
    "    else:\n",
    "        return '欢迎'"
   ]
  },
  {
   "cell_type": "code",
   "execution_count": 12,
   "metadata": {},
   "outputs": [
    {
     "name": "stdout",
     "output_type": "stream",
     "text": [
      "欢迎\n"
     ]
    }
   ],
   "source": [
    "language = 'english'\n",
    "result = get_message(language)\n",
    "print(result)"
   ]
  },
  {
   "cell_type": "code",
   "execution_count": null,
   "metadata": {},
   "outputs": [],
   "source": []
  },
  {
   "cell_type": "markdown",
   "metadata": {},
   "source": [
    "<div class=\"alert alert-danger\">The <b>return</b> keyword is special because it not only gives the ouput of a function, but <u>it also ends that function!</u></div>"
   ]
  },
  {
   "cell_type": "markdown",
   "metadata": {
    "ExecuteTime": {
     "end_time": "2019-06-01T12:18:50.877402Z",
     "start_time": "2019-06-01T12:18:50.873868Z"
    }
   },
   "source": [
    "<div class=\"alert alert-info\">Once a function is created, it is stored only in the current Jupyter Notebook session, just like a variable.</div>"
   ]
  },
  {
   "cell_type": "markdown",
   "metadata": {},
   "source": [
    "Call the function by typing its exact name: `get_message()`"
   ]
  },
  {
   "cell_type": "code",
   "execution_count": 5,
   "metadata": {},
   "outputs": [
    {
     "name": "stdout",
     "output_type": "stream",
     "text": [
      "welcome\n"
     ]
    }
   ],
   "source": [
    "preferred_language = 'english'\n",
    "\n",
    "result = get_message(preferred_language)\n",
    "print(result)"
   ]
  },
  {
   "cell_type": "markdown",
   "metadata": {},
   "source": [
    "<hr>"
   ]
  },
  {
   "cell_type": "markdown",
   "metadata": {},
   "source": [
    "<a id='2'><h2><img src=\"https://images.vexels.com/media/users/3/153978/isolated/preview/483ef8b10a46e28d02293a31570c8c56-warning-sign-colored-stroke-icon-by-vexels.png\" width=25 align=\"left\"><font color=\"salmon\">&nbsp;2.</font><font color=\"salmon\"> Parameters </font> </h2></a>\n",
    "\n",
    "> `Parameters` are the function's <font color=\"darkorange\">**INPUTS**</font>. `Parameters` take on the values of `arguments`, supplied by whoever calls the function.\n",
    "\n",
    "> The <font color=\"navy\">**OUTPUT**</font> is the function's `return` value.\n",
    "\n",
    "Functions can have any number of parameters. Let's see the following as an example. \n",
    "\n",
    "\n",
    "\n",
    "<img src=\"https://www.cyberphysics.co.uk/graphics/graphs/ymxc.gif\" width=\"300\" align=\"right\">\n",
    "\n",
    "<img src=\"https://i.imgur.com/gOrGBvL.png\" width=\"500\" align=\"left\">"
   ]
  },
  {
   "cell_type": "code",
   "execution_count": 13,
   "metadata": {
    "ExecuteTime": {
     "end_time": "2019-07-01T17:25:25.172719Z",
     "start_time": "2019-07-01T17:25:25.170270Z"
    }
   },
   "outputs": [],
   "source": [
    "# Create the y_1 function:\n",
    "def y_1(m, x, c):\n",
    "    return m * x +c"
   ]
  },
  {
   "cell_type": "code",
   "execution_count": 14,
   "metadata": {
    "ExecuteTime": {
     "end_time": "2019-07-01T17:25:25.807461Z",
     "start_time": "2019-07-01T17:25:25.804437Z"
    }
   },
   "outputs": [
    {
     "name": "stdout",
     "output_type": "stream",
     "text": [
      "25\n"
     ]
    }
   ],
   "source": [
    "# Call the y_1 function:\n",
    "\n",
    "result = y_1(10, 2, 5)\n",
    "print(result)"
   ]
  },
  {
   "cell_type": "markdown",
   "metadata": {},
   "source": [
    "<a id='2.1'><h3>2.1 Default Arguments</h3></a>\n",
    "\n",
    "We can also specify default arguments within a function. <br>\n",
    "If we don't specify any arguments to the parameters, the default values will take over instead.\n",
    "\n",
    "<img src=\"https://i.imgur.com/UeglqcQ.png\" width=500>"
   ]
  },
  {
   "cell_type": "code",
   "execution_count": 15,
   "metadata": {
    "ExecuteTime": {
     "end_time": "2019-07-01T17:25:44.090601Z",
     "start_time": "2019-07-01T17:25:44.087998Z"
    }
   },
   "outputs": [],
   "source": [
    "# Create the y_2 function:\n",
    "def y_2(m = 2, x = 2, c = 2):\n",
    "    return m * x + c\n"
   ]
  },
  {
   "cell_type": "code",
   "execution_count": 16,
   "metadata": {
    "ExecuteTime": {
     "end_time": "2019-07-01T17:25:54.254515Z",
     "start_time": "2019-07-01T17:25:54.251915Z"
    }
   },
   "outputs": [
    {
     "name": "stdout",
     "output_type": "stream",
     "text": [
      "6\n"
     ]
    }
   ],
   "source": [
    "result = y_2() \n",
    "print(result)"
   ]
  },
  {
   "cell_type": "markdown",
   "metadata": {},
   "source": [
    "By specifying default arguments, we can omit those arguments when we want to use them. \n",
    "\n",
    "<img src=\"https://i.imgur.com/rLuRSuV.png\" width=\"500\">"
   ]
  },
  {
   "cell_type": "code",
   "execution_count": 18,
   "metadata": {
    "ExecuteTime": {
     "end_time": "2019-07-01T17:25:44.090601Z",
     "start_time": "2019-07-01T17:25:44.087998Z"
    }
   },
   "outputs": [],
   "source": [
    "# Create the y_3 function:\n",
    "def y_3(m = 2, x = 2, c = 2):\n",
    "    return m * x + c\n"
   ]
  },
  {
   "cell_type": "code",
   "execution_count": 19,
   "metadata": {
    "ExecuteTime": {
     "end_time": "2019-07-01T17:30:29.236784Z",
     "start_time": "2019-07-01T17:30:29.234793Z"
    }
   },
   "outputs": [
    {
     "name": "stdout",
     "output_type": "stream",
     "text": [
      "202\n"
     ]
    }
   ],
   "source": [
    "result = y_3(100) # default will be the first parameter\n",
    "print(result)"
   ]
  },
  {
   "cell_type": "markdown",
   "metadata": {},
   "source": [
    "<a id='2.2'><h3>2.2 Keyword Arguments</h3></a>\n",
    "\n",
    "We can also be very specific about what values to put for each argument, **without regard for their position**. \n",
    "\n",
    "<img src=\"https://i.imgur.com/DaUwRP2.png\" width=500>"
   ]
  },
  {
   "cell_type": "code",
   "execution_count": 20,
   "metadata": {},
   "outputs": [],
   "source": [
    "# Create the y_4 function:\n",
    "\n",
    "def y_4(m = 2, x = 2, c = 2):\n",
    "    return m * x + c"
   ]
  },
  {
   "cell_type": "code",
   "execution_count": 21,
   "metadata": {},
   "outputs": [
    {
     "name": "stdout",
     "output_type": "stream",
     "text": [
      "20\n"
     ]
    }
   ],
   "source": [
    "result = y_4(c=10, m=2, x=5)\n",
    "print(result)"
   ]
  },
  {
   "cell_type": "markdown",
   "metadata": {},
   "source": [
    "<a id=\"P1\"><h2><img src=\"https://cdn.shopify.com/s/files/1/1200/7374/products/book_aec28e76-52ec-44ab-bc01-41df1279c89f_550x825.png?v=1473897430\" width=25 align=\"left\"> <font color=\"darkorange\"> &nbsp; Practice I </font><font color=\"skyblue\"> * </font></h2></a>\n",
    "\n",
    "### Question 1 \n",
    "\n",
    "> Write a function named `larger` that has 2 parameters `x` and `y` (both ints) and `returns` the larger of the two. <br> <font color=\"grey\">If the two numbers are equal, return either</font>\n",
    "\n",
    "<div class=\"alert alert-warning\">Do not use the <code>max()</code> function for this question</div>"
   ]
  },
  {
   "cell_type": "code",
   "execution_count": 22,
   "metadata": {
    "ExecuteTime": {
     "end_time": "2019-07-01T17:32:56.528429Z",
     "start_time": "2019-07-01T17:32:56.526034Z"
    }
   },
   "outputs": [],
   "source": [
    "# Write your code below:\n",
    "def larger(x,y):\n",
    "    if (x > y):\n",
    "        return x\n",
    "    else:\n",
    "        return y\n"
   ]
  },
  {
   "cell_type": "markdown",
   "metadata": {},
   "source": [
    "**Expected Output:**\n",
    "```python\n",
    "3\n",
    "100\n",
    "``` "
   ]
  },
  {
   "cell_type": "code",
   "execution_count": 23,
   "metadata": {
    "ExecuteTime": {
     "end_time": "2019-07-01T17:32:57.266249Z",
     "start_time": "2019-07-01T17:32:57.263132Z"
    }
   },
   "outputs": [
    {
     "name": "stdout",
     "output_type": "stream",
     "text": [
      "3\n",
      "100\n"
     ]
    }
   ],
   "source": [
    "# Test Case 1\n",
    "print(larger(3, 2))\n",
    "\n",
    "# Test Case 2\n",
    "print(larger(10, 100)) "
   ]
  },
  {
   "cell_type": "markdown",
   "metadata": {},
   "source": [
    "<hr>"
   ]
  },
  {
   "cell_type": "markdown",
   "metadata": {},
   "source": [
    "### Question 2\n",
    "> Write a function named `get_total` that has a parameter `a_list` (list) and returns the sum of the `a_list`\n",
    "\n",
    "<div class=\"alert alert-warning\">Do not use the <code>sum()</code> function for this question</div>"
   ]
  },
  {
   "cell_type": "code",
   "execution_count": 42,
   "metadata": {
    "ExecuteTime": {
     "end_time": "2019-07-01T17:33:09.300712Z",
     "start_time": "2019-07-01T17:33:09.298098Z"
    }
   },
   "outputs": [],
   "source": [
    "# Write your code below:\n",
    "def get_total(a_list):\n",
    "    summ = 0\n",
    "    for num in a_list:\n",
    "        summ += num\n",
    "    return summ\n",
    "        \n"
   ]
  },
  {
   "cell_type": "markdown",
   "metadata": {},
   "source": [
    "**Expected Output:**\n",
    "```python\n",
    "60\n",
    "1009\n",
    "```"
   ]
  },
  {
   "cell_type": "code",
   "execution_count": 43,
   "metadata": {
    "ExecuteTime": {
     "end_time": "2019-07-01T17:33:10.500408Z",
     "start_time": "2019-07-01T17:33:10.496818Z"
    }
   },
   "outputs": [
    {
     "name": "stdout",
     "output_type": "stream",
     "text": [
      "60\n",
      "1009\n"
     ]
    }
   ],
   "source": [
    "# Test Case 1\n",
    "print(get_total([10,20,30])) \n",
    "\n",
    "# Test Case 2\n",
    "print(get_total([1, 5, 3, 1000])) "
   ]
  },
  {
   "cell_type": "markdown",
   "metadata": {},
   "source": [
    "<hr>"
   ]
  },
  {
   "cell_type": "markdown",
   "metadata": {},
   "source": [
    "### Question 3\n",
    "\n",
    "> Write a function named `get_counts` that has a parameter `data` (will always be a list) and returns a `dictionary` capturing the counts of all elements inside the `data` list. "
   ]
  },
  {
   "cell_type": "code",
   "execution_count": 47,
   "metadata": {
    "ExecuteTime": {
     "end_time": "2019-07-01T17:33:35.319925Z",
     "start_time": "2019-07-01T17:33:35.316877Z"
    }
   },
   "outputs": [],
   "source": [
    "# Write your code below:\n",
    "\n",
    "def get_counts(data):\n",
    "    counts = {}\n",
    "    for pokemon in data:\n",
    "        if pokemon not in counts:\n",
    "            counts[pokemon] = 1\n",
    "        else:\n",
    "            counts[pokemon] += 1\n",
    "    \n",
    "    return counts\n",
    "    "
   ]
  },
  {
   "cell_type": "markdown",
   "metadata": {},
   "source": [
    "**Expected Output** <font color=\"grey\">(_Order does not matter_)</font>:\n",
    "\n",
    "```python\n",
    "{10200: 1, 20304: 1, 8188: 2, 10222: 1, 2123: 1, 9402: 1, 30293: 1, 35863: 1, 21392: 1, 2: 1}\n",
    "\n",
    "{'Pikachu': 3, 'Bulbasaur': 1, 'Charmander': 2, 'Squirtle': 1}\n",
    "```"
   ]
  },
  {
   "cell_type": "code",
   "execution_count": 48,
   "metadata": {
    "ExecuteTime": {
     "end_time": "2019-07-01T17:33:36.178852Z",
     "start_time": "2019-07-01T17:33:36.174871Z"
    }
   },
   "outputs": [
    {
     "name": "stdout",
     "output_type": "stream",
     "text": [
      "{10200: 1, 20304: 1, 8188: 2, 10222: 1, 2123: 1, 9402: 1, 30293: 1, 35863: 1, 21392: 1, 2: 1}\n",
      "{'Pikachu': 3, 'Bulbasaur': 1, 'Charmander': 2, 'Squirtle': 1}\n"
     ]
    }
   ],
   "source": [
    "test_1 = [10200, 20304, 8188, 10222, 2123, 9402, 8188, 30293, 35863, 21392, 2]\n",
    "test_2 = [\"Pikachu\", \"Bulbasaur\", \"Charmander\", \"Pikachu\", \"Charmander\", \"Squirtle\", \"Pikachu\"]\n",
    "\n",
    "# Test Case 1\n",
    "print(get_counts(test_1))\n",
    "\n",
    "# Test Case 2\n",
    "print(get_counts(test_2))"
   ]
  },
  {
   "cell_type": "markdown",
   "metadata": {},
   "source": [
    "<hr>"
   ]
  },
  {
   "cell_type": "markdown",
   "metadata": {},
   "source": [
    "<a id=\"P2\"><h2><img src=\"https://cdn.shopify.com/s/files/1/1200/7374/products/book_aec28e76-52ec-44ab-bc01-41df1279c89f_550x825.png?v=1473897430\" width=25 align=\"left\"> <font color=\"darkorange\"> &nbsp; Practice II - Summary Statistics </font><font color=\"skyblue\"> * </font></h2></a>\n",
    "\n",
    "### Question 1 - Mean\n",
    "> Complete the function `mean` below that accepts a list of numbers as input, and returns the **mean** of all the numbers."
   ]
  },
  {
   "cell_type": "code",
   "execution_count": 53,
   "metadata": {
    "ExecuteTime": {
     "end_time": "2019-07-01T17:34:15.312767Z",
     "start_time": "2019-07-01T17:34:15.309849Z"
    }
   },
   "outputs": [],
   "source": [
    "# Write your code below:\n",
    "def mean(input):\n",
    "    result = 0\n",
    "    for numbers in input:\n",
    "        result += numbers\n",
    "    return result/len(input)\n"
   ]
  },
  {
   "cell_type": "markdown",
   "metadata": {},
   "source": [
    "\n",
    "Expected output when `mean(numbers)` is called:\n",
    "```python\n",
    "14390.727272727272\n",
    "```"
   ]
  },
  {
   "cell_type": "code",
   "execution_count": 54,
   "metadata": {
    "ExecuteTime": {
     "end_time": "2019-07-01T17:34:17.753891Z",
     "start_time": "2019-07-01T17:34:17.750020Z"
    }
   },
   "outputs": [
    {
     "data": {
      "text/plain": [
       "14390.727272727272"
      ]
     },
     "execution_count": 54,
     "metadata": {},
     "output_type": "execute_result"
    }
   ],
   "source": [
    "# Run this to test your code\n",
    "numbers = [10200, 20304, 8188, 10222, 2123, 9402, 2123, 8188, 30293, 35863, 21392]\n",
    "mean(numbers)"
   ]
  },
  {
   "cell_type": "markdown",
   "metadata": {},
   "source": [
    "<hr>"
   ]
  },
  {
   "cell_type": "markdown",
   "metadata": {},
   "source": [
    "### Question 2 - Mode\n",
    "> Complete the function `mode` below that accepts a list of numbers as input, and returns the **mode** of all the numbers.\n",
    "\n",
    "_Mode_ refers to the value in the list that occurs the most number of times.\n",
    "\n",
    "<div class=\"alert alert-info\"> Hint: Use the <i>counting with dictionaries</i> concept! </div>"
   ]
  },
  {
   "cell_type": "code",
   "execution_count": 105,
   "metadata": {
    "ExecuteTime": {
     "end_time": "2019-07-01T17:38:26.182617Z",
     "start_time": "2019-07-01T17:38:26.178611Z"
    }
   },
   "outputs": [],
   "source": [
    "# Write your code below:\n",
    "\n",
    "def mode (data):\n",
    "    counts = {}\n",
    "    for numbers in data:\n",
    "        if numbers not in counts:\n",
    "            counts[numbers] = 1\n",
    "        else:\n",
    "            counts[numbers] += 1\n",
    "    \n",
    "    highest_val = 0\n",
    "    highest_key = 0\n",
    "    for k,v in counts.items():\n",
    "        if (v > highest_val):\n",
    "            highest_key = k\n",
    "            highest_val = v\n",
    "    return highest_key"
   ]
  },
  {
   "cell_type": "markdown",
   "metadata": {},
   "source": [
    "Expected output when `mode(numbers)` is called:\n",
    "```python\n",
    "8188\n",
    "```\n",
    "\n"
   ]
  },
  {
   "cell_type": "code",
   "execution_count": 106,
   "metadata": {
    "ExecuteTime": {
     "end_time": "2019-07-01T17:38:27.373140Z",
     "start_time": "2019-07-01T17:38:27.369298Z"
    }
   },
   "outputs": [
    {
     "data": {
      "text/plain": [
       "8188"
      ]
     },
     "execution_count": 106,
     "metadata": {},
     "output_type": "execute_result"
    }
   ],
   "source": [
    "# Run this to test your code\n",
    "\n",
    "numbers = [10200, 20304, 8188, 10222, 2123, 9402, 8188, 30293, 35863, 21392]\n",
    "mode(numbers)"
   ]
  },
  {
   "cell_type": "markdown",
   "metadata": {},
   "source": [
    "<hr>"
   ]
  },
  {
   "cell_type": "markdown",
   "metadata": {},
   "source": [
    "### Question 3 - Median \n",
    "> Complete the function `median` below that accepts a list of numbers as input, and returns the **median** of all the numbers.\n",
    "\n",
    "_Median_ is the value at the midpoint of the list if the list contains an odd number of elements, else it will be the average of the middle two values.\n",
    "\n",
    "<div class=\"alert alert-info\">\n",
    "<i>\n",
    "Hint <br>\n",
    "    1. You need to first use <code>.sort()</code> or <code>sorted()</code> to sort the numbers in order<br>\n",
    "2. Find middle point using the <code>//</code> operator <br>\n",
    "3. If odd, then return middle point, else return average of the two middle values. Use the <code>%</code> operator.\n",
    "</i></div>"
   ]
  },
  {
   "cell_type": "code",
   "execution_count": 118,
   "metadata": {
    "ExecuteTime": {
     "end_time": "2019-07-01T17:37:17.174051Z",
     "start_time": "2019-07-01T17:37:17.169976Z"
    }
   },
   "outputs": [],
   "source": [
    "# Write your code below:\n",
    "\n",
    "# list of 5 : 3rd (2)\n",
    "# list of 6 : avg(3rd,4th), (2,3)\n",
    "def median(numbers):\n",
    "    # numbers = [10200, 20304, 8188, 10222, 2123, 9402, 8188, 30293, 35863, 21392]\n",
    "    data = sorted(numbers)\n",
    "\n",
    "    if (len(data) % 2 == 0):\n",
    "        right = data[len(data) // 2] # use floor division\n",
    "        left = right - 1\n",
    "        average = (left + right) / 2\n",
    "    else:\n",
    "        average = data[len(data) // 2]\n",
    "    return average\n"
   ]
  },
  {
   "cell_type": "markdown",
   "metadata": {},
   "source": [
    "Expected output when `median(numbers)` is called:\n",
    "```python\n",
    "10211.0\n",
    "```"
   ]
  },
  {
   "cell_type": "code",
   "execution_count": 119,
   "metadata": {
    "ExecuteTime": {
     "end_time": "2019-07-01T17:37:25.503811Z",
     "start_time": "2019-07-01T17:37:25.499848Z"
    }
   },
   "outputs": [
    {
     "data": {
      "text/plain": [
       "10221.5"
      ]
     },
     "execution_count": 119,
     "metadata": {},
     "output_type": "execute_result"
    }
   ],
   "source": [
    "# Run this to test your code\n",
    "\n",
    "numbers = [10200, 20304, 8188, 10222, 2123, 9402, 8188, 30293, 35863, 21392]\n",
    "median(numbers)"
   ]
  },
  {
   "cell_type": "markdown",
   "metadata": {},
   "source": [
    "<hr>"
   ]
  },
  {
   "cell_type": "markdown",
   "metadata": {},
   "source": [
    "### Question 4 - Summary Statistics \n",
    "> Complete the function `summarise` below that takes in a list of numbers, and returns a dictionary summarising the numbers with three important statistics -- mean, median and mode. \n",
    "\n",
    "<div class=\"alert alert-info\"> Hint: You already created multiple functions, one each for mean, median and mode. You can use them in your <code>summarise</code> function! </div>"
   ]
  },
  {
   "cell_type": "code",
   "execution_count": 120,
   "metadata": {
    "ExecuteTime": {
     "end_time": "2019-07-01T17:38:41.244826Z",
     "start_time": "2019-07-01T17:38:41.242033Z"
    }
   },
   "outputs": [],
   "source": [
    "# Write your code below:\n",
    "\n",
    "def summarise(data):\n",
    "    return {\n",
    "        'mean': mean(data),\n",
    "        'mode': mode(data),\n",
    "        'median': median(data)\n",
    "    }\n"
   ]
  },
  {
   "cell_type": "markdown",
   "metadata": {},
   "source": [
    "Expected output:\n",
    "```python\n",
    "{'mean': 15617.5, 'mode': 8188, 'median': 10211.0}\n",
    "```\n",
    "\n"
   ]
  },
  {
   "cell_type": "code",
   "execution_count": 121,
   "metadata": {},
   "outputs": [
    {
     "data": {
      "text/plain": [
       "{'mean': 15617.5, 'mode': 8188, 'median': 10221.5}"
      ]
     },
     "execution_count": 121,
     "metadata": {},
     "output_type": "execute_result"
    }
   ],
   "source": [
    "# Run this to test your code\n",
    "\n",
    "numbers = [10200, 20304, 8188, 10222, 2123, 9402, 8188, 30293, 35863, 21392]\n",
    "summarise(numbers)"
   ]
  }
 ],
 "metadata": {
  "kernelspec": {
   "display_name": "Python 3",
   "language": "python",
   "name": "python3"
  },
  "language_info": {
   "codemirror_mode": {
    "name": "ipython",
    "version": 3
   },
   "file_extension": ".py",
   "mimetype": "text/x-python",
   "name": "python",
   "nbconvert_exporter": "python",
   "pygments_lexer": "ipython3",
   "version": "3.8.3"
  }
 },
 "nbformat": 4,
 "nbformat_minor": 2
}
