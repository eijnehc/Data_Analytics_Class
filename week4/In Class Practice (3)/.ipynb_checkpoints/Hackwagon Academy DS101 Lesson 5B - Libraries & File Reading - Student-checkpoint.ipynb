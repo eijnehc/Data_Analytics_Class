{
 "cells": [
  {
   "cell_type": "markdown",
   "metadata": {},
   "source": [
    "<center><img src=\"https://i2.wp.com/hackwagon.com/wp-content/uploads/2017/02/Logo-Web-Export.png?ssl=1\" width=200/></center>\n",
    "\n",
    "<h1> Hackwagon Academy DS101 Lesson 5B </h1>\n",
    "<h2> Libraries and File Reading</h2> \n",
    "<h3> Lesson Outline </h3>\n",
    "\n",
    "- 1. [Libraries](#1)\n",
    "    - [Math Library](#1.1)\n",
    "    - [Statistics Library](#1.2)\n",
    "- 2. [File Opening](#2)\n",
    "    - [CSV Library](#2.1)\n",
    "- 3. [Plotting with matplotlib](#3)\n",
    "    - [Line Chart](#3.1)\n",
    "    - [Bar Chart](#3.2)\n",
    "    - [Scatter Plot](#3.3)\n",
    "    - [Designing Your Plots](#3.4)\n",
    "    - [Subplots & Axes](#3.5)"
   ]
  },
  {
   "cell_type": "markdown",
   "metadata": {},
   "source": [
    "<a id='1'><h1><img src=\"https://images.vexels.com/media/users/3/153978/isolated/preview/483ef8b10a46e28d02293a31570c8c56-warning-sign-colored-stroke-icon-by-vexels.png\" width=25 align=\"left\"><font color=\"salmon\">&nbsp;1.</font><font color=\"salmon\"> Libraries </font> </h2></a>"
   ]
  },
  {
   "cell_type": "markdown",
   "metadata": {},
   "source": [
    "\n",
    "Libraries are what makes Python one of the most popular languages for Data Science. Libraries are just a collection of many functions that are written by others. In order to use libraries, we need to understand how to read documentation on libraries. \n",
    "\n",
    "Below are some of the most popular libraries in Data Science.\n",
    "\n",
    "<img src=\"https://discoversdkcdn.azureedge.net/postscontent/python/python-data-science2.png\" width=400> \n",
    "\n",
    "1. [Numpy](https://www.numpy.org) - Numerical Computation\n",
    "2. [Matplotlib](https://matplotlib.org) - Data Visualisation\n",
    "3. [Pandas](http://pandas.pydata.org/pandas-docs/stable/) - Data Cleaning / Wrangling \n",
    "4. [sklearn](http://scikit-learn.github.io/stable) - Machine Learning\n",
    "\n",
    "and many more!\n",
    "\n",
    "<img src=\"https://i.imgur.com/YKSJ4wq.png\" width=\"600\">\n"
   ]
  },
  {
   "cell_type": "markdown",
   "metadata": {
    "ExecuteTime": {
     "end_time": "2019-07-03T16:05:11.470839Z",
     "start_time": "2019-07-03T16:05:11.467815Z"
    }
   },
   "source": [
    "<hr>"
   ]
  },
  {
   "cell_type": "markdown",
   "metadata": {},
   "source": [
    "<a id=\"1.1\"> <h2><code>math</code></h3></a>\n",
    "\n",
    "<!-- <img src=\"https://i.imgur.com/1x7RL15.png\" width=400 style=\"float: right\"> -->\n",
    "\n",
    "This library allows you to use some math functions unavailable by default in Python. <br>\n",
    "Read the documentation here: https://docs.python.org/3/library/math.html \n",
    "\n",
    "For example, we can use the `math` library's `exp()` function on a given number `x`:"
   ]
  },
  {
   "cell_type": "code",
   "execution_count": null,
   "metadata": {
    "ExecuteTime": {
     "end_time": "2019-07-01T17:38:52.423823Z",
     "start_time": "2019-07-01T17:38:52.415574Z"
    }
   },
   "outputs": [],
   "source": [
    "# Write your code below:\n",
    "\n"
   ]
  },
  {
   "cell_type": "markdown",
   "metadata": {},
   "source": [
    "## <img src=\"https://cdn.shopify.com/s/files/1/1200/7374/products/book_aec28e76-52ec-44ab-bc01-41df1279c89f_550x825.png?v=1473897430\" width=20 align=\"left\"> &nbsp; <font color=\"darkorange\"> Try it out I </font>\n",
    "<font color=\"grey\"><i>Using math functions + Pythagorean Theorem</i></font>\n",
    "\n",
    "> Use functions in the `math` library to calculate `c`\n",
    "\n",
    "<img src=\"http://www.justscience.in/wp-content/uploads/2017/05/Pythagorean-Theorem.jpeg\" width=400>\n",
    "\n",
    "#### Expected Output:\n",
    "```python\n",
    "22.3606...\n",
    "```"
   ]
  },
  {
   "cell_type": "code",
   "execution_count": null,
   "metadata": {
    "ExecuteTime": {
     "end_time": "2019-07-01T17:39:12.544494Z",
     "start_time": "2019-07-01T17:39:12.540383Z"
    }
   },
   "outputs": [],
   "source": [
    "# Write your code below:\n",
    "\n"
   ]
  },
  {
   "cell_type": "markdown",
   "metadata": {},
   "source": [
    "<hr>"
   ]
  },
  {
   "cell_type": "markdown",
   "metadata": {},
   "source": [
    "<a id=\"1.2\"> <h2><code>statistics</code></h2></a>\n",
    "\n",
    "This library gives you many statistical functions you can use in with lists of numbers!<br>\n",
    "Read the documentation here: https://docs.python.org/3/library/statistics.html"
   ]
  },
  {
   "cell_type": "markdown",
   "metadata": {},
   "source": [
    "## <img src=\"https://cdn.shopify.com/s/files/1/1200/7374/products/book_aec28e76-52ec-44ab-bc01-41df1279c89f_550x825.png?v=1473897430\" width=20 align=\"left\"> &nbsp; <font color=\"darkorange\"> Try it out II </font>\n",
    "<font color=\"grey\"><i>Using statistics functions</i></font>\n",
    "\n",
    "> Find the mean, median, mode of `[10,100,20,30,40,50,60,70]`\n",
    "\n",
    "#### Expected Output:\n",
    "```python\n",
    "mean: 40.36...\n",
    "median: 42\n",
    "mode: 42\n",
    "```"
   ]
  },
  {
   "cell_type": "code",
   "execution_count": null,
   "metadata": {
    "ExecuteTime": {
     "end_time": "2019-07-01T17:40:01.688769Z",
     "start_time": "2019-07-01T17:40:01.682545Z"
    }
   },
   "outputs": [],
   "source": [
    "# Write your code below:\n",
    "\n"
   ]
  },
  {
   "cell_type": "markdown",
   "metadata": {},
   "source": [
    "<hr>"
   ]
  },
  {
   "cell_type": "markdown",
   "metadata": {},
   "source": [
    "<a id='2'><h2><img src=\"https://images.vexels.com/media/users/3/153978/isolated/preview/483ef8b10a46e28d02293a31570c8c56-warning-sign-colored-stroke-icon-by-vexels.png\" width=25 align=\"left\"><font color=\"salmon\">&nbsp;2.</font><font color=\"salmon\"> File Opening </font> </h2></a>\n",
    "\n",
    "\n",
    "Many datasets are stored in CSV because it is more efficient to store them in these file type. Also be cause the values are separated by commas. CSV stands for <b>Comma Separated Values</b>.\n",
    "\n",
    "<img src=\"https://i.imgur.com/XmWDOy0.png\" width=\"600\">"
   ]
  },
  {
   "cell_type": "markdown",
   "metadata": {},
   "source": [
    "<div class=\"alert alert-danger\">\n",
    "    \n",
    "### File opening without library\n",
    "Not recommended!\n",
    "    \n",
    "</div>"
   ]
  },
  {
   "cell_type": "code",
   "execution_count": null,
   "metadata": {
    "ExecuteTime": {
     "end_time": "2019-07-01T17:40:28.614854Z",
     "start_time": "2019-07-01T17:40:28.609752Z"
    }
   },
   "outputs": [],
   "source": [
    "file = open('videos.csv')\n",
    "\n",
    "data = file.read()\n",
    "\n",
    "cleaned_data = []\n",
    "\n",
    "for row in data.split('\\n'):\n",
    "    cleaned_data.append(row.split(','))\n",
    "\n",
    "del cleaned_data[0]\n",
    "\n",
    "file.close()\n",
    "\n",
    "cleaned_data"
   ]
  },
  {
   "cell_type": "code",
   "execution_count": null,
   "metadata": {
    "ExecuteTime": {
     "end_time": "2019-07-01T17:40:21.558903Z",
     "start_time": "2019-07-01T17:40:21.553628Z"
    }
   },
   "outputs": [],
   "source": [
    "cleaned_data = []\n",
    "\n",
    "with open('videos.csv') as file:\n",
    "\n",
    "    data = file.read()\n",
    "\n",
    "    for row in data.split('\\n'):\n",
    "        cleaned_data.append(row.split(','))\n",
    "\n",
    "    del cleaned_data[0]\n",
    "    \n",
    "cleaned_data"
   ]
  },
  {
   "cell_type": "markdown",
   "metadata": {},
   "source": [
    "<hr>"
   ]
  },
  {
   "cell_type": "markdown",
   "metadata": {},
   "source": [
    "<a id=\"2.1\"><h2><code>csv</code> library</h2></a>\n",
    "\n",
    "The CSV library provides helpful functions for reading `csv` files easily.<br>The two main functions commonly used are:\n",
    "1. `.reader()`\n",
    "2. `.DictReader()`"
   ]
  },
  {
   "cell_type": "markdown",
   "metadata": {
    "ExecuteTime": {
     "end_time": "2019-07-01T15:50:01.145225Z",
     "start_time": "2019-07-01T15:50:01.142209Z"
    }
   },
   "source": [
    "<div class=\"alert alert-warning\">\n",
    "\n",
    "## Better\n",
    "\n",
    "#### `.reader()` - List of Lists \n",
    "Read the `videos.csv` file and put it into a list called `video_list_of_lists`.\n",
    "\n",
    "</div>"
   ]
  },
  {
   "cell_type": "code",
   "execution_count": null,
   "metadata": {
    "ExecuteTime": {
     "end_time": "2019-07-01T17:40:17.245637Z",
     "start_time": "2019-07-01T17:40:17.241121Z"
    }
   },
   "outputs": [],
   "source": [
    "# Write your code below:\n",
    "\n"
   ]
  },
  {
   "cell_type": "markdown",
   "metadata": {},
   "source": [
    "<div class=\"alert alert-success\">\n",
    "\n",
    "## Preferred!\n",
    "#### `.DictReader()` - List of Dictionaries\n",
    "Read the `videos.csv` file and put it into a list called `video_list_of_dictionaries`.\n",
    "\n",
    "</div>"
   ]
  },
  {
   "cell_type": "code",
   "execution_count": null,
   "metadata": {
    "ExecuteTime": {
     "end_time": "2019-07-01T17:40:14.669967Z",
     "start_time": "2019-07-01T17:40:14.662527Z"
    },
    "scrolled": true
   },
   "outputs": [],
   "source": [
    "# Write your code below:\n",
    "\n"
   ]
  },
  {
   "cell_type": "markdown",
   "metadata": {},
   "source": [
    "<a id='3'><h2><img src=\"https://images.vexels.com/media/users/3/153978/isolated/preview/483ef8b10a46e28d02293a31570c8c56-warning-sign-colored-stroke-icon-by-vexels.png\" width=25 align=\"left\"><font color=\"salmon\">&nbsp;3.</font><font color=\"salmon\"> Plotting with `matplotlib` </font> </h2></a>\n",
    "\n",
    "Matplotlib is one of the most used and earliest Python visualisation libraries out there. \n",
    "\n",
    "Pros:\n",
    "1. Provides a standard for other visualisation libraries\n",
    "2. Leveraged by many other libraries\n",
    "\n",
    "Cons:\n",
    " \n",
    " 1. Documentation that is difficult to understand\n",
    " 2. Restrictive syntax \n",
    "\n",
    "Some examples of visualisations can be seen here: https://matplotlib.org/gallery/index.html\n",
    "\n",
    "Creating visualisations is <b>very simple</b>, just tell yourself that you need 2 <b>lists</b> of data of the same <b>length</b> and put them into the library's function and <b><i>it just works!</i></b>"
   ]
  },
  {
   "cell_type": "code",
   "execution_count": null,
   "metadata": {},
   "outputs": [],
   "source": [
    "import random\n",
    "def create_random_numbers(how_many):\n",
    "    results = []\n",
    "    for i in range(how_many):\n",
    "        results.append(random.randrange(1,101,1))\n",
    "    return sorted(results)"
   ]
  },
  {
   "cell_type": "code",
   "execution_count": null,
   "metadata": {},
   "outputs": [],
   "source": [
    "# make sure you import the library\n",
    "\n"
   ]
  },
  {
   "cell_type": "markdown",
   "metadata": {},
   "source": [
    "<a id=\"3.1\"> <h3>3.1 Line Chart</h3></a>\n",
    "\n",
    "Line charts are best used for <b>time-series</b> data.\n",
    "\n",
    "<img src=\"https://plot.ly/~MelissaZhu/4.png\" width=\"400\">"
   ]
  },
  {
   "cell_type": "code",
   "execution_count": null,
   "metadata": {},
   "outputs": [],
   "source": [
    "# Write your code below:\n",
    "\n"
   ]
  },
  {
   "cell_type": "markdown",
   "metadata": {},
   "source": [
    "<a id=\"3.2\"> <h3>3.2 Bar Chart</h3></a>\n",
    "\n",
    "Bar charts are based used to find <b>differences between categories</b> or for <b>time-series</b> data.\n",
    "\n",
    "<img src=\"https://www.excel-easy.com/examples/images/bar-chart/bar-chart.png\" width=\"400\">\n",
    "<img src=\"http://thedailyviz.com/wp-content/uploads/2012/08/guns-620x415.png\" width=\"400\">"
   ]
  },
  {
   "cell_type": "code",
   "execution_count": null,
   "metadata": {},
   "outputs": [],
   "source": [
    "# Write your code below:\n",
    "\n"
   ]
  },
  {
   "cell_type": "markdown",
   "metadata": {},
   "source": [
    "<a id=\"3.3\"> <h3>3.3 Scatter Plot</h3></a>\n",
    "Scatter plots are best used for <b>relationships</b> between 2 or more variables.\n",
    "\n",
    "<img src=\"https://plot.ly/~cufflinks/52/life-expectancy-vs-gdp-per-capita.png\" width=\"400\">"
   ]
  },
  {
   "cell_type": "code",
   "execution_count": null,
   "metadata": {},
   "outputs": [],
   "source": [
    "# Write your code below:\n",
    "\n"
   ]
  },
  {
   "cell_type": "markdown",
   "metadata": {},
   "source": [
    "<a id=\"3.4\"> <h3>3.4 Designing Your Plots</h3></a>\n",
    "\n",
    "Don't aim to make simple visualisations, aim to make <b>informative and effective visualisations</b>. Here are some of the things to take note to make sure your visualisations is informative effective:\n",
    "\n",
    "1. What is the story you want to tell?\n",
    "2. Is the visualisation simple to understand?\n",
    "3. Is the visualisation/chart appropriate based the given dataset? "
   ]
  },
  {
   "cell_type": "markdown",
   "metadata": {},
   "source": [
    "<a id=\"3.4.1\"> <h4>3.4.1 Titles, Labels, Color</h4></a>\n",
    " \n",
    "- Title - `plt.title()`\n",
    "- X Axis Label - `plt.xlabel()`\n",
    "- Y Axis Label - `plt.ylabel()`\n",
    "- Color - `c=`"
   ]
  },
  {
   "cell_type": "code",
   "execution_count": null,
   "metadata": {},
   "outputs": [],
   "source": [
    "# Write your code below:\n",
    "\n"
   ]
  },
  {
   "cell_type": "markdown",
   "metadata": {},
   "source": [
    "<a id=\"3.4.2\"> <h4>3.4.2 Markers, Alphas, Size</h4></a>\n",
    " \n",
    "When designing scatterplots, sometimes you want certain points to be more distinct than the others.\n",
    "\n",
    "- Markers - Design of each point: `marker=`\n",
    "- Alphas - Darkness of each point: `alpha=`\n",
    "- Size - Size of each point: `s=`"
   ]
  },
  {
   "cell_type": "code",
   "execution_count": null,
   "metadata": {},
   "outputs": [],
   "source": [
    "# Write your code below:\n",
    "\n"
   ]
  },
  {
   "cell_type": "markdown",
   "metadata": {},
   "source": [
    "<a id=\"3.4.3\"> <h4>3.4.3 Saving Figures</h4></a>\n",
    "\n",
    "After designing your graphs, you might want to use it for presentation purposes. You can save your chart by doing `plt.savefig()`."
   ]
  },
  {
   "cell_type": "code",
   "execution_count": null,
   "metadata": {},
   "outputs": [],
   "source": [
    "# Write your code below:\n",
    "\n"
   ]
  },
  {
   "cell_type": "markdown",
   "metadata": {},
   "source": [
    "<a id=\"3.5\"> <h3>3.5 Subplots & Axes</h3></a>\n",
    "\n",
    "Sometimes it is better to have different plots side-by-side, for example you want to compare times-series and scatterplot graphs of the same dataset. This is where we will use <b>subplots / axes</b>. Here we will understand how to use these subplots.\n",
    "\n",
    "<img src=\"https://i.imgur.com/JrukTTS.png\" width=\"300\">"
   ]
  },
  {
   "cell_type": "code",
   "execution_count": null,
   "metadata": {},
   "outputs": [],
   "source": [
    "# Write your code below:\n",
    "\n"
   ]
  },
  {
   "cell_type": "markdown",
   "metadata": {},
   "source": [
    "<hr>"
   ]
  },
  {
   "cell_type": "markdown",
   "metadata": {},
   "source": [
    "<a><h1><img src=\"https://www.neurobalanceasia.com/wp-content/uploads/2016/09/ca_brainbooks.png\" width=70 align=\"left\"><br>&nbsp;<font color=\"orange\"> Post-class Exploration </font> </h2></a>"
   ]
  },
  {
   "cell_type": "markdown",
   "metadata": {},
   "source": [
    "### Regular Expressions\n",
    "_Pattern-based string manipulation_\n",
    "\n",
    "> _\"A sequence of symbols and characters expressing a string or pattern to be searched for within a longer piece of text.\"_ - [Wikipedia](https://en.wikipedia.org/wiki/Regular_expression)\n",
    "\n",
    "`Regular expressions` (regex) are extremely helpful in text cleaning and mining.\n",
    "\n",
    "They allow you to search for and extract certain portions of a body of text based on **patterns**.\n",
    "\n",
    "\n",
    "<img src=\"https://packagecontrol.io/readmes/img/ee0f3a47ca91d9f6ae5a0835c5dffb1912399b53.gif\">\n",
    "\n",
    "\n",
    "Learn more at https://regexone.com"
   ]
  },
  {
   "cell_type": "markdown",
   "metadata": {},
   "source": [
    "### Examples\n",
    "\n",
    "Using [Python's regex library](https://docs.python.org/3/library/re.html)"
   ]
  },
  {
   "cell_type": "code",
   "execution_count": null,
   "metadata": {
    "ExecuteTime": {
     "end_time": "2019-07-01T17:40:33.094992Z",
     "start_time": "2019-07-01T17:40:33.091594Z"
    }
   },
   "outputs": [],
   "source": [
    "import re\n",
    "\n",
    "data =\"$9834/89.\"  # Let's remove the special characters\n",
    "\n",
    "data = re.sub('[^A-Za-z0-9]+', '', data)\n",
    "\n",
    "print(data)"
   ]
  },
  {
   "cell_type": "code",
   "execution_count": null,
   "metadata": {
    "ExecuteTime": {
     "end_time": "2019-07-01T17:40:33.788554Z",
     "start_time": "2019-07-01T17:40:33.784820Z"
    }
   },
   "outputs": [],
   "source": [
    "# Regex to check a string for emails\n",
    "\n",
    "long_string = \"Hi my name is WY and my email is hello@yahoo.com. Hope you have a wonderful time!\"\n",
    "\n",
    "pattern = re.compile(r\"\\b([a-zA-Z0-9.-]+)@([a-zA-Z0-9]+).([a-zA-Z]{2,5})\\b\")\n",
    "\n",
    "email = re.search(pattern, long_string).group(0)\n",
    "\n",
    "print(email)"
   ]
  },
  {
   "cell_type": "markdown",
   "metadata": {},
   "source": [
    "<center><h1>FIN</h1><center>"
   ]
  }
 ],
 "metadata": {
  "kernelspec": {
   "display_name": "Python 3",
   "language": "python",
   "name": "python3"
  },
  "language_info": {
   "codemirror_mode": {
    "name": "ipython",
    "version": 3
   },
   "file_extension": ".py",
   "mimetype": "text/x-python",
   "name": "python",
   "nbconvert_exporter": "python",
   "pygments_lexer": "ipython3",
   "version": "3.8.3"
  }
 },
 "nbformat": 4,
 "nbformat_minor": 2
}
