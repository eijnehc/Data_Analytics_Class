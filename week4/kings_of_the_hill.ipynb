{
 "cells": [
  {
   "cell_type": "markdown",
   "metadata": {},
   "source": [
    "# King(s) of the Hill\n",
    "<hr></hr>\n",
    "\n",
    "***Instructions***\n",
    "\n",
    "> You need to write Python code and derive answers for 3 Questions, based on a common data. \n",
    "\n",
    "> <font color=\"salmon\"><b>Assembly your passcode: </b></font><b>`Answer for Q1`</b>-<b>`Answer for Q2`</b>-<b>`Answer for Q3`</b>\n",
    " \n",
    "> ***And send this passcode with Notebook to `@chanyusiang` on Telegram.***\n",
    "\n",
    "> Remember to change your Notebook name to ***kings_of_the_hill_`{Your Name}`***"
   ]
  },
  {
   "cell_type": "markdown",
   "metadata": {},
   "source": [
    "<h2>Food Sales Analysis</h2>\n",
    "\n",
    "In this challenge, we will be analyzing a few restaurants' performance during Covid-19 CB period. A data set has already been provided for you. "
   ]
  },
  {
   "cell_type": "markdown",
   "metadata": {},
   "source": [
    "> The data is in a nested format (dictionaries within a list), with each dictionary being a row of data. The meanings of the keys for each dictionary are:\n",
    ">- name of restaurant\n",
    ">- number of customers it has on a daily basis\n",
    ">- the rating of the restaurant based on the customer feedback\n",
    ">- the revenue for the day"
   ]
  },
  {
   "cell_type": "code",
   "execution_count": 1,
   "metadata": {},
   "outputs": [],
   "source": [
    "food_data = [\n",
    "    {'restaurant': 'Les Amis', 'num_of_customers': '180', 'rating': '4.5', 'revenue': '10273.2'}, \n",
    "    {'restaurant': 'Restaurant André', 'num_of_customers': '200', 'rating': '5', 'revenue': '10978.2'}, \n",
    "    {'restaurant': 'Candlenut Kitchen', 'num_of_customers': '234', 'rating': '4.1', 'revenue': '9982.23'}, \n",
    "    {'restaurant': 'Crystal Jade', 'num_of_customers': '212', 'rating': '4.1', 'revenue': '8703.12'}, \n",
    "    {'restaurant': 'Jack’s Place', 'num_of_customers': '143', 'rating': '3.9', 'revenue': '9689.2'}, \n",
    "    {'restaurant': 'LAtelier de Joel Robuchon', 'num_of_customers': '150', 'rating': '4.2', 'revenue': '8937.23'}, \n",
    "    {'restaurant': 'Long Beach Seafood Restaurant', 'num_of_customers': '200', 'rating': '4.1', 'revenue': '7962.23'}, \n",
    "    {'restaurant': 'Pastamania', 'num_of_customers': '55', 'rating': '2.3', 'revenue': '3427.23'}, \n",
    "    {'restaurant': 'n.y.d.c.', 'num_of_customers': '56', 'rating': '2.1', 'revenue': '3234.12'}, \n",
    "    {'restaurant': 'Rhubarb Le Restaurant', 'num_of_customers': '55', 'rating': '3.4', 'revenue': '2972.98'}, \n",
    "    {'restaurant': 'Sakae Sushi', 'num_of_customers': '34', 'rating': '2.4', 'revenue': '2739.23'}\n",
    "]"
   ]
  },
  {
   "cell_type": "markdown",
   "metadata": {},
   "source": [
    "<div class=\"alert alert-warning\"> <b>Pay attention to the data types. Apply type conversion when necessary. </b> </div>"
   ]
  },
  {
   "cell_type": "markdown",
   "metadata": {},
   "source": [
    "<hr></hr>"
   ]
  },
  {
   "cell_type": "markdown",
   "metadata": {},
   "source": [
    "## Question 1:\n",
    "Using the dataset, find out `total_num_of_customers` for <b>all restaurants</b>.  \n",
    "\n",
    "Do this by <b>iterating through the dataset.</b>\n",
    "\n",
    "><b>Expected output is the first part of the passcode.</b>"
   ]
  },
  {
   "cell_type": "code",
   "execution_count": 7,
   "metadata": {},
   "outputs": [
    {
     "name": "stdout",
     "output_type": "stream",
     "text": [
      "1519\n"
     ]
    }
   ],
   "source": [
    "total_num_of_customers = 0\n",
    "\n",
    "# Write your code here below\n",
    "\n",
    "\n",
    "for restaurants in food_data:\n",
    "    total_num_of_customers += int(restaurants['num_of_customers'])\n",
    "print(total_num_of_customers )"
   ]
  },
  {
   "cell_type": "markdown",
   "metadata": {},
   "source": [
    "## Question 2:\n",
    "Using the dataset, find the `highest_rated_restaurant` name. \n",
    "\n",
    "Do this by <b>iterating through the dataset.</b>\n",
    "\n",
    "> <b>Expected output is the second part of the passcode.</b>"
   ]
  },
  {
   "cell_type": "code",
   "execution_count": 9,
   "metadata": {},
   "outputs": [
    {
     "name": "stdout",
     "output_type": "stream",
     "text": [
      "Restaurant André\n"
     ]
    }
   ],
   "source": [
    "highest_rated_restaurant = ''\n",
    "highest_rating = 0\n",
    "\n",
    "# Write your code below\n",
    "\n",
    "for restaurants in food_data:\n",
    "    rating = float(restaurants['rating'])\n",
    "    if (rating > highest_rating):\n",
    "        highest_rating = rating\n",
    "        highest_rated_restaurant = restaurants['restaurant']\n",
    "print(highest_rated_restaurant)"
   ]
  },
  {
   "cell_type": "markdown",
   "metadata": {},
   "source": [
    "## Question 3:\n",
    "Using the dataset, find the `highest_average_revenue_per_customer` for the restaurant with highest average revenue per customer. \n",
    "\n",
    "Do this by two steps:\n",
    "* 1) Iterate through data, find the average revenue per customer for each restaurant.\n",
    "* 2) Find the highest revenue per customer, among all restaurants. \n",
    "\n",
    "> <b>Expected output is the third and final part of the passcode.</b>"
   ]
  },
  {
   "cell_type": "markdown",
   "metadata": {},
   "source": [
    "<div class=\"alert alert-warning\"> <b>Use round( ) function to trim the result to 2 decimal places.</b> </div>"
   ]
  },
  {
   "cell_type": "code",
   "execution_count": 21,
   "metadata": {},
   "outputs": [
    {
     "name": "stdout",
     "output_type": "stream",
     "text": [
      "80.57\n"
     ]
    }
   ],
   "source": [
    "# Step 1: Find the average revenue per customer for each restaurant. Store the results in restaurant_profile dictionary. \n",
    "restaurant_profile = {}\n",
    "\n",
    "\n",
    "# Write your code below\n",
    "for row in food_data:\n",
    "    restaurant_profile[row['restaurant']] = float(row['revenue'])/float(row['num_of_customers'])\n",
    "\n",
    "    \n",
    "# Step 2: Find the highest average revenue per customer, and derive 2 decimal place answer. \n",
    "highest_average_revenue_per_customer = 0\n",
    "\n",
    "# Write your code below\n",
    "for values in restaurant_profile.values():\n",
    "    if (values > highest_average_revenue_per_customer):\n",
    "        highest_average_revenue_per_customer = values\n",
    "\n",
    "print(round(highest_average_revenue_per_customer, 2))"
   ]
  },
  {
   "cell_type": "markdown",
   "metadata": {},
   "source": [
    "<hr></hr>"
   ]
  },
  {
   "cell_type": "markdown",
   "metadata": {},
   "source": [
    "<font color=\"salmon\"><b>Assembly your passcode: </b></font><b>`Answer for Q1`</b>-<b>`Answer for Q2`</b>-<b>`Answer for Q3`</b>\n",
    "\n",
    "This code below helps you generate your passcode:"
   ]
  },
  {
   "cell_type": "code",
   "execution_count": null,
   "metadata": {},
   "outputs": [],
   "source": [
    "print(f'{total_num_of_customers}-{highest_rated_restaurant}-{round(highest_average_revenue_per_customer, 2)}')"
   ]
  },
  {
   "cell_type": "markdown",
   "metadata": {},
   "source": [
    "***And send this passcode with Notebook to `@chanyusiang` on Telegram.***"
   ]
  },
  {
   "cell_type": "markdown",
   "metadata": {},
   "source": [
    "<center><h1>The End</h1><center>"
   ]
  }
 ],
 "metadata": {
  "kernelspec": {
   "display_name": "Python 3",
   "language": "python",
   "name": "python3"
  },
  "language_info": {
   "codemirror_mode": {
    "name": "ipython",
    "version": 3
   },
   "file_extension": ".py",
   "mimetype": "text/x-python",
   "name": "python",
   "nbconvert_exporter": "python",
   "pygments_lexer": "ipython3",
   "version": "3.8.3"
  }
 },
 "nbformat": 4,
 "nbformat_minor": 4
}
