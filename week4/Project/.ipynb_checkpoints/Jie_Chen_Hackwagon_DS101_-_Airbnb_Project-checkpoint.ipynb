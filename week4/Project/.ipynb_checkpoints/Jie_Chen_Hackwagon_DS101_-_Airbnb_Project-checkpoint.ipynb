{
 "cells": [
  {
   "cell_type": "markdown",
   "metadata": {},
   "source": [
    "<img src=\"https://i2.wp.com/hackwagon.com/wp-content/uploads/2017/02/Logo-Web-Export.png?ssl=1\" width=200/>\n",
    "\n",
    "<h1>Hackwagon Academy - DS101 </h1>\n",
    "\n",
    "<h1>AirBnB Project</h1>\n",
    "\n",
    "<b>Learning Outcomes:</b>\n",
    "\n",
    "- Learn how to translate business requirements into workable applications\n",
    "- Declare variables, and manipulate the variables to perform arithmetic operations\n",
    "- Create a list, append new elements to a list, remove elements from list, and access elements within a list\n",
    "- Create a dictionary, access data, and update information within the dictionary\n",
    "- Be able to aptly make use of if and nested if constructs\n",
    "- Variable conversion\n",
    "- Produce visualisations\n",
    "- Able to come up with insights based on the data "
   ]
  },
  {
   "cell_type": "code",
   "execution_count": null,
   "metadata": {},
   "outputs": [],
   "source": [
    "#Before you start, please perform the following 2 steps:\n",
    "#1. Rename the file to <First_Name>_<Last_Name>_DS101_Airbnb_Project e.g. john_doe_DS101_Airbnb_Project\n",
    "\n",
    "#2. Fill in your details here:\n",
    "#Name                    : ____________Chen Jie___________\n",
    "\n",
    "#Start of Course Class(Edit accordingly): __23 May 2020 3.45pm____\n",
    "\n",
    "# FOR TA/INSTRUCTOR:\n",
    "# Total Marks:  / 100\n",
    "# Part 1:  / 5\n",
    "# Part 2:  / 35\n",
    "# Part 3:  / 60"
   ]
  },
  {
   "cell_type": "markdown",
   "metadata": {},
   "source": [
    "<div class=\"alert alert-block alert-info\">\n",
    "\n",
    "This project is split into 4 different parts:\n",
    "1. Data Cleaning (5 marks)\n",
    "2. Explorator Data Analysis (25 marks)\n",
    "3. Interpretation (10 marks)\n",
    "4. AirBnB Visualisation and Price Recommender App (60 marks)\n",
    "\n",
    "<b>All questions must follow expected output to be awarded full marks except the following:</b>\n",
    "1. Interpretation \n",
    "</div>"
   ]
  },
  {
   "cell_type": "markdown",
   "metadata": {},
   "source": [
    "<h2> References </h2>\n",
    "\n",
    "<h3> <center> Important Collections Functions </center> </h3>\n",
    "<h3> <center> Creation </center></h3>\n",
    "\n",
    "|Collection Type | Function | Examples |\n",
    "| ---------|---------|---------|\n",
    "| `list` | <center>None</center>| `new_list = []` <br><br> `new_list = [1,2,3,4]` |\n",
    "| `dict` | <center>None</center>| `new_dict = {}` <br><br> `new_dict = {'a': 1, 'b':2}`|\n",
    "\n",
    "<h3><center> Add / Appending Data </center></h3>\n",
    "\n",
    "|Collection Type | Functions | Examples | Resulting Output|\n",
    "| ---------|---------|---------| ------ |\n",
    "| `list` | <center>`.append()`</center>| `new_list = [1,2,3]` <br><br> `new_list.append(4)` | `[1,2,3,4]`|\n",
    "| `list` | <center>`.extend()`</center>| `new_list = [1,2]` <br><br> `new_list.extend([3,4])` | `[1,2,3,4]`|\n",
    "| `dict` | <center>None</center>| `new_dict = {}` <br><br> `new_dict['a'] = 1` <br><br> `new_dict['b'] = 2` | `{'a': 1, 'b':2}`|\n",
    "\n",
    "<h3> <center> Updating / Changing Data </center></h3>\n",
    "\n",
    "|Collection Type | Functions | Examples | Resulting Output|\n",
    "| ---------|---------|---------| ------ |\n",
    "| `list` | <center>None</center>| `new_list = [1,2,3]` <br><br> `new_list[0] = 5` | `[5,2,3]`|\n",
    "| `dict` | <center>None</center>| `new_dict = {'a': 1, 'b':2}` <br><br> `new_dict['a'] = 10`| `{'a': 10, 'b':2}`|\n",
    "\n",
    "<h3> <center> Accessing / Taking Out Data </center></h3>\n",
    "\n",
    "|Collection Type | Functions | x to be| Examples |\n",
    "| ---------|---------|---------| ------ |\n",
    "| `list` | <center>None</center>| 3 |`new_list = [1,2,3]` <br><br> `x = new_list[2] `|\n",
    "| `list of list` | <center>None</center>|3 |`new_list = [[1,2],[3,4]]` <br><br> `x = new_list[1][0] `|\n",
    "| `list of dict` | <center>None</center>| 2 |`new_list = [{'a':1},{'b':2}]` <br><br> `x = new_list[1]['b'] `|\n",
    "| `dict` | <center>None</center>| 2|`new_dict = {'a': 1, 'b':2}` <br><br> `x = new_dict['b']`|\n",
    "\n",
    "<h3>CITU Framework & Applied Iterations</h3>\n",
    "\n",
    "1. What variables do you need to answer this question?\n",
    "1. <b>Create</b> the results container\n",
    "2. <b>Iterate</b> the input data/list\n",
    "3. <b>Take out the variables you needed in step 1</b>\n",
    "3. <b>Test</b> conditions of each value\n",
    "4. <b>Update</b> the results container when condition is fulfilled\n",
    "\n",
    "<h3> Sorting Values</h3>\n",
    "\n",
    "```python\n",
    "    \n",
    "x = [10,20,50,2,4]\n",
    "x.sort()\n",
    "print(x) # [2,4,10,20,50]\n",
    "x.sort(reverse=True)\n",
    "print(x) # [50,20,10,4,2]\n",
    "```\n",
    "Further explore the .sort() function in the documentation\n",
    "\n",
    "Search up 'list .sort() python 3' \n"
   ]
  },
  {
   "cell_type": "markdown",
   "metadata": {},
   "source": [
    "<hr>\n",
    "\n",
    "</hr>\n",
    "<br>\n",
    "</br>\n",
    "\n",
    "<img src=\"http://www.stickpng.com/assets/images/580b57fcd9996e24bc43c513.png\" width=\"400\">\n",
    "<br>\n",
    "</br>\n",
    "<br>\n",
    "</br>\n",
    "\n",
    "<b>Welcome to your final project of Hackwagon Academy DS101! You've come a long way since the start of this course and if you've been on track with our exercises, you should find this doable. </b>\n",
    "\n",
    "Airbnb is an online marketplace and hospitality service, enabling people to lease or rent short-term lodging including vacation rentals, apartment rentals, homestays, hostel beds, or hotel rooms. The company does not own any lodging; it is merely a broker and receives percentage service fees (commissions) from both guests and hosts in conjunction with every booking. In this project, we aim to use algorithms and libraries to mine the reviews people have submitted on Singapore AirBnB rentals in order to provide descriptive analytics.\n",
    "\n",
    "\n",
    "<h2> Load File </h2>\n",
    "\n",
    "Load the `airbnb_data.csv` as <b>a list of dictionaries</b> into a new variable called `airbnb_data`. Once you load the data, you should see something like this when you print `airbnb_data`:\n",
    "```python\n",
    "    [\n",
    "        {\n",
    "         'listing_id': '1133718',\n",
    "         'survey_id': '1280',\n",
    "         'host_id': '6219420',\n",
    "         'room_type': 'Shared room',\n",
    "         'country': '',\n",
    "         'city': 'Singapore',\n",
    "         'borough': '',\n",
    "         'neighborhood': 'MK03',\n",
    "         'reviews': '9',\n",
    "         'overall_satisfaction': '4.5',\n",
    "         'accommodates': '12',\n",
    "         'bedrooms': '1.0',\n",
    "         'bathrooms': '',\n",
    "         'price': '74.0',\n",
    "         'minstay': '',\n",
    "         'last_modified': '2017-05-17 09:10:25.431659',\n",
    "         'latitude': '1.293354',\n",
    "         'longitude': '103.769226',\n",
    "         'location': '0101000020E6100000E84EB0FF3AF159409C69C2F693B1F43F'\n",
    "        }\n",
    "        ...\n",
    "    ]\n",
    "```"
   ]
  },
  {
   "cell_type": "code",
   "execution_count": 12,
   "metadata": {},
   "outputs": [
    {
     "data": {
      "text/plain": [
       "[{'listing_id': '1133718',\n",
       "  'survey_id': '1280',\n",
       "  'host_id': '6219420',\n",
       "  'room_type': 'Shared room',\n",
       "  'country': '',\n",
       "  'city': 'Singapore',\n",
       "  'borough': '',\n",
       "  'neighborhood': 'MK03',\n",
       "  'reviews': '9',\n",
       "  'overall_satisfaction': '4.5',\n",
       "  'accommodates': '12',\n",
       "  'bedrooms': '1.0',\n",
       "  'bathrooms': '',\n",
       "  'price': '74.0',\n",
       "  'minstay': '',\n",
       "  'last_modified': '2017-05-17 09:10:25.431659',\n",
       "  'latitude': '1.293354',\n",
       "  'longitude': '103.769226',\n",
       "  'location': '0101000020E6100000E84EB0FF3AF159409C69C2F693B1F43F'}]"
      ]
     },
     "execution_count": 12,
     "metadata": {},
     "output_type": "execute_result"
    }
   ],
   "source": [
    "# Read file into a list called airbnb_data\n",
    "# Write your code below:\n",
    "# import csv\n",
    "\n",
    "# with open('videos.csv') as file:\n",
    "#     video_list_of_dictionaries = []\n",
    "    \n",
    "#     for row in csv.DictReader(file):\n",
    "#        video_list_of_dictionaries.append(dict(row))\n",
    "\n",
    "# video_list_of_dictionaries\n",
    "\n",
    "# Write your code below:\n",
    "import csv\n",
    "\n",
    "with open('airbnb_data.csv') as file:\n",
    "    airbnb_data = []\n",
    "    \n",
    "    for row in csv.DictReader(file):\n",
    "        airbnb_data.append(dict(row))\n",
    "\n",
    "\n",
    "airbnb_data[:1]\n"
   ]
  },
  {
   "cell_type": "markdown",
   "metadata": {},
   "source": [
    "## Data Cleaning <font color='red'>[5 marks]</font>\n",
    "\n",
    "<b>Once this is done correctly, you do not need to change the type for the remaining parts of your project.</b>\n",
    "<br>\n",
    "<br>\n",
    "<i>\n",
    "Very Big Hint:  \n",
    "</i>\n",
    "\n",
    "```python\n",
    "for row in data:\n",
    "    row['score'] = int(row['score'])\n",
    "```\n",
    "\n",
    "Preview your data and clean them to appropriate type. Namely these columns:\n",
    "1. `overall_satisfaction`\n",
    "2. `price`\n",
    "3. `longitude`\n",
    "4. `latitude`\n",
    "5. `reviews`\n",
    "\n",
    "<b>Expected Output:</b>\n",
    "```python\n",
    "    {\n",
    "        'listing_id': '1133718',\n",
    "        'survey_id': '1280',\n",
    "        'host_id': '6219420',\n",
    "        'room_type': 'Shared room',\n",
    "        'country': '',\n",
    "        'city': 'Singapore',\n",
    "        'borough': '',\n",
    "        'neighborhood': 'MK03',\n",
    "        'reviews': 9.0,\n",
    "        'overall_satisfaction': 4.5,\n",
    "        'accommodates': '12',\n",
    "        'bedrooms': '1.0',\n",
    "        'bathrooms': '',\n",
    "        'price': 74.0,\n",
    "        'minstay': '',\n",
    "        'last_modified': '2017-05-17 09:10:25.431659',\n",
    "        'latitude': 1.293354,\n",
    "        'longitude': 103.769226,\n",
    "        'location': '0101000020E6100000E84EB0FF3AF159409C69C2F693B1F43F'\n",
    "    }\n",
    "```"
   ]
  },
  {
   "cell_type": "code",
   "execution_count": 97,
   "metadata": {},
   "outputs": [
    {
     "data": {
      "text/plain": [
       "[{'listing_id': '1133718',\n",
       "  'survey_id': '1280',\n",
       "  'host_id': '6219420',\n",
       "  'room_type': 'Shared room',\n",
       "  'country': '',\n",
       "  'city': 'Singapore',\n",
       "  'borough': '',\n",
       "  'neighborhood': 'MK03',\n",
       "  'reviews': 9.0,\n",
       "  'overall_satisfaction': 4.5,\n",
       "  'accommodates': '12',\n",
       "  'bedrooms': '1.0',\n",
       "  'bathrooms': '',\n",
       "  'price': 74.0,\n",
       "  'minstay': '',\n",
       "  'last_modified': '2017-05-17 09:10:25.431659',\n",
       "  'latitude': 1.293354,\n",
       "  'longitude': 103.769226,\n",
       "  'location': '0101000020E6100000E84EB0FF3AF159409C69C2F693B1F43F'}]"
      ]
     },
     "execution_count": 97,
     "metadata": {},
     "output_type": "execute_result"
    }
   ],
   "source": [
    "# Write your code below:\n",
    "\n",
    "for row in airbnb_data:\n",
    "    row['overall_satisfaction'] = float(row['overall_satisfaction'])\n",
    "    row['price'] = float(row['price'])\n",
    "    row['longitude'] = float(row['longitude'])\n",
    "    row['latitude'] = float(row['latitude'])\n",
    "    row['reviews'] = float(row['reviews'])\n",
    "\n",
    "airbnb_data[:1]"
   ]
  },
  {
   "cell_type": "markdown",
   "metadata": {},
   "source": [
    "## Exploratory Data Analysis\n",
    "\n",
    "The data team at AirBnB wishes to find out the answers to a few simple questions on the existing listings in Singapore. Your goal is to manipulate the data you have stored in the list of dictionaries and <b>understand some of the basic statistics of your dataset.</b> The following are some of the common <i>first</i> questions asked."
   ]
  },
  {
   "cell_type": "markdown",
   "metadata": {},
   "source": [
    "<h4> Q1. List out each neighborhoods and their number of listings <font color='red'>[5 marks]</font></h4>\n",
    "\n",
    "<i> Hint\n",
    "1. Counting with dictionaries, where key is neigbhorhood id, value is counts.\n",
    "</i>\n",
    "\n",
    "<b>Expected Output:</b>\n",
    "```python\n",
    "    print(results['TS17']) # 342 counts.\n",
    "```"
   ]
  },
  {
   "cell_type": "code",
   "execution_count": 72,
   "metadata": {
    "scrolled": true
   },
   "outputs": [
    {
     "name": "stdout",
     "output_type": "stream",
     "text": [
      "342\n"
     ]
    }
   ],
   "source": [
    "# Write your code below:\n",
    "\n",
    "results = {}\n",
    "\n",
    "for row in airbnb_data:\n",
    "    if row['neighborhood'] not in results:\n",
    "        results[row['neighborhood']] = 1\n",
    "    else:\n",
    "        results[row['neighborhood']] += 1\n",
    "\n",
    "print(results['TS17'])"
   ]
  },
  {
   "cell_type": "markdown",
   "metadata": {},
   "source": [
    "<h4> Q2. List out each neighborhood and their average overall_satisfaction <font color='red'>[5 marks]</font> </h4>\n",
    "\n",
    "<b>Note: You should filter out listings whose reviews are 0. </b>\n",
    "\n",
    "<i> Hint\n",
    "1. Create 2 dictionaries\n",
    "    - Dictionary 1: Key is neighborhood, value is an accumulation of scores\n",
    "    - Dictionary 2: Key is neighborhood, value is an accumulation of counts\n",
    "2. Create 3rd dictionary\n",
    "3. Loop through 1 dictionary (using 1 for loop only because both share same key!), calculate average and store in 3rd dictionary\n",
    "</i>\n",
    "\n",
    "<b>Expected Output:</b>\n",
    "```python\n",
    "    print(results['TS17']) # it should give you an average score of 2.859447004608295.\n",
    "```"
   ]
  },
  {
   "cell_type": "code",
   "execution_count": 105,
   "metadata": {},
   "outputs": [
    {
     "name": "stdout",
     "output_type": "stream",
     "text": [
      "MK03 58 267.0\n",
      "TS17 143 620.5\n",
      "TS04 9 41.5\n",
      "TS06 55 241.0\n",
      "TS05 33 160.0\n",
      "TS11 22 100.0\n",
      "TS18 131 574.5\n",
      "TS12 36 158.5\n",
      "TS08 8 35.0\n",
      "TS03 86 400.5\n",
      "MK26 107 495.0\n",
      "MK01 223 987.5\n",
      "TS19 57 254.0\n",
      "TS10 8 37.5\n",
      "MK04 68 307.5\n",
      "MK21 26 122.0\n",
      "MK06 60 270.5\n",
      "MK13 41 185.5\n",
      "TS07 7 32.0\n",
      "TS09 24 109.0\n",
      "TS16 20 90.0\n",
      "MK10 30 140.0\n",
      "TS22 33 148.0\n",
      "TS14 8 35.0\n",
      "MK22 43 195.0\n",
      "TS27 135 590.0\n",
      "TS21 170 757.5\n",
      "TS20 104 469.0\n",
      "TS24 107 479.0\n",
      "MK17 190 831.0\n",
      "TS28 47 220.0\n",
      "MK23 40 185.5\n",
      "TS30 42 195.5\n",
      "MK24 170 771.5\n",
      "MK28 49 224.5\n",
      "MK25 264 1188.0\n",
      "TS13 10 44.5\n",
      "TS29 38 170.5\n",
      "MK34 2 10.0\n",
      "MK02 34 157.0\n",
      "TS25 11 51.0\n",
      "TS26 18 80.5\n",
      "MK05 57 248.0\n",
      "MK18 67 311.0\n",
      "TS23 36 167.5\n",
      "TS02 24 112.5\n",
      "MK27 74 344.0\n",
      "MK11 19 84.5\n",
      "MK15 7 31.5\n",
      "MK20 6 28.5\n",
      "MK31 25 119.5\n",
      "MK16 15 70.5\n",
      "MK19 12 56.5\n",
      "MK29 13 60.5\n",
      "TS01 2 9.5\n",
      "TS15 17 75.5\n",
      "MK14 8 35.0\n",
      "MK09 9 43.5\n",
      "MK30 1 4.5\n",
      "4.339160839160839\n"
     ]
    }
   ],
   "source": [
    "# Write your code below:\n",
    "scores = {}\n",
    "counts = {}\n",
    "results = {}\n",
    "\n",
    "for row in airbnb_data:\n",
    "    if ((row['overall_satisfaction'] > 0)):\n",
    "        if row['neighborhood'] not in counts:\n",
    "            counts[row['neighborhood']] = 1\n",
    "            scores[row['neighborhood']] = (row['overall_satisfaction'])\n",
    "        else:\n",
    "            counts[row['neighborhood']] += 1\n",
    "            scores[row['neighborhood']] += (row['overall_satisfaction'])\n",
    "\n",
    "for k,v in counts.items():\n",
    "#     print(k, v, scores[k])\n",
    "    results[k] = scores[k] / v\n",
    "            \n",
    "print(results['TS17'])"
   ]
  },
  {
   "cell_type": "markdown",
   "metadata": {},
   "source": [
    "<h4> Q3. List out each neighborhood and their average price <font color='red'>[5 marks]</font></h4>\n",
    "\n",
    "<i> Hint\n",
    "1. Similar to previous question\n",
    "</i>\n",
    "\n",
    "<b>Expected Output:</b>\n",
    "```python\n",
    "    print(results['TS17']) # it should give you an average price of 95.5672514619883.\n",
    "```"
   ]
  },
  {
   "cell_type": "code",
   "execution_count": null,
   "metadata": {
    "scrolled": true
   },
   "outputs": [],
   "source": [
    "# Write your code below:\n",
    "\n"
   ]
  },
  {
   "cell_type": "markdown",
   "metadata": {},
   "source": [
    "<h4> Q4. Plot a distribution of counts of the overall_satisfaction <font color='red'>[10 marks]</font></h4>\n",
    "\n",
    "<b>Note: You should filter out listings whose reviews are 0. </b>\n",
    "\n",
    "<i> Hint\n",
    "    \n",
    "Counting with dictionaries\n",
    "1. Iterate over the dictionary (using `.items()`)\n",
    "2. Using what you get in each iteration, populate 2 lists: \n",
    "    - 1 list for all the scores labels\n",
    "    - 1 list for all the counts \n",
    "3. Plot with the 2 lists\n",
    "</i>\n",
    "\n",
    "<b>Expected Output:</b>\n",
    "\n",
    "<img src=\"https://i.imgur.com/bj0ecjO.png\" width=\"300\">"
   ]
  },
  {
   "cell_type": "code",
   "execution_count": null,
   "metadata": {},
   "outputs": [],
   "source": [
    "# Remember to import the relevant library/ libraries!\n",
    "\n",
    "# Write your code below:\n",
    "\n"
   ]
  },
  {
   "cell_type": "markdown",
   "metadata": {},
   "source": [
    "<h4> Q5. Plot a geographical representation of all of the listings in Singapore <font color='red'>[10 marks]</font></h4>\n",
    "\n",
    "<i> Hint\n",
    "1. Create a list for latitude\n",
    "2. Create a list for longitude\n",
    "3. Append each listing's latitude and logitude to the lists\n",
    "4. Plot a scatter plot using both lists\n",
    "</i>\n",
    "\n",
    "<b>Expected Output:</b>\n",
    "\n",
    "<img src='https://i.imgur.com/9Dp5HrD.png' width=\"300\">    "
   ]
  },
  {
   "cell_type": "code",
   "execution_count": null,
   "metadata": {},
   "outputs": [],
   "source": [
    "# Write your code below:\n",
    "\n"
   ]
  },
  {
   "cell_type": "markdown",
   "metadata": {},
   "source": [
    "<hr>\n",
    "</hr>\n",
    "<h2> AirBnB Visualisation and Price Recommender App</h2>\n",
    "\n",
    "<b>Attempts to create the functions are awarded 2 marks each</b>\n",
    "\n",
    "<b>Scenario:</b>\n",
    "\n",
    "Based on the earlier EDA, we have seen that it is not modular and does not allow the AirBnB team to look into each neighborhood. Nevertheless, the AirBnB data team have tasked you to build a simple application to improve the earlier EDA while serving its 2 users: Guests and Hosts. \n",
    "\n",
    "<b>Your objective:</b> Develop an <b><i>app</i></b> which will serve the 2 main users:\n",
    "1. Guests\n",
    "    - Visualisation tool to recommend them the best listings based on price and overall satisfaction score in a neighborhood\n",
    "2. Hosts\n",
    "    - Recommend a price to set for their listing in a given neighborhood based on better performing listings\n",
    "\n",
    "<hr>\n",
    "</hr>"
   ]
  },
  {
   "cell_type": "markdown",
   "metadata": {},
   "source": [
    "<div class=\"alert alert-block alert-danger\">\n",
    "<b>THIS NEXT CELL IS IMPORTANT FOR YOUR APPLICATION.</b> Run it to install this package called <b><i>mplleaflet</i></b>.\n",
    "    \n",
    "How do you know if you installed the library correctly? Try running the cell after this one <i>(not the line that says \"!pip install mplleaflet\", its the other one)</i>, if you don't get an error, you are good to go! \n",
    "\n",
    "If you face any issues, please contact any of your TAs or Instructors.</div>"
   ]
  },
  {
   "cell_type": "code",
   "execution_count": null,
   "metadata": {},
   "outputs": [],
   "source": [
    "!pip install mplleaflet"
   ]
  },
  {
   "cell_type": "markdown",
   "metadata": {},
   "source": [
    "How do you know if you installed the library correctly? Try running the next cell, if you don't get an error, you are good to go!"
   ]
  },
  {
   "cell_type": "code",
   "execution_count": null,
   "metadata": {},
   "outputs": [],
   "source": [
    "import mplleaflet"
   ]
  },
  {
   "cell_type": "markdown",
   "metadata": {},
   "source": [
    "<hr></hr>\n",
    "\n",
    "<h2> Building the App </h2>\n",
    "\n",
    "To begin building the App, there are 2 things to do:\n",
    "1. Building the functions\n",
    "2. Testing the functions \n",
    "\n",
    "<b>After we are done building the functions in part 1, we will test them in part 2</b>"
   ]
  },
  {
   "cell_type": "markdown",
   "metadata": {},
   "source": [
    "<div class=\"alert alert-block alert-danger\">\n",
    "Every single function you create must have the <b><i>airbnb_data</b></i> variable as the <b><i>first</b></i> parameter so that you can use it inside the function. \n",
    "</div>\n",
    "\n",
    "``` python\n",
    "def example_function_1(data, x, y, ..): # << do not name as airbnb_data again!\n",
    "    for i in data:\n",
    "        print(i)\n",
    "\n",
    "# when using it.. notice that airbnb_data is placed first, followed by the other parameters\n",
    "example_function_1(airbnb_data, some_x, some_y, ...)\n",
    "```\n",
    "\n",
    "There are a total of 5 functions:\n",
    "1. `get_all_latitudes`\n",
    "2. `get_all_longitudes`\n",
    "3. `listings_recommender`\n",
    "4. `price_recommender`\n",
    "5. `visualise_listings`"
   ]
  },
  {
   "cell_type": "code",
   "execution_count": null,
   "metadata": {},
   "outputs": [],
   "source": [
    "# Running this cell shows no output. This is normal because the function has been created but not called/used.\n",
    "def example_function(interesting_data):\n",
    "    for i in interesting_data:\n",
    "        print(i)"
   ]
  },
  {
   "cell_type": "code",
   "execution_count": null,
   "metadata": {},
   "outputs": [],
   "source": [
    "# Running this cell shows an output because the function is called/used.\n",
    "example_function([1,2,3,4,5])"
   ]
  },
  {
   "cell_type": "markdown",
   "metadata": {},
   "source": [
    "### `get_all_latitudes()` - Functions to get all latitudes given a list of listing_ids <font color='red'>[5 marks]</font>\n",
    "\n",
    "\n",
    "<i> Hint\n",
    "1. Create a results list\n",
    "2. Extract the latitude and listing id of each row\n",
    "3. Check listing id exists within the all listings \n",
    "4. If true, append the latitude into the results list\n",
    "5. Return results list\n",
    "</i>\n",
    "\n",
    "<br>\n",
    "\n",
    "<b>Input</b>: `airbnb_data` as `data`, a `list` of listing_ids\n",
    "\n",
    "<b>Return</b>: A `list` of latitudes\n"
   ]
  },
  {
   "cell_type": "code",
   "execution_count": null,
   "metadata": {},
   "outputs": [],
   "source": [
    "# Write your code below:\n",
    "\n"
   ]
  },
  {
   "cell_type": "markdown",
   "metadata": {},
   "source": [
    "<b>Tester Cell</b> - To test the above function to see if it's working.\n",
    "\n",
    "<b>Expected Output:</b>\n",
    "\n",
    "    [1.305702, 1.296138, 1.304393]"
   ]
  },
  {
   "cell_type": "code",
   "execution_count": null,
   "metadata": {},
   "outputs": [],
   "source": [
    "get_all_latitude(airbnb_data, ['10350448','13507262','13642646'])"
   ]
  },
  {
   "cell_type": "markdown",
   "metadata": {},
   "source": [
    "### `get_all_longitudes()` - Functions to get all longitudes given a list of listing_ids <font color='red'>[5 marks]</font>\n",
    "\n",
    "<i> Hint\n",
    "1. Same as previous question, just that it's about longitudes now\n",
    "</i>\n",
    "\n",
    "<br>\n",
    "\n",
    "<b>Input</b>: `airbnb_data` as `data`, a `list` of listing_ids\n",
    "\n",
    "<b>Return</b>: A `list` of longitudes"
   ]
  },
  {
   "cell_type": "code",
   "execution_count": null,
   "metadata": {},
   "outputs": [],
   "source": [
    "# Write your code below:\n",
    "\n",
    "  "
   ]
  },
  {
   "cell_type": "markdown",
   "metadata": {},
   "source": [
    "<b>Tester Cell</b> - To test the above function to see if it's working.\n",
    "\n",
    "<b>Expected Output:</b>\n",
    "\n",
    "    [103.79878, 103.767841, 103.784174]"
   ]
  },
  {
   "cell_type": "code",
   "execution_count": null,
   "metadata": {},
   "outputs": [],
   "source": [
    "get_all_longitude(airbnb_data, ['10350448','13507262','13642646'])"
   ]
  },
  {
   "cell_type": "markdown",
   "metadata": {},
   "source": [
    "### `listings_recommender()` - Function to recommend all listings based on a given price, satisfaction score and neighborhood <font color='red'>[15 marks]</font>\n",
    "\n",
    "Note:\n",
    "1. Lesser than or equal to that price\n",
    "2. Equal or more than that overall satisfaction score\n",
    "3. In that neighborhood\n",
    "\n",
    "<i> Hint\n",
    "1. Create a results list\n",
    "2. Extract the relevant of each row\n",
    "3. Check it satisfies all conditions passed into the function\n",
    "4. If true, append the listing id into the results list\n",
    "5. Return results list\n",
    "</i>\n",
    "\n",
    "<b>Input</b>: `airbnb_data` as `data`, price, overall_satisfaction, neighborhood_id\n",
    "\n",
    "<b>Return</b>: A `list` of listing_ids"
   ]
  },
  {
   "cell_type": "code",
   "execution_count": null,
   "metadata": {},
   "outputs": [],
   "source": [
    "# Write your code below:\n",
    "\n"
   ]
  },
  {
   "cell_type": "markdown",
   "metadata": {},
   "source": [
    "<b>Tester Cell</b> - To test the above function to see if it's working.\n",
    "\n",
    "<b>Expected Output:</b>\n",
    "\n",
    "    ['10350448',\n",
    "     '13507262',\n",
    "     '13642646',\n",
    "     '15099645',\n",
    "     '6451493',\n",
    "     '4696031',\n",
    "     '2898794',\n",
    "     '13181050',\n",
    "     '9022211',\n",
    "     '5200263',\n",
    "     '6529707',\n",
    "     '14433262']"
   ]
  },
  {
   "cell_type": "code",
   "execution_count": null,
   "metadata": {},
   "outputs": [],
   "source": [
    "listings_recommender(airbnb_data, 60, 5, 'MK03')"
   ]
  },
  {
   "cell_type": "markdown",
   "metadata": {},
   "source": [
    "### `price_recommender()` - Function to recommend a price in a neighborhood based on average price and overall satisfaction <font color='red'>[15 marks]</font>\n",
    "\n",
    "For this function, we want to build a <b><i>simple</i></b> price recommendation function that will give a potential host a suggested price.\n",
    "\n",
    "To build this, these are the requirements: \n",
    "1. Take all listings in that neighborhood and check for listings with a least 1 review and an overall satisfaction score of 4 or more.\n",
    "2. From that filtered listings, calculate the average price and return that as the suggested price rounded to 2 decimal places.\n",
    "\n",
    "<b>Input</b>: `airbnb_data` as `data`, a neighborhood_id\n",
    "\n",
    "<b>Return</b>: A `float` of recommended price"
   ]
  },
  {
   "cell_type": "code",
   "execution_count": null,
   "metadata": {},
   "outputs": [],
   "source": [
    "# Write your code below:\n",
    "\n"
   ]
  },
  {
   "cell_type": "markdown",
   "metadata": {},
   "source": [
    "<b>Tester Cell</b> - To test the above function to see if it's working.\n",
    "\n",
    "<b>Expected Output:</b>\n",
    "\n",
    "    66.28"
   ]
  },
  {
   "cell_type": "code",
   "execution_count": null,
   "metadata": {},
   "outputs": [],
   "source": [
    "price_recommender(airbnb_data, 'TS17')"
   ]
  },
  {
   "cell_type": "markdown",
   "metadata": {},
   "source": [
    "### `visualise_listings()` - Function to geographically visualise a given list of listings <font color='red'>[15 marks]</font>\n",
    "\n",
    "<div class=\"alert alert-block alert-info\">\n",
    "<b><center>NOTE</center></b>\n",
    "</div>\n",
    "\n",
    "```python\n",
    "    # To do any visualtion, the last part of the code you would normally do this..\n",
    "    # some code to prepare data\n",
    "    # some code to design the visualisation\n",
    "    plt.show() #<< last line in code to show visualisation\n",
    "```\n",
    "\n",
    "With the new mplleaflet package, you can do the same thing, but just change from `plt.show()` to `mplleaflet.show()`.\n",
    "\n",
    "<div class=\"alert alert-block alert-danger\">\n",
    "<b><center>DO NOT DO THIS</center></b></div>\n",
    "\n",
    "```python\n",
    "    \n",
    "    for i in data:\n",
    "        # some codes here\n",
    "        mplleaflet.show() # << Do not put the .show() function inside the for loop\n",
    "        \n",
    "    mplleaflet.show()# .show() should exist outside your for loop\n",
    "    \n",
    "```\n",
    "\n",
    "\n",
    "<i> Hint\n",
    "1. Use the 2 functions you've created earlier and make 2 lists, latitude and longitude\n",
    "2. Use .scatter() to plot the scatter plot\n",
    "3. .show() the scatter plot\n",
    "</i>\n",
    "\n",
    "<b>Input</b>: `airbnb_data` as `data`, a list of listing_ids\n",
    "\n",
    "<b>Output</b>: Visualisation of locations the listings (nothing to return)\n"
   ]
  },
  {
   "cell_type": "code",
   "execution_count": null,
   "metadata": {},
   "outputs": [],
   "source": [
    "import mplleaflet\n",
    "import matplotlib.pyplot as plt\n",
    "\n",
    "# Write your code below:\n",
    "\n"
   ]
  },
  {
   "cell_type": "markdown",
   "metadata": {},
   "source": [
    "<b>Tester Cell</b> - To test the above function to see if it's working.\n",
    "\n",
    "<b>Expected Output:</b> \n",
    "\n",
    "<i> Do not have to look exactly like this, as long as the locations are the same, it is fine! </i>\n",
    "\n",
    "<i>If it's working, a new tab will pop out. This is normal.</i>\n",
    "\n",
    "<img src=\"https://i.imgur.com/HwQYouJ.jpg\" width=\"400\">"
   ]
  },
  {
   "cell_type": "code",
   "execution_count": null,
   "metadata": {},
   "outputs": [],
   "source": [
    "visualise_listings(airbnb_data, ['10350448','13507262','13642646'])"
   ]
  },
  {
   "cell_type": "markdown",
   "metadata": {},
   "source": [
    "<h2> Testing </h2>\n",
    "\n",
    "Here, we will test if your functions are working as they are supposed to.\n",
    "<div class=\"alert alert-block alert-info\">\n",
    "<b>Your task</b>: Use the functions created above, if necessary interchangeably, to answer the questions below.\n",
    "</div>\n",
    "<hr></hr>"
   ]
  },
  {
   "cell_type": "markdown",
   "metadata": {},
   "source": [
    "<h3> User - An Airbnb Host </h3>\n",
    "\n",
    "Imagine now you're an Airbnb host and you are going to use the app you've developed to ask for a recommended price to list your place. \n",
    "\n",
    "<h4> Based on your assigned neighborhood, what is the recommended price for your neighborhood <font color='red'>[2.5 marks]</font></h4>\n",
    "\n",
    "<b>Expected output:</b> 98.52"
   ]
  },
  {
   "cell_type": "code",
   "execution_count": null,
   "metadata": {},
   "outputs": [],
   "source": [
    "neighborhood_to_test = 'TS23'\n",
    "\n",
    "# Write your code below:\n",
    "\n"
   ]
  },
  {
   "cell_type": "markdown",
   "metadata": {},
   "source": [
    "<h3> User - An Airbnb Guest </h3>\n",
    "\n",
    "Imagine now you're an Airbnb guest and you are going to use the app to find a list of listings you want based on your search filter/restrictions.\n",
    "\n",
    "<h4> Based on your assigned price, overall_satisfaction and neighborhood, using the functions created above and plot them out on a map <font color='red'>[2.5 marks]</font></h4>\n",
    "\n",
    "<b>Expected output:</b> \n",
    "\n",
    "<img src=\"https://i.imgur.com/MnyhDmL.jpg\" width=400>\n",
    "\n",
    "<i>If it's working, a new tab will pop out. This is normal.</i>"
   ]
  },
  {
   "cell_type": "code",
   "execution_count": null,
   "metadata": {},
   "outputs": [],
   "source": [
    "neighborhood_to_test = 'TS17'\n",
    "price_to_test = 100\n",
    "overall_satisfaction_to_test = 4\n",
    "\n",
    "# Write your code below:\n",
    "\n"
   ]
  }
 ],
 "metadata": {
  "kernelspec": {
   "display_name": "Python 3",
   "language": "python",
   "name": "python3"
  },
  "language_info": {
   "codemirror_mode": {
    "name": "ipython",
    "version": 3
   },
   "file_extension": ".py",
   "mimetype": "text/x-python",
   "name": "python",
   "nbconvert_exporter": "python",
   "pygments_lexer": "ipython3",
   "version": "3.8.3"
  }
 },
 "nbformat": 4,
 "nbformat_minor": 2
}
