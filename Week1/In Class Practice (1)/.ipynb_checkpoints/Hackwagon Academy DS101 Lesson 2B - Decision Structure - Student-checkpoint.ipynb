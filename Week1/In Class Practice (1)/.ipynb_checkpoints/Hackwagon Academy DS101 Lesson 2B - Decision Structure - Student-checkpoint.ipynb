{
 "cells": [
  {
   "cell_type": "markdown",
   "metadata": {},
   "source": [
    "<center><img src=\"https://i2.wp.com/hackwagon.com/wp-content/uploads/2017/02/Logo-Web-Export.png?ssl=1\" width=200/></center>\n",
    "<h1> Hackwagon Academy DS101 Lesson 2B </h1>\n",
    "<h2> Decision Structure</h2> \n",
    "<h3> Lesson Outline </h3>\n",
    "\n",
    "- 1. [Boolean Operators](#1)\n",
    "    - 1.1 [Comparison](#1.1)\n",
    "    - 1.2 [Relational](#1.2)\n",
    "    - 1.3 [Common Usages and Mistakes](#1.3)\n",
    "- 2. [Decision Structure](#2)\n",
    "    - 2.1 [If](#2.1)\n",
    "    - 2.2 [If-Else](#2.2)\n",
    "    - 2.3 [If-Elif-Else](#2.3)\n",
    "    - [Practice 1](#P1)\n",
    "    \n",
    "- 3. [Blocking Concept](#3)\n",
    "- 4. [Nested Decisions](#4)"
   ]
  },
  {
   "cell_type": "markdown",
   "metadata": {},
   "source": [
    "<a id='1'><h2><img src=\"https://images.vexels.com/media/users/3/153978/isolated/preview/483ef8b10a46e28d02293a31570c8c56-warning-sign-colored-stroke-icon-by-vexels.png\" width=23 align=\"left\"><font color=\"salmon\">&nbsp;1.</font><font color=\"salmon\"> Boolean Operators </font> </h2></a>\n",
    "\n",
    "In order to form \"questions\" for computers to make decisions, we have to first understand the signs/operators used. There are two kinds: Comparison and Relational.\n",
    "\n",
    "<a id='2.1'><h3>1.1 Comparison Operators</h3></a>\n",
    "\n",
    "We can use comparison operators to compare between two values.\n",
    "\n",
    "| Meaning |  Operator  |\n",
    "|------|------|\n",
    "| Greater than | > |\n",
    "| Less than | < |\n",
    "| Greater than / equals to | >= |\n",
    "| Less than / equals to | <= |\n",
    "| Equals to | == |\n",
    "| Not equals to | != |"
   ]
  },
  {
   "cell_type": "code",
   "execution_count": null,
   "metadata": {},
   "outputs": [],
   "source": [
    "a = 10\n",
    "b = 20"
   ]
  },
  {
   "cell_type": "code",
   "execution_count": null,
   "metadata": {},
   "outputs": [],
   "source": [
    "b > a"
   ]
  },
  {
   "cell_type": "code",
   "execution_count": null,
   "metadata": {},
   "outputs": [],
   "source": [
    "a > b"
   ]
  },
  {
   "cell_type": "code",
   "execution_count": null,
   "metadata": {},
   "outputs": [],
   "source": [
    "a <= b"
   ]
  },
  {
   "cell_type": "code",
   "execution_count": null,
   "metadata": {},
   "outputs": [],
   "source": [
    "a == b"
   ]
  },
  {
   "cell_type": "code",
   "execution_count": null,
   "metadata": {},
   "outputs": [],
   "source": [
    "a != b"
   ]
  },
  {
   "cell_type": "code",
   "execution_count": null,
   "metadata": {},
   "outputs": [],
   "source": [
    "a = 10\n",
    "b = 20\n",
    "c = 12\n",
    "d = 1\n",
    "\n",
    "a >= c + d - b"
   ]
  },
  {
   "cell_type": "markdown",
   "metadata": {},
   "source": [
    "## <img src=\"https://cdn.shopify.com/s/files/1/1200/7374/products/book_aec28e76-52ec-44ab-bc01-41df1279c89f_550x825.png?v=1473897430\" width=25 align=\"left\"> <font color=\"darkorange\"> &nbsp; Try it out I </font><font color=\"skyblue\"> * </font>\n",
    "\n",
    "<h3>Replace the <font color=\"red\">?</font> with what you think is the boolean result of each of the following lines:</h3>"
   ]
  },
  {
   "cell_type": "code",
   "execution_count": null,
   "metadata": {},
   "outputs": [],
   "source": [
    "x = 30\n",
    "y = 21\n",
    "z = 9\n",
    "\n",
    "print(\"x > y :\", x > y) # ?\n",
    "\n",
    "print(\"y < x :\", y < x) # ?\n",
    "\n",
    "print(\"x <= y :\", x <= y) # ?\n",
    "\n",
    "print(\"y != x :\", y != x) # ?\n",
    "\n",
    "print(\"y <= x - z :\", y <= x - z ) # ?\n",
    "\n",
    "print(\"x == y :\", x == y) # ?"
   ]
  },
  {
   "cell_type": "markdown",
   "metadata": {},
   "source": [
    "<a id='1.2'><h3>1.2 Relational Operators</h3></a>\n",
    "\n",
    "We can have multiple conditions, held together by the `and` and `or` operators. E.g.\n",
    "\n",
    "```python\n",
    "a = 10\n",
    "b = 20\n",
    "\n",
    "a > 0 and a < b # True!\n",
    "a < 0 or a < b  # True!\n",
    "```\n",
    "\n",
    "Simply put...\n",
    "\n",
    "| Operator | Example | Description |\n",
    "| -------- | ------- | ----------- |\n",
    "| and | a and b | True if a and b are both true |\n",
    "| or | a or b | True if either a or b are true |\n",
    "\n",
    "<br>\n",
    "\n",
    "<center><b>Truth Table</b></center>\n",
    "\n",
    "| Condition A | Condition B | A `and` B | A `or` B |\n",
    "| - | - | - | - |\n",
    "| `False` | `False`| `False` | `False`|\n",
    "| `False` | `True`| `False` | `True`|\n",
    "| `True` | `False`| `False` | `True`|\n",
    "| `True` | `True`| `True` | `True`|"
   ]
  },
  {
   "cell_type": "code",
   "execution_count": null,
   "metadata": {},
   "outputs": [],
   "source": [
    "a = 10\n",
    "b = 20"
   ]
  },
  {
   "cell_type": "code",
   "execution_count": null,
   "metadata": {},
   "outputs": [],
   "source": [
    "a >= 10 and b < 30"
   ]
  },
  {
   "cell_type": "code",
   "execution_count": null,
   "metadata": {},
   "outputs": [],
   "source": [
    "b > 15 or b != a"
   ]
  },
  {
   "cell_type": "markdown",
   "metadata": {},
   "source": [
    "## <img src=\"https://cdn.shopify.com/s/files/1/1200/7374/products/book_aec28e76-52ec-44ab-bc01-41df1279c89f_550x825.png?v=1473897430\" width=25 align=\"left\"> <font color=\"darkorange\"> &nbsp; Try it out II </font><font color=\"skyblue\"> * </font>\n",
    "\n",
    "<h3>Replace the <font color=\"red\">?</font> with what you think is the boolean result of each of the following lines:</h3>"
   ]
  },
  {
   "cell_type": "code",
   "execution_count": null,
   "metadata": {},
   "outputs": [],
   "source": [
    "x = 30\n",
    "y = 21\n",
    "z = 9\n",
    "\n",
    "print(\"x > y and z > y : \", x > y and z > y) # ?\n",
    "\n",
    "print(\"y > x or y > 0 : \", y > x or y > 0) # ?\n",
    "\n",
    "print(\"y == x - z and x % 3 == 0 :\", y == x - z and x % 3 == 0) # ?\n",
    "\n",
    "print(\"z * 3 == x - 3 and x > z : \", z * 3 == x - 3 and x > z) # ?"
   ]
  },
  {
   "cell_type": "markdown",
   "metadata": {},
   "source": [
    "<a id='1.3'><h3>1.3 Common Usages and Mistakes</h3></a>"
   ]
  },
  {
   "cell_type": "markdown",
   "metadata": {},
   "source": [
    "**Comparing between 2 Strings**\n",
    "\n",
    "Only returns `True` if completely identical."
   ]
  },
  {
   "cell_type": "code",
   "execution_count": null,
   "metadata": {},
   "outputs": [],
   "source": [
    "name_1 = \"Hackwagon\"\n",
    "\n",
    "name_1  == \"Hackwagon\""
   ]
  },
  {
   "cell_type": "markdown",
   "metadata": {},
   "source": [
    "**Inproper comparison (Syntax)**\n",
    "\n",
    "When assuming that variable `A` and/or `B` == `Fantasy`"
   ]
  },
  {
   "cell_type": "code",
   "execution_count": null,
   "metadata": {},
   "outputs": [],
   "source": [
    "A = \"FanTasy\"\n",
    "B = \"fantasy\"\n",
    "\n",
    "print(A or B == \"Fantasy\")"
   ]
  },
  {
   "cell_type": "markdown",
   "metadata": {},
   "source": [
    "<div class=\"alert alert-danger\">A is evaluated independently of B == \"Fantasy\". Since A has a valid value, it evaluates to <code>True</code> and the value of A is returned. As a result, B == \"Fantasy\" is not evaluated at all.</div>"
   ]
  },
  {
   "cell_type": "markdown",
   "metadata": {},
   "source": [
    "<a id='2'><h2><img src=\"https://images.vexels.com/media/users/3/153978/isolated/preview/483ef8b10a46e28d02293a31570c8c56-warning-sign-colored-stroke-icon-by-vexels.png\" width=23 align=\"left\"><font color=\"salmon\">&nbsp;2.</font><font color=\"salmon\"> Decision Structures </font> </h2></a>\n",
    "\n",
    "The concept of an decision structure is simple. Based on the answer to a True/False question (`bool`), execute code differently.\n",
    "\n",
    "In layman terms, think of it like a gate that swings to the left or the right depending on whether the answer is true / false\n",
    "\n",
    "<img src=\"https://i.imgur.com/1dU9MX9.png\" width=\"300\"/>"
   ]
  },
  {
   "cell_type": "markdown",
   "metadata": {},
   "source": [
    "<a id='2.1'><h3>2.1 IF</h3></a>\n",
    "\n",
    "```python\n",
    "\n",
    "if ________:\n",
    "    \n",
    "    # Do something\n",
    "    # ...    \n",
    "    \n",
    "```\n",
    "Note: `________` here refers to a condition\n",
    "\n",
    "#### Example:\n",
    "\n",
    "####  If `alex_salary` is greater than `bob_salary`, display the message:\n",
    "> \"alex wins!\""
   ]
  },
  {
   "cell_type": "code",
   "execution_count": null,
   "metadata": {},
   "outputs": [],
   "source": [
    "alex_salary = 100\n",
    "bob_salary = 2500\n",
    "\n",
    "# Write your code below:\n",
    "\n"
   ]
  },
  {
   "cell_type": "markdown",
   "metadata": {},
   "source": [
    "<a id='2.2'><h3>2.2 IF-ELSE</h3></a>\n",
    "\n",
    "```python\n",
    "if ________:\n",
    "    \n",
    "    # Do something\n",
    "    # ...\n",
    "\n",
    "else:\n",
    "    \n",
    "    # Do something else\n",
    "    # ...\n",
    "```"
   ]
  },
  {
   "cell_type": "markdown",
   "metadata": {},
   "source": [
    "The `else` statement doesn't need a specific condition, since it will be ran if the `if` block doesn't.\n",
    "\n",
    "<div class=\"alert alert-info\"> If the <b>if</b> block runs, the <b>else</b> block will be skipped! </div>"
   ]
  },
  {
   "cell_type": "markdown",
   "metadata": {},
   "source": [
    "#### Example:\n",
    "\n",
    "#### If `alex_salary` is greater than `bob_salary`, display the message:\n",
    "> Alex wins!\n",
    "#### Otherwise, display the message: \n",
    "> Bob wins!"
   ]
  },
  {
   "cell_type": "code",
   "execution_count": null,
   "metadata": {},
   "outputs": [],
   "source": [
    "alex_salary = 100\n",
    "bob_salary = 2500\n",
    "\n",
    "# Write your code below:\n",
    "\n"
   ]
  },
  {
   "cell_type": "markdown",
   "metadata": {},
   "source": [
    "<a id='2.3'><h3>2.3 IF-ELIF-ELSE </h3></a>\n",
    "\n",
    "```python\n",
    "\n",
    "if ________:\n",
    "    \n",
    "    # Do something\n",
    "    # ...\n",
    "    \n",
    "elif ________:\n",
    "    \n",
    "    # Do something else\n",
    "    # ...\n",
    "    \n",
    "elif ________:\n",
    "    \n",
    "    # Do something else\n",
    "    # ...\n",
    "\n",
    "else:\n",
    "    \n",
    "    # Do something else\n",
    "    # ...\n",
    "\n",
    "```\n",
    "\n",
    "<div class=\"alert alert-info\"> If an <b>if</b> or <b>elif</b> statement evaluates to <code>True</code>, its code block will run, and <b>ALL REMAINING BLOCKS WILL BE SKIPPED.</b> Hence, <b>only one</b> block of code will be ran.</div>"
   ]
  },
  {
   "cell_type": "markdown",
   "metadata": {},
   "source": [
    "<a id='3'><h2><img src=\"https://images.vexels.com/media/users/3/153978/isolated/preview/483ef8b10a46e28d02293a31570c8c56-warning-sign-colored-stroke-icon-by-vexels.png\" width=23 align=\"left\"><font color=\"salmon\">&nbsp;3.</font><font color=\"salmon\"> Blocking Concept </font> </h2></a>\n",
    "\n",
    "This section explains why <b>indentation</b> is important in python.\n",
    "\n",
    "With decision controls, such as if-else, and in later part of the course, loops, we will be writing <b><i>blocks</i></b> of code within our notebooks. It is important to understand how are the codes segmented. Look at the following charts as examples.\n",
    "\n",
    "<img src=\"https://i.imgur.com/aYoBpf2.png\" width=200> "
   ]
  },
  {
   "cell_type": "code",
   "execution_count": null,
   "metadata": {},
   "outputs": [],
   "source": [
    "if 10 > 1: # < true\n",
    "    print(\"a\") # <\n",
    "elif 20 < 2:\n",
    "    print(\"b\")\n",
    "else:\n",
    "    print(\"c\")"
   ]
  },
  {
   "cell_type": "markdown",
   "metadata": {},
   "source": [
    "#### Example \n",
    "\n",
    "#### If `my_salary` is `100` or above, display the message:\n",
    "> Rich!\n",
    "#### Else if `my_salary` is between `50` to `99` inclusive, display the message:\n",
    "> Average!\n",
    "#### Otherwise, display the message: \n",
    "> :("
   ]
  },
  {
   "cell_type": "code",
   "execution_count": null,
   "metadata": {},
   "outputs": [],
   "source": [
    "my_salary = 20\n",
    "\n",
    "# Write your code below:\n",
    "\n"
   ]
  },
  {
   "cell_type": "markdown",
   "metadata": {},
   "source": [
    "<a id='P1'><h2> <img src=\"https://cdn.shopify.com/s/files/1/1200/7374/products/book_aec28e76-52ec-44ab-bc01-41df1279c89f_550x825.png?v=1473897430\" width=25 align=\"left\"> <font color=\"darkorange\"> &nbsp; Practice I </font><font color=\"skyblue\"> * </font></h2></a>\n",
    "\n",
    "#### Question 1\n",
    "\n",
    "| Score | Output message |\n",
    "| -------- | ------- |\n",
    "| >= 76 | Your grade is: A* |\n",
    "| 70 - 75 | Your grade is: A |\n",
    "| 65 - 69 | Your grade is: B |\n",
    "| 60 - 64 | Your grade is: B- |\n",
    "| < 60 | Your grade is: Pass |\n",
    "\n",
    "#### Based on the scoring table above, print out the appropriate message for the following student's score:\n",
    "\n",
    "##### Note that the output message should change should the value of `score` changes"
   ]
  },
  {
   "cell_type": "code",
   "execution_count": null,
   "metadata": {},
   "outputs": [],
   "source": [
    "score = 71\n",
    "\n",
    "# Write your code below:\n",
    "\n"
   ]
  },
  {
   "cell_type": "markdown",
   "metadata": {},
   "source": [
    "#### Question 2\n",
    "- The YouTube influencer management team wants to automate the payment to the influencers based on monthly views on their channel. The influencer monthly payment rules as follow:\n",
    "    - The influencer must have at least 50,000 views in the month to qualify for a payment. \n",
    "    - The influencer will be paid \\$0.01 per view if he/she has between 50,000 to 100,000 views.\n",
    "    - If the influencer has more than 100,000 he/she will be paid \\$0.05 per views <br><br>\n",
    "    \n",
    "- Write a Python program to calculate the pay for the below influencers and check your answer by taking the value out for each influencer based on the dictionary below:\n",
    "```python    \n",
    "    influencers = {\n",
    "        \"Xiaxue\" : 245654,\n",
    "        \"Roy\": 823,\n",
    "        \"BrownieTv\": 53233\n",
    "    }\n",
    "```\n",
    "\n",
    "<img src=\"https://i.imgur.com/ukCBcV1.png\" width=400>"
   ]
  },
  {
   "cell_type": "code",
   "execution_count": null,
   "metadata": {},
   "outputs": [],
   "source": [
    "influencers = {\n",
    "        \"Xiaxue\" : 245654,\n",
    "        \"Roy\": 823,\n",
    "        \"BrownieTv\": 53233\n",
    "}\n",
    "\n",
    "views_to_check = influencers[\"Xiaxue\"]\n",
    "\n",
    "# Write your code below:\n",
    "\n"
   ]
  },
  {
   "cell_type": "markdown",
   "metadata": {},
   "source": [
    "<a id='4'><h2><img src=\"https://images.vexels.com/media/users/3/153978/isolated/preview/483ef8b10a46e28d02293a31570c8c56-warning-sign-colored-stroke-icon-by-vexels.png\" width=23 align=\"left\"><font color=\"salmon\">&nbsp;4.</font><font color=\"salmon\"> Nested Decisions </font> </h2></a>\n",
    "\n",
    "There are instances where you need to ask “follow-up” questions after clearing the first condition. Python allows you to evaluate “follow-up” conditions through the nesting of one decision construct in another.\n",
    "\n",
    "You can put any code inside an `if-else` statement, even another `if-else`. This can be used for flow charts that are more than 1 level deep.\n",
    "\n",
    "**Example**\n",
    "<img src=\"https://i.imgur.com/dM0mJr3.png\" width=200>"
   ]
  },
  {
   "cell_type": "code",
   "execution_count": null,
   "metadata": {},
   "outputs": [],
   "source": [
    "if 10 > 1: # True \n",
    "    print(\"a\") # < \n",
    "    if 10 < 1: # False\n",
    "        print(\"b\")\n",
    "    else: \n",
    "        print(\"c\") # <\n",
    "    print(\"d\") # <\n",
    "else:\n",
    "    print(\"e\")"
   ]
  },
  {
   "cell_type": "markdown",
   "metadata": {},
   "source": [
    "<img src=\"https://i.imgur.com/OliUH1O.png\" width=\"500\"/>"
   ]
  },
  {
   "cell_type": "code",
   "execution_count": null,
   "metadata": {},
   "outputs": [],
   "source": [
    "senior_citizen = True\n",
    "income = 40000\n",
    "\n",
    "# Single Layer Example\n",
    "if senior_citizen == True and income > 60000:\n",
    "    print(500)\n",
    "elif senior_citizen == True and income <= 60000:\n",
    "    print(1000)\n",
    "elif senior_citizen == False and income > 40000:\n",
    "    print(200)\n",
    "elif senior_citizen == False and income <= 40000:\n",
    "    print(300)\n",
    "\n",
    "# Nested Layer Example\n",
    "# Write your code below:\n",
    "\n"
   ]
  },
  {
   "cell_type": "markdown",
   "metadata": {},
   "source": [
    "#### IN-CLASS PRACTICE: DEBUGGING YOUTUBE INFLUENCER BONUS\n",
    "- As part of a campaign to support healthy living, the YouTube influencer management team wants to give a special bonus to influencer who posted videos which support healthy living. The bonus are as follow:\n",
    "    - Channels with 50,000 views or less get 0.01 dollar per view\n",
    "    - Channels with more than 50,000 views get 0.01 dollar per view in the first 50,000 views and 0.10 dollar per view for subsequent views.\n",
    "- Roy is a YouTube influencer and has the following stats:\n",
    "    - has_healthy_living_video = True\n",
    "    - channel_views = 85000\n",
    "- Use a nested decision to calculate how much bonus Roy should get\n",
    "\n",
    "<i> Just indent the codes properly </i>"
   ]
  },
  {
   "cell_type": "code",
   "execution_count": null,
   "metadata": {},
   "outputs": [],
   "source": [
    "has_healthy_living_video = True\n",
    "channel_views = 85000\n",
    "\n",
    "# Write your code below:\n",
    "\n"
   ]
  },
  {
   "cell_type": "markdown",
   "metadata": {},
   "source": [
    "<center><h1>FIN</h1><center>"
   ]
  }
 ],
 "metadata": {
  "kernelspec": {
   "display_name": "Python 3",
   "language": "python",
   "name": "python3"
  },
  "language_info": {
   "codemirror_mode": {
    "name": "ipython",
    "version": 3
   },
   "file_extension": ".py",
   "mimetype": "text/x-python",
   "name": "python",
   "nbconvert_exporter": "python",
   "pygments_lexer": "ipython3",
   "version": "3.7.6"
  }
 },
 "nbformat": 4,
 "nbformat_minor": 2
}
