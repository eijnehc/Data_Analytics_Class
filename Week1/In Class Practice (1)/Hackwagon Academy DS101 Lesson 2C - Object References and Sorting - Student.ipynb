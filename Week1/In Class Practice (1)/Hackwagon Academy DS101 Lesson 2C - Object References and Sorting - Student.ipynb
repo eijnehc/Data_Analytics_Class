{
 "cells": [
  {
   "cell_type": "markdown",
   "metadata": {},
   "source": [
    "<center><img src=\"https://i2.wp.com/hackwagon.com/wp-content/uploads/2017/02/Logo-Web-Export.png?ssl=1\" width=200/></center>\n",
    "<h1> Hackwagon Academy DS101 Lesson 2 - Self Study </h1>\n",
    "<h2> Try-Except, Object References and Sorting </h2> \n",
    "<h3> Lesson Outline </h3>\n",
    "\n",
    "- 1. [Try-Except](#1)\n",
    "- 2. [Object References](#2)\n",
    "- 3. [Sorting](#3)"
   ]
  },
  {
   "cell_type": "markdown",
   "metadata": {},
   "source": [
    "<a id='1'><h2><img src=\"https://images.vexels.com/media/users/3/153978/isolated/preview/483ef8b10a46e28d02293a31570c8c56-warning-sign-colored-stroke-icon-by-vexels.png\" width=23 align=\"left\"><font color=\"salmon\">&nbsp;1.</font><font color=\"salmon\"> Try-Except </font> </h2></a>\n",
    "\n",
    "One of the common thing we do in data analytics/science is to convert data types during “data cleaning”. The following codes will give an error, write a try-except code to catch this error:"
   ]
  },
  {
   "cell_type": "code",
   "execution_count": null,
   "metadata": {},
   "outputs": [],
   "source": [
    "'''\n",
    "views = 'one hundred and ten'\n",
    "views = int(views)\n",
    "'''\n",
    "\n",
    "try:\n",
    "    views = 'one hundred and ten'\n",
    "    views = int(views)\n",
    "    print(\"There is a total view of: \" + str(views))\n",
    "    \n",
    "except:\n",
    "    print(\"There is some error in the data cleaning code!\")"
   ]
  },
  {
   "cell_type": "markdown",
   "metadata": {},
   "source": [
    "<a id='2'><h2><img src=\"https://images.vexels.com/media/users/3/153978/isolated/preview/483ef8b10a46e28d02293a31570c8c56-warning-sign-colored-stroke-icon-by-vexels.png\" width=23 align=\"left\"><font color=\"salmon\">&nbsp;2.</font><font color=\"salmon\"> Object References </font> </h2></a>"
   ]
  },
  {
   "cell_type": "markdown",
   "metadata": {},
   "source": [
    "Given the following code, what would you expect to be printed? Run the cell to find out if its what you expected!"
   ]
  },
  {
   "cell_type": "code",
   "execution_count": null,
   "metadata": {},
   "outputs": [],
   "source": [
    "data = [1,2,3]\n",
    "\n",
    "a = data\n",
    "b = data\n",
    "\n",
    "a.append(4) # change the first item of a to 9\n",
    "\n",
    "print(a)\n",
    "print(b)"
   ]
  },
  {
   "cell_type": "markdown",
   "metadata": {},
   "source": [
    "Why was 4 added to `b` when it was only appended to `a`? Now let's trace the code by running the cell below. Click the 'Forward >' button to see what happens as each line of code is executed:"
   ]
  },
  {
   "cell_type": "code",
   "execution_count": null,
   "metadata": {},
   "outputs": [],
   "source": [
    "from IPython.display import IFrame ; IFrame(\"https://pythontutor.com/iframe-embed.html#code=data%20%3D%20%5B1,2,3%5D%0A%0Aa%20%3D%20data%0Ab%20%3D%20data%0A%0Aa.append%284%29%0A%0Aprint%28a%29%0Aprint%28b%29&codeDivHeight=400&codeDivWidth=350&cumulative=false&curInstr=0&heapPrimitives=nevernest&origin=opt-frontend.js&py=3&rawInputLstJSON=%5B%5D&textReferences=false\",\"100%\",\"600px\")"
   ]
  },
  {
   "cell_type": "markdown",
   "metadata": {},
   "source": [
    "Notice that both `a` and `b` \"points to\" the same list in Python's memory? That's why when 4 is appended to the list that `a` points to, `b` is updated as well simply because it is pointing to the same list that `a` is pointing to.\n",
    "\n",
    "Now let's take a look at another example. What would you expect to be printed? Run the cell to find out if you're right!"
   ]
  },
  {
   "cell_type": "code",
   "execution_count": null,
   "metadata": {},
   "outputs": [],
   "source": [
    "data = 1\n",
    "\n",
    "a = data\n",
    "b = data\n",
    "\n",
    "a = 2\n",
    "\n",
    "print(a)\n",
    "print(b)"
   ]
  },
  {
   "cell_type": "markdown",
   "metadata": {},
   "source": [
    "Why didn't `b` change to 2 as well? Run the next cell to find out why:"
   ]
  },
  {
   "cell_type": "code",
   "execution_count": null,
   "metadata": {},
   "outputs": [],
   "source": [
    "from IPython.display import IFrame ; IFrame(\"https://pythontutor.com/iframe-embed.html#code=data%20%3D%201%0A%0Aa%20%3D%20data%0Ab%20%3D%20data%0A%0Aa%20%3D%202%0A%0Aprint%28a%29%0Aprint%28b%29&codeDivHeight=400&codeDivWidth=350&cumulative=false&curInstr=0&heapPrimitives=nevernest&origin=opt-frontend.js&py=3&rawInputLstJSON=%5B%5D&textReferences=false\",\"100%\",\"600px\")"
   ]
  },
  {
   "cell_type": "markdown",
   "metadata": {},
   "source": [
    "This is ultimately due to the mutability of objects in Python. A list (in the first example) is mutable while an integer is not.\n",
    "\n",
    "You can read more about it here:\n",
    "https://hackernoon.com/python-objects-and-mutability-397f7de38bb5"
   ]
  },
  {
   "cell_type": "markdown",
   "metadata": {},
   "source": [
    "<a id='3'><h2><img src=\"https://images.vexels.com/media/users/3/153978/isolated/preview/483ef8b10a46e28d02293a31570c8c56-warning-sign-colored-stroke-icon-by-vexels.png\" width=23 align=\"left\"><font color=\"salmon\">&nbsp;3.</font><font color=\"salmon\"> Sorting </font> </h2></a>\n",
    "\n",
    "<b>`.sort()` vs `sorted()`</b>\n",
    "\n",
    "The `.sort()` method sorts a list <u>in-place</u>, i.e. the original list is being sorted"
   ]
  },
  {
   "cell_type": "code",
   "execution_count": null,
   "metadata": {},
   "outputs": [],
   "source": [
    "my_list = ['a', 'z', 'x', 'b']\n",
    "my_list.sort() # my_list is being sorted\n",
    "print('my_list:', my_list)"
   ]
  },
  {
   "cell_type": "markdown",
   "metadata": {},
   "source": [
    "On the contrary, the `sorted()` function sorts a copy of the original list, i.e. the original list is not affected"
   ]
  },
  {
   "cell_type": "code",
   "execution_count": null,
   "metadata": {},
   "outputs": [],
   "source": [
    "my_list = ['a', 'z', 'x', 'b']\n",
    "new_list = sorted(my_list) # a COPY of my_list is being sorted, my_list is not affected\n",
    "print('my_list: ', my_list)\n",
    "print('new_list:', new_list)"
   ]
  }
 ],
 "metadata": {
  "kernelspec": {
   "display_name": "Python 3",
   "language": "python",
   "name": "python3"
  },
  "language_info": {
   "codemirror_mode": {
    "name": "ipython",
    "version": 3
   },
   "file_extension": ".py",
   "mimetype": "text/x-python",
   "name": "python",
   "nbconvert_exporter": "python",
   "pygments_lexer": "ipython3",
   "version": "3.7.3"
  }
 },
 "nbformat": 4,
 "nbformat_minor": 2
}
