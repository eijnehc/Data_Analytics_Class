{
 "cells": [
  {
   "cell_type": "markdown",
   "metadata": {},
   "source": [
    "<center><img src=\"https://i2.wp.com/hackwagon.com/wp-content/uploads/2017/02/Logo-Web-Export.png?ssl=1\" width=200/></center>\n",
    "<h1> Hackwagon Academy DS101 Lesson 2A </h1>\n",
    "<h2> Lists & Dictionaries</h2> \n",
    "<h3> Lesson Outline </h3>\n",
    "\n",
    "- 1. [Recap](#1)\n",
    "- 2. [Collections](#2)\n",
    "- 3. [Lists](#3)\n",
    "    - [Practice I](#P1)\n",
    "    - 3.1 [Nested Lists](#2.1)\n",
    "    - [Practice II](#P2)\n",
    "- 4. [Tuples](#3)\n",
    "- 5. [Dictionaries](#3)\n",
    "    - [Practice III](#P3)\n",
    "    - [Difference between Lists and Dictionaries](#3.1)\n",
    "    - 5.1 [Dictionary Keys Are Unique](#5.1)\n",
    "- 4. [Nested Collections](#4)\n",
    "- 5. [Which Collection to Use?](#5)\n",
    "-    [Summary of Important Functions](#S)"
   ]
  },
  {
   "cell_type": "markdown",
   "metadata": {},
   "source": [
    "## Data Science Project Stages\n",
    "\n",
    "<img src=\"https://i.imgur.com/pIc9rZc.png\">"
   ]
  },
  {
   "cell_type": "markdown",
   "metadata": {},
   "source": [
    "<a id='1'><h2><img src=\"https://images.vexels.com/media/users/3/153978/isolated/preview/483ef8b10a46e28d02293a31570c8c56-warning-sign-colored-stroke-icon-by-vexels.png\" width=23 align=\"left\"><font color=\"salmon\">&nbsp;1.</font><font color=\"salmon\"> Recap </font> </h2></a>\n",
    "\n",
    "#### Variables & Data Types\n",
    "\n",
    "|Use|Type|Example|\n",
    "|---|---|---|\n",
    "|Numbers|`int`,`float`|`int` - `5` <br> `float` - `5.0`|\n",
    "|Text|`str`|`\"Hackwagon\"`|\n",
    "|Yes/No|`bool`|`True` <br> `False`|\n",
    "|Collection of Values|`list`|`[1,2,3,4]`|\n",
    "|Collection of Values|`dict`|`{\"a\":1, \"b\":2}`|"
   ]
  },
  {
   "cell_type": "code",
   "execution_count": 6,
   "metadata": {},
   "outputs": [
    {
     "name": "stdout",
     "output_type": "stream",
     "text": [
      "<class 'int'>\n",
      "True\n"
     ]
    }
   ],
   "source": [
    "# Variable Names\n",
    "# Anything in black is a variable\n",
    "v = 10\n",
    "another_v = \"hackwagon\"\n",
    "\n",
    "# Data Types\n",
    "# green numbers are numeric values\n",
    "# red is a string\n",
    "\n",
    "a = 10\n",
    "b = 5.5\n",
    "c = \"\"\n",
    "\n",
    "# Reserved Keywords\n",
    "# Green words are reserved keywords\n",
    "print\n",
    "sum\n",
    "max\n",
    "\n",
    "# Type Conversion\n",
    "d = \"10\"\n",
    "print(type(int(d)))\n",
    "print(bool(0))\n",
    "\n"
   ]
  },
  {
   "cell_type": "markdown",
   "metadata": {},
   "source": [
    "#### Methods of Data Types\n",
    "Let's contextualise data types and their methods. Imagine in the animal kingdom, each animal has their own set of \"abilities\".\n",
    "\n",
    "Drawing parallels to programming, each data type is like an animal with their own set of \"abilities.\" We refer to the \"abilities\" of each data type as <b>methods</b> in Python.\n",
    "\n",
    "How we use these methods is as follows: \n",
    "    \n",
    "    <data type> . <method> ( <input if any> ) "
   ]
  },
  {
   "cell_type": "code",
   "execution_count": null,
   "metadata": {},
   "outputs": [],
   "source": [
    "print()"
   ]
  },
  {
   "cell_type": "markdown",
   "metadata": {},
   "source": [
    "<a id='2'><h2><img src=\"https://images.vexels.com/media/users/3/153978/isolated/preview/483ef8b10a46e28d02293a31570c8c56-warning-sign-colored-stroke-icon-by-vexels.png\" width=23 align=\"left\"><font color=\"salmon\">&nbsp;2.</font><font color=\"salmon\"> Collections </font> </h2></a>\n",
    "\n",
    "Collections are data types that hold many values together in one variable. For example,\n",
    "\n",
    "```python\n",
    "despacito = 15000\n",
    "see_you_again = 5000\n",
    "im_yours = 3000\n",
    "```\n",
    "\n",
    "We use <b>Collections</b> to store these 3 variables into one convenient package. The 4 commonly used collections are: \n",
    "    \n",
    "* strings (collection of characters) <i>covered earlier</i>\n",
    "* lists (collection of values)\n",
    "* tuples (collection of values)\n",
    "* dictionaries (collection of key value pairs) <i>covered next lesson</i>\n",
    "\n",
    "| Collection Type | Brackets | \n",
    "| - | - |\n",
    "| Strings | `\" \"` or `' '` |\n",
    "| Lists | `[ ]` |\n",
    "| Tuples | `( )` |\n",
    "| Dictionary | `{ }` |"
   ]
  },
  {
   "cell_type": "markdown",
   "metadata": {},
   "source": [
    "<a id='3'><h2><img src=\"https://images.vexels.com/media/users/3/153978/isolated/preview/483ef8b10a46e28d02293a31570c8c56-warning-sign-colored-stroke-icon-by-vexels.png\" width=23 align=\"left\"><font color=\"salmon\">&nbsp;3.</font><font color=\"salmon\"> Lists </font> </h2></a>\n",
    "\n",
    "`Lists` allow us to hold **multiple values** in a single container. This effectively gives us a single point of reference -- rather than having 1 million variables to capture 1 million different values, we can use a single `list` to store them!\n",
    "\n",
    "\n",
    "<img src=\"https://i.imgur.com/PPW0OBb.png\" width=500 align=\"center\">\n"
   ]
  },
  {
   "cell_type": "code",
   "execution_count": 10,
   "metadata": {},
   "outputs": [
    {
     "name": "stdout",
     "output_type": "stream",
     "text": [
      "5000\n"
     ]
    }
   ],
   "source": [
    "despacito = 15000\n",
    "see_you_again = 5000\n",
    "im_yours = 3000\n",
    "\n",
    "# Write your code below:\n",
    "# Create a list to store despacito, see_you_again, and im_yours\n",
    "video_list = [despacito, see_you_again, im_yours]\n",
    "print(video_list[1])"
   ]
  },
  {
   "cell_type": "code",
   "execution_count": null,
   "metadata": {},
   "outputs": [],
   "source": []
  },
  {
   "cell_type": "markdown",
   "metadata": {},
   "source": [
    "### Accessing `elements` in a list - just like a string:\n",
    "- Single element (with `indexing`)\n",
    "- A sub-list (with `slicing`)\n",
    "\n",
    "Print the first item in `new_list`\n",
    "\n",
    "#### Expected Output:\n",
    "    A"
   ]
  },
  {
   "cell_type": "code",
   "execution_count": 15,
   "metadata": {},
   "outputs": [
    {
     "name": "stdout",
     "output_type": "stream",
     "text": [
      "['A', 'B', 'C', 'D', 'E']\n",
      "A\n",
      "['A', 'B', 'C', 'D']\n"
     ]
    }
   ],
   "source": [
    "new_list = ['A', 'B', 'C', 'D', 'E', 'F']\n",
    "\n",
    "# Write your code below:\n",
    "new_string = \"ABCDE\"\n",
    "another_list = list(new_string)\n",
    "print(another_list)\n",
    "\n",
    "print(new_list[0])\n",
    "print(new_list[0:4])"
   ]
  },
  {
   "cell_type": "markdown",
   "metadata": {},
   "source": [
    "### Changing an `element` in a list\n",
    "\n",
    "Change the first item in `new_list` to `'Z'`. Print the updated list.\n",
    "\n",
    "#### Expected Output:\n",
    "    ['Z', 'B', 'C', 'D', 'E', 'F']"
   ]
  },
  {
   "cell_type": "code",
   "execution_count": 18,
   "metadata": {},
   "outputs": [
    {
     "name": "stdout",
     "output_type": "stream",
     "text": [
      "['Z', 'B', 'C', 'D', 'E', 'F']\n"
     ]
    }
   ],
   "source": [
    "new_list = ['A', 'B', 'C', 'D', 'E', 'F']\n",
    "\n",
    "# Write your code below:\n",
    "new_list[0] = \"Z\"\n",
    "print(new_list)\n",
    "\n",
    "# s = \"hackwagon\" string is immutable\n",
    "# s[0] = 'z'"
   ]
  },
  {
   "cell_type": "code",
   "execution_count": null,
   "metadata": {},
   "outputs": [],
   "source": []
  },
  {
   "cell_type": "markdown",
   "metadata": {},
   "source": [
    "### Check if value exists in a list - `in`\n",
    "\n",
    "Check if `new_list` contains the element `'D'`\n",
    "\n",
    "#### Expected Output:\n",
    "    True"
   ]
  },
  {
   "cell_type": "code",
   "execution_count": 19,
   "metadata": {},
   "outputs": [
    {
     "data": {
      "text/plain": [
       "False"
      ]
     },
     "execution_count": 19,
     "metadata": {},
     "output_type": "execute_result"
    }
   ],
   "source": [
    "new_list = ['A', 'B', 'C', 'D', 'E', 'F']\n",
    "\n",
    "# Write your code below:\n",
    "\"Z\" in new_list\n"
   ]
  },
  {
   "cell_type": "markdown",
   "metadata": {},
   "source": [
    "### Number of items in a list - `len()`\n",
    "\n",
    "_Note: The <code>len()</code> function in Python is similar to the COUNT() function in Excel_\n",
    "\n",
    "Print the number of items contained in `new_list`\n",
    "\n",
    "#### Expected Output:\n",
    "    6"
   ]
  },
  {
   "cell_type": "code",
   "execution_count": 24,
   "metadata": {},
   "outputs": [
    {
     "name": "stdout",
     "output_type": "stream",
     "text": [
      "6\n"
     ]
    }
   ],
   "source": [
    "new_list = ['A', 'B', 'C', 'D', 'E', 'F']\n",
    "\n",
    "# Write your code below:\n",
    "\n",
    "print(len(new_list))\n"
   ]
  },
  {
   "cell_type": "markdown",
   "metadata": {},
   "source": [
    "### Adding elements to a list - `.append()`\n",
    "\n",
    "_The `.append()` method adds an element to the list to end back of the list_\n",
    "\n",
    "Add the element `'Z'` to `new_list`\n",
    "\n",
    "#### Expected Output:\n",
    "    ['A', 'B', 'C', 'D', 'E', 'F', 'Z']"
   ]
  },
  {
   "cell_type": "code",
   "execution_count": 26,
   "metadata": {},
   "outputs": [
    {
     "name": "stdout",
     "output_type": "stream",
     "text": [
      "['A', 'B', 'C', 'D', 'E', 'F', 'Z']\n",
      "['A', 'B', 'C', 'D', 'E', 'F', 'Z', 'H']\n"
     ]
    }
   ],
   "source": [
    "new_list = ['A', 'B', 'C', 'D', 'E', 'F']\n",
    "\n",
    "# Write your code below:\n",
    "new_list.append(\"Z\")\n",
    "print(new_list)\n",
    "\n",
    "# Alternatively\n",
    "new_list += \"H\"\n",
    "print(new_list)"
   ]
  },
  {
   "cell_type": "code",
   "execution_count": 29,
   "metadata": {},
   "outputs": [
    {
     "name": "stdout",
     "output_type": "stream",
     "text": [
      "['A', 'B', 'C', 'D', 'E', 'F', 'G', 'J', 'K']\n"
     ]
    }
   ],
   "source": [
    "new_list = ['A', 'B', 'C', 'D', 'E', 'F']\n",
    "add_list = ['G','J','K']\n",
    "\n",
    "# new_list.extend(add_list)\n",
    "# print(new_list)\n",
    "print(new_list + add_list)"
   ]
  },
  {
   "cell_type": "code",
   "execution_count": 30,
   "metadata": {},
   "outputs": [
    {
     "name": "stdout",
     "output_type": "stream",
     "text": [
      "['A', 'B', 'C', 'D', 'E', 'F', ['G', 'J', 'K']]\n"
     ]
    }
   ],
   "source": [
    "new_list = ['A', 'B', 'C', 'D', 'E', 'F']\n",
    "add_list = ['G','J','K']\n",
    "\n",
    "new_list.append(add_list)\n",
    "print(new_list)"
   ]
  },
  {
   "cell_type": "code",
   "execution_count": 35,
   "metadata": {},
   "outputs": [
    {
     "name": "stdout",
     "output_type": "stream",
     "text": [
      "['A', 'B', 'C', 'D', 'E', 'F', 'GJK']\n",
      "['A', 'B', 'C', 'D', 'E', 'F', 'GJK', 'G', 'J', 'K']\n"
     ]
    }
   ],
   "source": [
    "new_list = ['A', 'B', 'C', 'D', 'E', 'F']\n",
    "new_str = 'GJK'\n",
    "\n",
    "new_list.append(new_str)\n",
    "print(new_list)\n",
    "\n",
    "new_list.extend(new_str)\n",
    "print(new_list)"
   ]
  },
  {
   "cell_type": "markdown",
   "metadata": {},
   "source": [
    "### Removing a value from a list - `.remove()`\n",
    "\n",
    "_The `.remove()` method removes the very first instance of <b>a given value</b>, i.e. from left to right of the list_\n",
    "\n",
    "Remove `'A'` from `new_list` and print the updated list\n",
    "\n",
    "#### Expected Output: \n",
    "    \n",
    "    ['B', 'C', 'D', 'E', 'F', 'A']"
   ]
  },
  {
   "cell_type": "code",
   "execution_count": 37,
   "metadata": {},
   "outputs": [
    {
     "name": "stdout",
     "output_type": "stream",
     "text": [
      "['B', 'C', 'D', 'E', 'F', 'A']\n",
      "['B', 'C', 'D', 'E', 'F']\n"
     ]
    }
   ],
   "source": [
    "new_list = ['A', 'B', 'C', 'D', 'E', 'F', 'A']\n",
    "\n",
    "# Write your code below:\n",
    "\n",
    "new_list.remove('A')\n",
    "print(new_list)\n",
    "new_list.remove('A')\n",
    "print(new_list)"
   ]
  },
  {
   "cell_type": "code",
   "execution_count": null,
   "metadata": {},
   "outputs": [],
   "source": []
  },
  {
   "cell_type": "markdown",
   "metadata": {},
   "source": [
    "### Deleting by index - `del`\n",
    "\n",
    "_The <font color='green'><b>del</b></font> function removes a value based on its <b>index</b>_\n",
    "\n",
    "Delete `'B'` from `new_list`\n",
    "\n",
    "#### Expected Output:\n",
    "    ['A', 'C', 'D', 'E', 'F', 'A']"
   ]
  },
  {
   "cell_type": "code",
   "execution_count": 38,
   "metadata": {},
   "outputs": [
    {
     "name": "stdout",
     "output_type": "stream",
     "text": [
      "['A', 'C', 'D', 'E', 'F', 'A']\n"
     ]
    }
   ],
   "source": [
    "new_list = ['A', 'B', 'C', 'D', 'E', 'F', 'A']\n",
    "\n",
    "# Write your code below:\n",
    "\n",
    "del new_list[1]\n",
    "print(new_list)\n",
    "\n"
   ]
  },
  {
   "cell_type": "code",
   "execution_count": null,
   "metadata": {},
   "outputs": [],
   "source": []
  },
  {
   "cell_type": "markdown",
   "metadata": {},
   "source": [
    "### Sorting the list - `sorted()`\n",
    "_The `sorted` function sorts the values of a list in ascending order and returns a new list of sorted values._\n",
    "\n",
    "Sort `new_list` in a <b>descending order</b> to get our final data list.\n",
    "\n",
    "#### Expected Output:\n",
    "    \n",
    "    [10, 9, 8, 3, 2, 1]"
   ]
  },
  {
   "cell_type": "code",
   "execution_count": 45,
   "metadata": {},
   "outputs": [
    {
     "name": "stdout",
     "output_type": "stream",
     "text": [
      "[1, 2, 3, 8, 10, 9]\n",
      "[1, 2, 3, 8, 9, 10]\n",
      "[10, 9, 8, 3, 2, 1]\n"
     ]
    }
   ],
   "source": [
    "new_list = [1, 2, 3, 8, 10, 9]\n",
    "\n",
    "# Write your code below:\n",
    "# First method: sorted list\n",
    "sorted(new_list)\n",
    "sorted_list = sorted(new_list)\n",
    "print(new_list)\n",
    "print(sorted_list)\n",
    "\n",
    "new_list.sort(reverse=True) # ascending order\n",
    "\n",
    "print(new_list)"
   ]
  },
  {
   "cell_type": "markdown",
   "metadata": {},
   "source": [
    "<div class=\"alert alert-block alert-info\">\n",
    "    <b>Tip:</b> Refer to Notebook 2C for more information on the difference between the method <code>.sort()</code> and the function <code>sorted()</code>\n",
    "</div>"
   ]
  },
  {
   "cell_type": "markdown",
   "metadata": {},
   "source": [
    "<a id='P1'><h2> <img src=\"https://cdn.shopify.com/s/files/1/1200/7374/products/book_aec28e76-52ec-44ab-bc01-41df1279c89f_550x825.png?v=1473897430\" width=25 align=\"left\"> <font color=\"darkorange\"> &nbsp; Practice I </font><font color=\"skyblue\"> * </font></h2></a>\n",
    "\n",
    "Complete the following questions to test your overall understanding on list functions:\n",
    "\n",
    "1. Create 2 lists:\n",
    "    \n",
    "    `x` with numbers `10` and `20` <br>`y` with numbers `30` and `40`\n",
    "    \n",
    "    \n",
    "2. Using `.append()`, add the 2 lists to a new list called `combi`\n",
    "3. With the `del` function, remove both lists\n",
    "\n",
    "You should have an **empty list** at the end of the practice."
   ]
  },
  {
   "cell_type": "code",
   "execution_count": 49,
   "metadata": {},
   "outputs": [
    {
     "name": "stdout",
     "output_type": "stream",
     "text": [
      "[[10, 20], [30, 40]]\n",
      "[]\n"
     ]
    }
   ],
   "source": [
    "#Qns 1\n",
    "x = [10,20]\n",
    "y = [30,40]\n",
    "\n",
    "#Qns 2\n",
    "combi = [] # do not remove this line\n",
    "combi.append(x)\n",
    "combi.append(y)\n",
    "\n",
    "#Qns 3\n",
    "del combi[:]\n",
    "print(combi)"
   ]
  },
  {
   "cell_type": "code",
   "execution_count": null,
   "metadata": {},
   "outputs": [],
   "source": []
  },
  {
   "cell_type": "code",
   "execution_count": null,
   "metadata": {},
   "outputs": [],
   "source": []
  },
  {
   "cell_type": "code",
   "execution_count": null,
   "metadata": {},
   "outputs": [],
   "source": []
  },
  {
   "cell_type": "markdown",
   "metadata": {},
   "source": [
    "<a id='3.1'><h3>3.1 Nested List Concept</h3></a>\n",
    "\n",
    "During the later part of the course, we will encountering nested lists very often so this is a good opportunity to be exposed to this concept.\n",
    "\n",
    "As we showed above, we can have lists of numbers, lists of strings, and we can also have *lists of lists*.\n",
    "\n",
    "How to access the inner list elements?\n",
    "\n",
    "Say you needed to capture and process data of students in a given class:\n",
    "\n",
    "| Name | Student ID | Age |\n",
    "| - | - | - |\n",
    "| Alex | S3124 | 12 |\n",
    "| Bob | S3194 | 13 |\n",
    "| Cat | S0497 | 18 |"
   ]
  },
  {
   "cell_type": "code",
   "execution_count": null,
   "metadata": {},
   "outputs": [],
   "source": [
    "data = [\n",
    "    # Col 0, Col 1, Col, 2\n",
    "    ['Alex', 'S3124', 12], # Row 0\n",
    "    ['Bob', 'S3194', 13], # Row 1\n",
    "    ['Cat', 'S0497', 18] # Row 2\n",
    "]\n",
    "\n",
    "# [Row][Col]\n",
    "# How do we get Alex's age?\n",
    "print(data[0][2])\n",
    "\n",
    "\n",
    "# How do we change Bob's Student ID?\n",
    "data[1][1] = \"S3142\"\n",
    "print(data[1])\n"
   ]
  },
  {
   "cell_type": "markdown",
   "metadata": {},
   "source": [
    "# <a id='P2'><h2><img src=\"https://cdn.shopify.com/s/files/1/1200/7374/products/book_aec28e76-52ec-44ab-bc01-41df1279c89f_550x825.png?v=1473897430\" width=25 align=\"left\"> <font color=\"darkorange\"> &nbsp; Practice II </font><font color=\"skyblue\"> * </font></h2></a>\n",
    "\n",
    "We have a new record to add to `data`! Add the following new row to `data`.\n",
    "\n",
    "| Name | Student ID | Age |\n",
    "| - | - | - |\n",
    "| Dan | S0977 | 19 |\n",
    "\n",
    "So that it looks like this now: \n",
    "\n",
    "| Name | Student ID | Age |\n",
    "| - | - | - |\n",
    "| Alex | S3124 | 12 |\n",
    "| Bob | S3194 | 13 |\n",
    "| Cat | S0497 | 18 |\n",
    "| Dan | S0977 | 19 |\n",
    "\n",
    "_Hint: Use the `.append()` method._"
   ]
  },
  {
   "cell_type": "code",
   "execution_count": 57,
   "metadata": {},
   "outputs": [
    {
     "name": "stdout",
     "output_type": "stream",
     "text": [
      "[['Alex', 'S3124', 12], ['Bob', 'S3194', 13], ['Cat', 'S0497', 18], ['Dan', 'S0977', '19']]\n"
     ]
    }
   ],
   "source": [
    "data = [\n",
    "    ['Alex', 'S3124', 12],\n",
    "    ['Bob', 'S3194', 13],\n",
    "    ['Cat', 'S0497', 18]\n",
    "]\n",
    "\n",
    "# Write your code below:\n",
    "data.append(['Dan','S0977','19'])\n",
    "\n",
    "print(data)"
   ]
  },
  {
   "cell_type": "markdown",
   "metadata": {},
   "source": [
    "<a id='4'><h2><img src=\"https://images.vexels.com/media/users/3/153978/isolated/preview/483ef8b10a46e28d02293a31570c8c56-warning-sign-colored-stroke-icon-by-vexels.png\" width=23 align=\"left\"><font color=\"salmon\">&nbsp;4.</font><font color=\"salmon\"> Tuples </font> </h2></a>\n",
    "\n",
    "<b>Tuples</b> are just like <b>lists</b> but the only difference is that its' contents are <b>immutable</b>, meaning they cannot be altered in any way.\n",
    "\n",
    "They are represented by the brackets (parenthesis) - ` ( ) `"
   ]
  },
  {
   "cell_type": "markdown",
   "metadata": {},
   "source": [
    "#### Creating a tuple"
   ]
  },
  {
   "cell_type": "code",
   "execution_count": 58,
   "metadata": {},
   "outputs": [],
   "source": [
    "new_tuple = (10,20,30)"
   ]
  },
  {
   "cell_type": "markdown",
   "metadata": {},
   "source": [
    "#### Accessing an `element` in a tuple\n",
    "\n",
    "This is same as accessing a character in a string or a list"
   ]
  },
  {
   "cell_type": "code",
   "execution_count": 59,
   "metadata": {},
   "outputs": [
    {
     "name": "stdout",
     "output_type": "stream",
     "text": [
      "10\n"
     ]
    }
   ],
   "source": [
    "print(new_tuple[0])"
   ]
  },
  {
   "cell_type": "markdown",
   "metadata": {},
   "source": [
    "#### Immutability Examples"
   ]
  },
  {
   "cell_type": "code",
   "execution_count": 60,
   "metadata": {},
   "outputs": [
    {
     "ename": "TypeError",
     "evalue": "'tuple' object does not support item assignment",
     "output_type": "error",
     "traceback": [
      "\u001b[0;31m---------------------------------------------------------------------------\u001b[0m",
      "\u001b[0;31mTypeError\u001b[0m                                 Traceback (most recent call last)",
      "\u001b[0;32m<ipython-input-60-4fb35e52245d>\u001b[0m in \u001b[0;36m<module>\u001b[0;34m\u001b[0m\n\u001b[1;32m      2\u001b[0m \u001b[0mx\u001b[0m \u001b[0;34m=\u001b[0m \u001b[0;34m(\u001b[0m\u001b[0;36m1\u001b[0m\u001b[0;34m,\u001b[0m\u001b[0;36m2\u001b[0m\u001b[0;34m,\u001b[0m\u001b[0;36m3\u001b[0m\u001b[0;34m,\u001b[0m\u001b[0;36m4\u001b[0m\u001b[0;34m)\u001b[0m\u001b[0;34m\u001b[0m\u001b[0;34m\u001b[0m\u001b[0m\n\u001b[1;32m      3\u001b[0m \u001b[0;34m\u001b[0m\u001b[0m\n\u001b[0;32m----> 4\u001b[0;31m \u001b[0mx\u001b[0m\u001b[0;34m[\u001b[0m\u001b[0;36m0\u001b[0m\u001b[0;34m]\u001b[0m \u001b[0;34m=\u001b[0m \u001b[0;36m10\u001b[0m    \u001b[0;31m# << Error\u001b[0m\u001b[0;34m\u001b[0m\u001b[0;34m\u001b[0m\u001b[0m\n\u001b[0m\u001b[1;32m      5\u001b[0m \u001b[0mx\u001b[0m\u001b[0;34m.\u001b[0m\u001b[0mappend\u001b[0m\u001b[0;34m(\u001b[0m\u001b[0;36m4\u001b[0m\u001b[0;34m)\u001b[0m  \u001b[0;31m# << Error\u001b[0m\u001b[0;34m\u001b[0m\u001b[0;34m\u001b[0m\u001b[0m\n",
      "\u001b[0;31mTypeError\u001b[0m: 'tuple' object does not support item assignment"
     ]
    }
   ],
   "source": [
    "# run this cell to see an error message\n",
    "x = (1,2,3,4)\n",
    "\n",
    "x[0] = 10    # << Error\n",
    "x.append(4)  # << Error"
   ]
  },
  {
   "cell_type": "code",
   "execution_count": 67,
   "metadata": {},
   "outputs": [
    {
     "name": "stdout",
     "output_type": "stream",
     "text": [
      "<class 'tuple'>\n"
     ]
    }
   ],
   "source": [
    "a = 6,\n",
    "print(type(a))"
   ]
  },
  {
   "cell_type": "code",
   "execution_count": 69,
   "metadata": {},
   "outputs": [
    {
     "name": "stdout",
     "output_type": "stream",
     "text": [
      "1\n",
      "2\n"
     ]
    }
   ],
   "source": [
    "b = (1,2)\n",
    "c,d = b #unpacking operation\n",
    "print(c)\n",
    "print(d)"
   ]
  },
  {
   "cell_type": "markdown",
   "metadata": {},
   "source": [
    "<a id='5'><h2><img src=\"https://images.vexels.com/media/users/3/153978/isolated/preview/483ef8b10a46e28d02293a31570c8c56-warning-sign-colored-stroke-icon-by-vexels.png\" width=23 align=\"left\"><font color=\"salmon\">&nbsp;5.</font><font color=\"salmon\"> Dictionaries </font> </h2></a>\n",
    "\n",
    "We will now learn how to use a dictionary. Dictionaries are identified by their `{ }`. \n",
    "1. Create key-value pair\n",
    "2. Updating key-value pair\n",
    "3. Retrieving value from key-value pair\n",
    "4. Deleting key-value pair \n",
    "5. Check if key exists within a dictionary\n",
    "\n",
    "<h4> IN-CLASS EXAMPLE: DICTIONARY FUNCTIONS </h4>\n",
    "In this example below, we will go through a simple example of using dictionary as a database."
   ]
  },
  {
   "cell_type": "markdown",
   "metadata": {},
   "source": [
    "##### Creating key-value pair\n",
    "You need to upload 2 new videos into your `all_videos_database`. Create a new key-value pairs with the following information:\n",
    "    \n",
    "|<center>Keys: Video Title</center>| <center>Values: Views</center> | \n",
    "|:---| :----------- |\n",
    "|`\"Despacito\"`| `5500`|\n",
    "|`\"See You Again\"`| `12500`|\n",
    "\n",
    "<b> Expected output</b>:\n",
    "    \n",
    "    { \n",
    "        \"Gangnam Style\": 195000,\n",
    "        \"Despacito\": 5500,\n",
    "        \"See You Again\": 12500\n",
    "    }\n",
    "    "
   ]
  },
  {
   "cell_type": "code",
   "execution_count": 73,
   "metadata": {},
   "outputs": [
    {
     "name": "stdout",
     "output_type": "stream",
     "text": [
      "------ before ------\n",
      "{'Gangnam Style': 195000}\n",
      "------  after ------\n",
      "{'Gangnam Style': 195000, 'Despacito': 5500, 'See You Again': 12500}\n"
     ]
    }
   ],
   "source": [
    "print(\"------ before ------\")\n",
    "all_videos_database = { \n",
    "    \"Gangnam Style\": 195000 \n",
    "}\n",
    "print(all_videos_database)\n",
    "print(\"------  after ------\")\n",
    "\n",
    "# Write your code below:\n",
    "all_videos_database[\"Despacito\"] = 5500\n",
    "all_videos_database[\"See You Again\"] = 12500\n",
    "print(all_videos_database)"
   ]
  },
  {
   "cell_type": "markdown",
   "metadata": {},
   "source": [
    "##### Retrieving value from key-value pair\n",
    "Vin Diesel wants to see how many views `See You Again` got.\n",
    "\n",
    "<b>Expected Output</b>:\n",
    "\n",
    "    12500"
   ]
  },
  {
   "cell_type": "code",
   "execution_count": 74,
   "metadata": {},
   "outputs": [
    {
     "name": "stdout",
     "output_type": "stream",
     "text": [
      "195000\n"
     ]
    }
   ],
   "source": [
    "all_videos_database = { \n",
    "        \"Gangnam Style\": 195000,\n",
    "        \"Despacito\": 5500,\n",
    "        \"See You Again\": 12500\n",
    "}\n",
    "\n",
    "# Write your code below:\n",
    "print(all_videos_database[\"Gangnam Style\"])\n"
   ]
  },
  {
   "cell_type": "markdown",
   "metadata": {},
   "source": [
    "##### Updating key-value pair\n",
    "Alexa has kept playing `Despacito`. `Despacito` views has now <b>increased</b> by 100000.\n",
    "\n",
    "**IMPORTANT**\n",
    "\n",
    "Creating and updating is the **same** syntax! So even if the key exists in the dictionary, it just replaces the value entirely. If it doesn't exist in the dictionary, it creates a new key-value pair entry. \n",
    "\n",
    "<b>Expected Output</b>:\n",
    "\n",
    "\n",
    "    { \n",
    "        \"Gangnam Style\": 195000,\n",
    "        \"Despacito\": 105500,\n",
    "        \"See You Again\": 12500\n",
    "    }"
   ]
  },
  {
   "cell_type": "code",
   "execution_count": 79,
   "metadata": {},
   "outputs": [
    {
     "name": "stdout",
     "output_type": "stream",
     "text": [
      "------ before ------\n",
      "{'Gangnam Style': 195000, 'Despacito': 5500, 'See You Again': 12500}\n",
      "------  after ------\n",
      "{'Gangnam Style': 195000, 'Despacito': 105500, 'See You Again': 12500}\n"
     ]
    }
   ],
   "source": [
    "print(\"------ before ------\")\n",
    "all_videos_database = { \n",
    "        \"Gangnam Style\": 195000,\n",
    "        \"Despacito\": 5500,\n",
    "        \"See You Again\": 12500\n",
    "    }\n",
    "print(all_videos_database)\n",
    "print(\"------  after ------\")\n",
    "\n",
    "# Write your code below:\n",
    "\n",
    "all_videos_database[\"Despacito\"] += 100000\n",
    "print(all_videos_database)"
   ]
  },
  {
   "cell_type": "markdown",
   "metadata": {},
   "source": [
    "##### Deleting key-value pair\n",
    "`Gangnam Style` is now out of style. Remove it from our `all_videos_database`. Using the <font color='green'><b>del</b></font> function, remove the key `Gangnam Style` from `all_videos_database`.\n",
    "\n",
    "<b>Expected Output</b>:\n",
    "\n",
    "    { \n",
    "        \"Despacito\": 105500,\n",
    "        \"See You Again\": 12500\n",
    "    }"
   ]
  },
  {
   "cell_type": "code",
   "execution_count": 80,
   "metadata": {},
   "outputs": [
    {
     "name": "stdout",
     "output_type": "stream",
     "text": [
      "------ before ------\n",
      "{'Gangnam Style': 195000, 'Despacito': 105500, 'See You Again': 12500}\n",
      "\n",
      "------  after ------\n",
      "{'Despacito': 105500, 'See You Again': 12500}\n"
     ]
    }
   ],
   "source": [
    "print(\"------ before ------\")\n",
    "all_videos_database = { \n",
    "        \"Gangnam Style\": 195000,\n",
    "        \"Despacito\": 105500,\n",
    "        \"See You Again\": 12500\n",
    "    }\n",
    "print(all_videos_database)\n",
    "print()\n",
    "print(\"------  after ------\")\n",
    "\n",
    "# Write your code below:\n",
    "del all_videos_database['Gangnam Style']\n",
    "print(all_videos_database)\n"
   ]
  },
  {
   "cell_type": "markdown",
   "metadata": {},
   "source": [
    "##### Check if key exists in dictionary\n",
    "Some people are still living in the past. Check if `Gangnam Style` still exists within `all_videos_database`. \n",
    "\n",
    "<b>Expected Output</b>:\n",
    "    \n",
    "    False"
   ]
  },
  {
   "cell_type": "code",
   "execution_count": 81,
   "metadata": {},
   "outputs": [
    {
     "name": "stdout",
     "output_type": "stream",
     "text": [
      "False\n"
     ]
    }
   ],
   "source": [
    "#code below\n",
    "all_videos_database = { \n",
    "        \"Despacito\": 105500,\n",
    "        \"See You Again\": 12500\n",
    "}\n",
    "\n",
    "# Write your code below:\n",
    "print('Gangnam Style' in all_videos_database)\n"
   ]
  },
  {
   "cell_type": "markdown",
   "metadata": {},
   "source": [
    "<a id='P3'><h2> <img src=\"https://cdn.shopify.com/s/files/1/1200/7374/products/book_aec28e76-52ec-44ab-bc01-41df1279c89f_550x825.png?v=1473897430\" width=25 align=\"left\"> <font color=\"darkorange\"> &nbsp; Practice III </font><font color=\"skyblue\"> * </font></h2></a>\n",
    "\n",
    "Complete the following questions to test your overall understanding on list functions:\n",
    "\n",
    "1. Create a new dictionary database called `my_class` as an empty dictionary\n",
    "2. Add the following key-value pairs:\n",
    "\n",
    "|<center>Keys</center>| <center>Values</center> | Type |\n",
    "|:---| :----------- |---|\n",
    "|`\"Instructor\"`| `\"Your Instructor\"`| `String` |\n",
    "|`\"TAs\"`| `[\"TA1\",\"TA2\",\"TA3\"]`| `List`|\n",
    "|`\"Students\"`| 40 | `Int`|\n",
    "\n",
    "3. Add a fourth TA to your database\n",
    "4. Someone from another class has joined for make up. Update your database by 1 count\n",
    "\n",
    "[Click here for the summary of all list and dictionary functions](#S)\n",
    "\n",
    "<b>Final Expected Output</b>:\n",
    "```python\n",
    "    {\n",
    "        \"Instructor\": \"Your Instructor\",\n",
    "        \"TAs\": [\"TA1\",\"TA2\",\"TA3\",\"TA4\"]\n",
    "        \"Students\": 41\n",
    "    }\n",
    "```"
   ]
  },
  {
   "cell_type": "code",
   "execution_count": 92,
   "metadata": {},
   "outputs": [
    {
     "name": "stdout",
     "output_type": "stream",
     "text": [
      "{'Instructor': 'Your Instructor', 'TAs': ['TA1', 'TA2', 'TA3', 'TA4'], 'Students': 41}\n"
     ]
    }
   ],
   "source": [
    "# 1.\n",
    "my_class = {}\n",
    "\n",
    "# 2.\n",
    "my_class[\"Instructor\"] = \"Your Instructor\"\n",
    "my_class[\"TAs\"] = [\"TA1\",\"TA2\",\"TA3\"]\n",
    "my_class[\"Students\"] = 40\n",
    "\n",
    "# 3.\n",
    "my_class[\"TAs\"].append(\"TA4\")\n",
    "\n",
    "# 4.\n",
    "my_class[\"Students\"] += 1 \n",
    "print(my_class)"
   ]
  },
  {
   "cell_type": "code",
   "execution_count": null,
   "metadata": {},
   "outputs": [],
   "source": []
  },
  {
   "cell_type": "markdown",
   "metadata": {},
   "source": [
    "<a id='5.1'><h3>5.1 Dictionary Keys Are Unique - Re-emphasis</h3></a>\n",
    "\n",
    "The keys in dictionaries are always unique. There will never be duplicate keys!"
   ]
  },
  {
   "cell_type": "code",
   "execution_count": 94,
   "metadata": {},
   "outputs": [
    {
     "name": "stdout",
     "output_type": "stream",
     "text": [
      "{'Gangnam Style': 195000, 'Despacito': 5500, 'See You Again': 9999}\n"
     ]
    }
   ],
   "source": [
    "all_videos_database = { \n",
    "        \"Gangnam Style\": 195000,\n",
    "        \"Despacito\": 5500,\n",
    "        \"See You Again\": 12500\n",
    "}\n",
    "\n",
    "# This means that there are 3 unique videos\n",
    "# Not possible to add another video of the same name\n",
    "all_videos_database[\"See You Again\"] = 9999\n",
    "print(all_videos_database)"
   ]
  },
  {
   "cell_type": "markdown",
   "metadata": {},
   "source": [
    "<a id=\"3.1\"><h2><img src=\"https://img.icons8.com/color/50/000000/blunt-bulb.png\" width=23 align=\"left\"><font color=\"dodgerblue\"> Lists, Tuples & Dictionary </font> </h2></a> \n",
    "\n",
    "<img src=\"https://i.imgur.com/aE84Rm9.png\" width=600>"
   ]
  },
  {
   "cell_type": "markdown",
   "metadata": {},
   "source": [
    "<a id=\"S\"><h2> <center> Important Collections Functions (methods) </center> </h2></a>\n",
    "<h3> <center> Creation </center></h3>\n",
    "\n",
    "|Collection Type | Function | Examples |\n",
    "| ---------|---------|---------|\n",
    "| `list` | <center>None</center>| `new_list = []` <br><br> `new_list = [1,2,3,4]` |\n",
    "| `tuple`| <center>None</center>| `new_tuple = (10,20,30)`|\n",
    "| `dict` | <center>None</center>| `new_dict = {}` <br><br> `new_dict = {'a': 1, 'b':2}`|\n",
    "\n",
    "<h3> <center> Add / Appending Data </center></h3>\n",
    "\n",
    "|Collection Type | Functions | Examples | Resulting Output|\n",
    "| ---------|---------|---------| ------ |\n",
    "| `list` | <center>`.append()`</center>| `new_list = [1,2,3]` <br><br> `new_list.append(4)` | `[1,2,3,4]`|\n",
    "| `list` | <center>`.extend()`</center>| `new_list = [1,2]` <br><br> `new_list.extend([3,4])` | `[1,2,3,4]`|\n",
    "| `tuple`| <center>Cannot change structure at all</center>| Nil | Nil|\n",
    "| `dict` | <center>None</center>| `new_dict = {}` <br><br> `new_dict['a'] = 1` <br><br> `new_dict['b'] = 2` | `{'a': 1, 'b':2}`|\n",
    "\n",
    "<h3> <center> Updating / Changing Data </center></h3>\n",
    "\n",
    "|Collection Type | Functions | Examples | Resulting Output|\n",
    "| ---------|---------|---------| ------ |\n",
    "| `list` | <center>None</center>| `new_list = [1,2,3]` <br><br> `new_list[0] = 5` | `[5,2,3]`|\n",
    "| `tuple`| <center>Cannot change structure at all</center>| Nil | Nil|\n",
    "| `dict` | <center>None</center>| `new_dict = {'a': 1, 'b':2}` <br><br> `new_dict['a'] = 10`| `{'a': 10, 'b':2}`|\n",
    "\n",
    "<h3> <center> Accessing / Taking Out Data </center></h3>\n",
    "\n",
    "|Collection Type | Functions | x to be| Examples |\n",
    "| ---------|---------|---------| ------ |\n",
    "| `list` | <center>None</center>| 3 |`new_list = [1,2,3]` <br><br> `x = new_list[2] `|\n",
    "| `list of list` | <center>None</center>|3 |`new_list = [[1,2],[3,4]]` <br><br> `x = new_list[1][0] `|\n",
    "| `list of dict` | <center>None</center>| 2 |`new_list = [{'a':1},{'b':2}]` <br><br> `x = new_list[1]['b'] `|\n",
    "| `tuple`| <center>None</center>| 3 |`new_tuple = (1,2,3)` <br><br> `x = new_list[2] ` |\n",
    "| `dict` | <center>None</center>| 2|`new_dict = {'a': 1, 'b':2}` <br><br> `x = new_dict['b']`|"
   ]
  },
  {
   "cell_type": "markdown",
   "metadata": {},
   "source": [
    "<a id='4'><h2><img src=\"https://images.vexels.com/media/users/3/153978/isolated/preview/483ef8b10a46e28d02293a31570c8c56-warning-sign-colored-stroke-icon-by-vexels.png\" width=23 align=\"left\"><font color=\"salmon\">&nbsp;4.</font><font color=\"salmon\"> Nested Collections </font> </h2></a>\n",
    "\n",
    "By combining the two different types, `list` and `dict`, we have a better way to organise our data. Take the following as an example. \n",
    "\n",
    "Given the following list of historical three days video views data of two videos, find the engagement score of each video, where engagement score is comments/views.\n",
    "\n",
    "<img src=\"https://i.imgur.com/q2n6lut.png\" width=\"300\"/>\n",
    "\n",
    "<b>Expected output</b>: \n",
    "\n",
    "    0.15\n",
    "    0.05\n",
    "    "
   ]
  },
  {
   "cell_type": "code",
   "execution_count": 104,
   "metadata": {},
   "outputs": [
    {
     "name": "stdout",
     "output_type": "stream",
     "text": [
      "0.15\n",
      "0.05\n"
     ]
    }
   ],
   "source": [
    "hist_video_views = [\n",
    "    {  # row 1\n",
    "        # column header : actual data\n",
    "        'video_title': 'despacito',\n",
    "        'comments': 150,\n",
    "        'views': 1000\n",
    "    },\n",
    "    {  # row 2\n",
    "        'video_title': 'im yours',\n",
    "        'comments': 100,\n",
    "        'views': 2000\n",
    "    }\n",
    "]\n",
    "\n",
    "# Write your code below:\n",
    "engagement_score1 = hist_video_views[0][\"comments\"]/hist_video_views[0][\"views\"]\n",
    "engagement_score2 = hist_video_views[1][\"comments\"]/hist_video_views[1][\"views\"]\n",
    "\n",
    "print(engagement_score1)\n",
    "print(engagement_score2)\n"
   ]
  },
  {
   "cell_type": "markdown",
   "metadata": {},
   "source": [
    "<a id='5'><h2><img src=\"https://images.vexels.com/media/users/3/153978/isolated/preview/483ef8b10a46e28d02293a31570c8c56-warning-sign-colored-stroke-icon-by-vexels.png\" width=23 align=\"left\"><font color=\"salmon\">&nbsp;5.</font><font color=\"salmon\"> Which Collections to Use? </font> </h2></a>\n",
    "\n",
    "When given a dataset, we will sometimes want to partition our dataset into more manageable parts. This requires us to know which collection to use and when to use them. To decide we need to ask the following questions:\n",
    "\n",
    "1. What do you want to store?\n",
    "2. What do you want to use it for? \n",
    "3. How do you want to identify your collections?\n",
    "\n",
    "Let's compare again the difference between the 3 types\n",
    "\n",
    "<img src=\"https://i.imgur.com/aE84Rm9.png\" width=600>"
   ]
  },
  {
   "cell_type": "markdown",
   "metadata": {},
   "source": [
    "Let's consider the following sample dataset, where we have historical transactions of users Arya, Bran, Sansa. Your role is to restructure the following dataset into python collections for further processing.\n",
    "\n",
    "<img src='https://i.imgur.com/lAEcC8d.png' width='300'>"
   ]
  },
  {
   "cell_type": "markdown",
   "metadata": {},
   "source": [
    "#### A collection of all amounts\n",
    "\n",
    "Use case - Summary Statistics (i.e mean, mode, median, max, sum, min)"
   ]
  },
  {
   "cell_type": "code",
   "execution_count": null,
   "metadata": {},
   "outputs": [],
   "source": [
    "amounts = [10000, 5000, 4500, -1000, 3000, -8000, 1000, 2500]"
   ]
  },
  {
   "cell_type": "markdown",
   "metadata": {},
   "source": [
    "#### A collection of the number of times each user appears\n",
    "\n",
    "Use case: Find most common users"
   ]
  },
  {
   "cell_type": "code",
   "execution_count": null,
   "metadata": {},
   "outputs": [],
   "source": [
    "counts = {\n",
    "    \"Arya\" : 3,\n",
    "    \"Bran\" : 3,\n",
    "    \"Sansa\" : 2\n",
    "}"
   ]
  },
  {
   "cell_type": "markdown",
   "metadata": {},
   "source": [
    "#### A collection of each user and their spending amount\n",
    "\n",
    "Use case: User profiling"
   ]
  },
  {
   "cell_type": "code",
   "execution_count": null,
   "metadata": {},
   "outputs": [],
   "source": [
    "spending = {\n",
    "    \"Arya\": [10000,-8000,1000]\n",
    "}"
   ]
  }
 ],
 "metadata": {
  "kernelspec": {
   "display_name": "Python 3",
   "language": "python",
   "name": "python3"
  },
  "language_info": {
   "codemirror_mode": {
    "name": "ipython",
    "version": 3
   },
   "file_extension": ".py",
   "mimetype": "text/x-python",
   "name": "python",
   "nbconvert_exporter": "python",
   "pygments_lexer": "ipython3",
   "version": "3.7.6"
  }
 },
 "nbformat": 4,
 "nbformat_minor": 2
}
